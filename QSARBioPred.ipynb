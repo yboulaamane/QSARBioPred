{
 "cells": [
  {
   "cell_type": "markdown",
   "metadata": {},
   "source": [
    "# QSARBioPred: ML and AI based QSAR modeling for bioactivity prediction of drugs"
   ]
  },
  {
   "cell_type": "markdown",
   "metadata": {},
   "source": [
    "## 1. Required Libraries\n",
    "\n",
    "**RDkit:** Provides extensive cheminformatics functionality for working with chemical structures, including fingerprint calculation.    \n",
    "**Pandas:** Offers robust tools for data manipulation, analysis, and the creation of tabular data structures (DataFrames).  \n",
    "**ChEMBL web resource client:** Facilitates interaction with the ChEMBL database, allowing you to access and retrieve chemical data programmatically.  \n",
    "**Scikit-learn:** A versatile machine learning library with a wide range of algorithms for classification, regression, clustering, and more.  \n",
    "**XGBoost:** Provides a powerful implementation of gradient boosting decision trees, often used for achieving state-of-the-art results on structured data.  \n",
    "**TensorFlow:** A platform for large-scale numerical computation and machine learning, particularly well-suited for deep learning.  "
   ]
  },
  {
   "cell_type": "code",
   "execution_count": 1,
   "metadata": {
    "colab": {
     "base_uri": "https://localhost:8080/"
    },
    "id": "1J00Y-m3DI9g",
    "outputId": "2940ed93-9d19-4861-e3ea-efafc3556804"
   },
   "outputs": [
    {
     "name": "stdout",
     "output_type": "stream",
     "text": [
      "Collecting rdkit-pypi\n",
      "  Downloading rdkit_pypi-2022.9.5-cp310-cp310-manylinux_2_17_x86_64.manylinux2014_x86_64.whl (29.4 MB)\n",
      "\u001b[2K     \u001b[90m━━━━━━━━━━━━━━━━━━━━━━━━━━━━━━━━━━━━━━━━\u001b[0m \u001b[32m29.4/29.4 MB\u001b[0m \u001b[31m23.5 MB/s\u001b[0m eta \u001b[36m0:00:00\u001b[0m\n",
      "\u001b[?25hRequirement already satisfied: numpy in /usr/local/lib/python3.10/dist-packages (from rdkit-pypi) (1.25.2)\n",
      "Requirement already satisfied: Pillow in /usr/local/lib/python3.10/dist-packages (from rdkit-pypi) (9.4.0)\n",
      "Installing collected packages: rdkit-pypi\n",
      "Successfully installed rdkit-pypi-2022.9.5\n"
     ]
    }
   ],
   "source": [
    "!pip install rdkit-pypi"
   ]
  },
  {
   "cell_type": "code",
   "execution_count": 2,
   "metadata": {
    "colab": {
     "base_uri": "https://localhost:8080/"
    },
    "id": "G6lZHwmeDJFP",
    "outputId": "915e0fcd-b8fb-49d6-9e81-a001248ef9ea"
   },
   "outputs": [
    {
     "name": "stdout",
     "output_type": "stream",
     "text": [
      "Collecting chembl-webresource-client\n",
      "  Downloading chembl_webresource_client-0.10.8-py3-none-any.whl (55 kB)\n",
      "\u001b[2K     \u001b[90m━━━━━━━━━━━━━━━━━━━━━━━━━━━━━━━━━━━━━━━━\u001b[0m \u001b[32m55.2/55.2 kB\u001b[0m \u001b[31m1.1 MB/s\u001b[0m eta \u001b[36m0:00:00\u001b[0ma \u001b[36m0:00:01\u001b[0m\n",
      "\u001b[?25hRequirement already satisfied: urllib3 in /usr/local/lib/python3.10/dist-packages (from chembl-webresource-client) (2.0.7)\n",
      "Requirement already satisfied: requests>=2.18.4 in /usr/local/lib/python3.10/dist-packages (from chembl-webresource-client) (2.31.0)\n",
      "Collecting requests-cache~=0.7.0 (from chembl-webresource-client)\n",
      "  Downloading requests_cache-0.7.5-py3-none-any.whl (39 kB)\n",
      "Requirement already satisfied: easydict in /usr/local/lib/python3.10/dist-packages (from chembl-webresource-client) (1.12)\n",
      "Requirement already satisfied: charset-normalizer<4,>=2 in /usr/local/lib/python3.10/dist-packages (from requests>=2.18.4->chembl-webresource-client) (3.3.2)\n",
      "Requirement already satisfied: idna<4,>=2.5 in /usr/local/lib/python3.10/dist-packages (from requests>=2.18.4->chembl-webresource-client) (3.6)\n",
      "Requirement already satisfied: certifi>=2017.4.17 in /usr/local/lib/python3.10/dist-packages (from requests>=2.18.4->chembl-webresource-client) (2024.2.2)\n",
      "Collecting attrs<22.0,>=21.2 (from requests-cache~=0.7.0->chembl-webresource-client)\n",
      "  Downloading attrs-21.4.0-py2.py3-none-any.whl (60 kB)\n",
      "\u001b[2K     \u001b[90m━━━━━━━━━━━━━━━━━━━━━━━━━━━━━━━━━━━━━━━━\u001b[0m \u001b[32m60.6/60.6 kB\u001b[0m \u001b[31m5.8 MB/s\u001b[0m eta \u001b[36m0:00:00\u001b[0m\n",
      "\u001b[?25hRequirement already satisfied: itsdangerous>=2.0.1 in /usr/local/lib/python3.10/dist-packages (from requests-cache~=0.7.0->chembl-webresource-client) (2.1.2)\n",
      "Requirement already satisfied: pyyaml>=5.4 in /usr/local/lib/python3.10/dist-packages (from requests-cache~=0.7.0->chembl-webresource-client) (6.0.1)\n",
      "Collecting url-normalize<2.0,>=1.4 (from requests-cache~=0.7.0->chembl-webresource-client)\n",
      "  Downloading url_normalize-1.4.3-py2.py3-none-any.whl (6.8 kB)\n",
      "Requirement already satisfied: six in /usr/local/lib/python3.10/dist-packages (from url-normalize<2.0,>=1.4->requests-cache~=0.7.0->chembl-webresource-client) (1.16.0)\n",
      "Installing collected packages: url-normalize, attrs, requests-cache, chembl-webresource-client\n",
      "  Attempting uninstall: attrs\n",
      "    Found existing installation: attrs 23.2.0\n",
      "    Uninstalling attrs-23.2.0:\n",
      "      Successfully uninstalled attrs-23.2.0\n",
      "\u001b[31mERROR: pip's dependency resolver does not currently take into account all the packages that are installed. This behaviour is the source of the following dependency conflicts.\n",
      "lida 0.0.10 requires fastapi, which is not installed.\n",
      "lida 0.0.10 requires kaleido, which is not installed.\n",
      "lida 0.0.10 requires python-multipart, which is not installed.\n",
      "lida 0.0.10 requires uvicorn, which is not installed.\n",
      "jsonschema 4.19.2 requires attrs>=22.2.0, but you have attrs 21.4.0 which is incompatible.\n",
      "referencing 0.33.0 requires attrs>=22.2.0, but you have attrs 21.4.0 which is incompatible.\u001b[0m\u001b[31m\n",
      "\u001b[0mSuccessfully installed attrs-21.4.0 chembl-webresource-client-0.10.8 requests-cache-0.7.5 url-normalize-1.4.3\n"
     ]
    }
   ],
   "source": [
    "!pip install chembl-webresource-client"
   ]
  },
  {
   "cell_type": "markdown",
   "metadata": {
    "id": "ECxhI9DFC9mi"
   },
   "source": [
    "## 2. ChEMBL Bioactivity Data Retrieval and Pre-processing\n",
    "\n",
    "This section covers the steps required to connect to the ChEMBL database, query relevant bioactivity data of Acinetobacter baumannii, and perform initial pre-processing to prepare the data for further analysis.\n"
   ]
  },
  {
   "cell_type": "code",
   "execution_count": null,
   "metadata": {
    "id": "RXoCvMPPfNrv"
   },
   "outputs": [],
   "source": [
    "# Import necessary libraries\n",
    "import pandas as pd\n",
    "import numpy as np\n",
    "from chembl_webresource_client.new_client import new_client"
   ]
  },
  {
   "cell_type": "code",
   "execution_count": 2,
   "metadata": {
    "colab": {
     "base_uri": "https://localhost:8080/",
     "height": 985
    },
    "id": "D8LShUCLDcXB",
    "outputId": "0ce4646f-7e9e-4ff8-945c-961f5a25aac5"
   },
   "outputs": [
    {
     "data": {
      "text/html": [
       "<div>\n",
       "<style scoped>\n",
       "    .dataframe tbody tr th:only-of-type {\n",
       "        vertical-align: middle;\n",
       "    }\n",
       "\n",
       "    .dataframe tbody tr th {\n",
       "        vertical-align: top;\n",
       "    }\n",
       "\n",
       "    .dataframe thead th {\n",
       "        text-align: right;\n",
       "    }\n",
       "</style>\n",
       "<table border=\"1\" class=\"dataframe\">\n",
       "  <thead>\n",
       "    <tr style=\"text-align: right;\">\n",
       "      <th></th>\n",
       "      <th>cross_references</th>\n",
       "      <th>organism</th>\n",
       "      <th>pref_name</th>\n",
       "      <th>score</th>\n",
       "      <th>species_group_flag</th>\n",
       "      <th>target_chembl_id</th>\n",
       "      <th>target_components</th>\n",
       "      <th>target_type</th>\n",
       "      <th>tax_id</th>\n",
       "    </tr>\n",
       "  </thead>\n",
       "  <tbody>\n",
       "    <tr>\n",
       "      <th>0</th>\n",
       "      <td>[]</td>\n",
       "      <td>Acinetobacter baumannii</td>\n",
       "      <td>Acinetobacter baumannii</td>\n",
       "      <td>32.0</td>\n",
       "      <td>False</td>\n",
       "      <td>CHEMBL614425</td>\n",
       "      <td>[]</td>\n",
       "      <td>ORGANISM</td>\n",
       "      <td>470</td>\n",
       "    </tr>\n",
       "    <tr>\n",
       "      <th>1</th>\n",
       "      <td>[]</td>\n",
       "      <td>Acinetobacter</td>\n",
       "      <td>Acinetobacter</td>\n",
       "      <td>16.0</td>\n",
       "      <td>True</td>\n",
       "      <td>CHEMBL614424</td>\n",
       "      <td>[]</td>\n",
       "      <td>ORGANISM</td>\n",
       "      <td>469</td>\n",
       "    </tr>\n",
       "    <tr>\n",
       "      <th>2</th>\n",
       "      <td>[]</td>\n",
       "      <td>Acinetobacter calcoaceticus</td>\n",
       "      <td>Acinetobacter calcoaceticus</td>\n",
       "      <td>14.0</td>\n",
       "      <td>False</td>\n",
       "      <td>CHEMBL614426</td>\n",
       "      <td>[]</td>\n",
       "      <td>ORGANISM</td>\n",
       "      <td>471</td>\n",
       "    </tr>\n",
       "    <tr>\n",
       "      <th>3</th>\n",
       "      <td>[]</td>\n",
       "      <td>Acinetobacter sp.</td>\n",
       "      <td>Acinetobacter sp.</td>\n",
       "      <td>14.0</td>\n",
       "      <td>False</td>\n",
       "      <td>CHEMBL614427</td>\n",
       "      <td>[]</td>\n",
       "      <td>ORGANISM</td>\n",
       "      <td>472</td>\n",
       "    </tr>\n",
       "    <tr>\n",
       "      <th>4</th>\n",
       "      <td>[]</td>\n",
       "      <td>Acinetobacter lwoffii</td>\n",
       "      <td>Acinetobacter lwoffii</td>\n",
       "      <td>14.0</td>\n",
       "      <td>False</td>\n",
       "      <td>CHEMBL613778</td>\n",
       "      <td>[]</td>\n",
       "      <td>ORGANISM</td>\n",
       "      <td>28090</td>\n",
       "    </tr>\n",
       "    <tr>\n",
       "      <th>5</th>\n",
       "      <td>[]</td>\n",
       "      <td>Acinetobacter haemolyticus</td>\n",
       "      <td>Acinetobacter haemolyticus</td>\n",
       "      <td>14.0</td>\n",
       "      <td>False</td>\n",
       "      <td>CHEMBL613782</td>\n",
       "      <td>[]</td>\n",
       "      <td>ORGANISM</td>\n",
       "      <td>29430</td>\n",
       "    </tr>\n",
       "    <tr>\n",
       "      <th>6</th>\n",
       "      <td>[]</td>\n",
       "      <td>Acinetobacter radioresistens</td>\n",
       "      <td>Acinetobacter radioresistens</td>\n",
       "      <td>14.0</td>\n",
       "      <td>False</td>\n",
       "      <td>CHEMBL2366968</td>\n",
       "      <td>[]</td>\n",
       "      <td>ORGANISM</td>\n",
       "      <td>40216</td>\n",
       "    </tr>\n",
       "    <tr>\n",
       "      <th>7</th>\n",
       "      <td>[]</td>\n",
       "      <td>Acinetobacter pittii</td>\n",
       "      <td>Acinetobacter pittii</td>\n",
       "      <td>14.0</td>\n",
       "      <td>False</td>\n",
       "      <td>CHEMBL3140321</td>\n",
       "      <td>[]</td>\n",
       "      <td>ORGANISM</td>\n",
       "      <td>48296</td>\n",
       "    </tr>\n",
       "    <tr>\n",
       "      <th>8</th>\n",
       "      <td>[]</td>\n",
       "      <td>Acinetobacter baylyi</td>\n",
       "      <td>Acinetobacter baylyi</td>\n",
       "      <td>14.0</td>\n",
       "      <td>False</td>\n",
       "      <td>CHEMBL4630663</td>\n",
       "      <td>[]</td>\n",
       "      <td>ORGANISM</td>\n",
       "      <td>202950</td>\n",
       "    </tr>\n",
       "    <tr>\n",
       "      <th>9</th>\n",
       "      <td>[]</td>\n",
       "      <td>Acinetobacter calcoaceticus subsp. anitratus</td>\n",
       "      <td>Acinetobacter calcoaceticus subsp. anitratus</td>\n",
       "      <td>11.0</td>\n",
       "      <td>False</td>\n",
       "      <td>CHEMBL612453</td>\n",
       "      <td>[]</td>\n",
       "      <td>ORGANISM</td>\n",
       "      <td>107673</td>\n",
       "    </tr>\n",
       "    <tr>\n",
       "      <th>10</th>\n",
       "      <td>[{'xref_id': 'Q2TR58', 'xref_name': None, 'xre...</td>\n",
       "      <td>Acinetobacter baumannii</td>\n",
       "      <td>Carbapenem-hydrolyzing oxacillinase OXA-58</td>\n",
       "      <td>11.0</td>\n",
       "      <td>False</td>\n",
       "      <td>CHEMBL5153</td>\n",
       "      <td>[{'accession': 'Q2TR58', 'component_descriptio...</td>\n",
       "      <td>SINGLE PROTEIN</td>\n",
       "      <td>470</td>\n",
       "    </tr>\n",
       "    <tr>\n",
       "      <th>11</th>\n",
       "      <td>[]</td>\n",
       "      <td>Acinetobacter baumannii</td>\n",
       "      <td>Beta-lactamase</td>\n",
       "      <td>11.0</td>\n",
       "      <td>False</td>\n",
       "      <td>CHEMBL1075159</td>\n",
       "      <td>[{'accession': 'Q8RLA6', 'component_descriptio...</td>\n",
       "      <td>SINGLE PROTEIN</td>\n",
       "      <td>470</td>\n",
       "    </tr>\n",
       "    <tr>\n",
       "      <th>12</th>\n",
       "      <td>[{'xref_id': 'Q4F6N3', 'xref_name': None, 'xre...</td>\n",
       "      <td>Acinetobacter baumannii</td>\n",
       "      <td>Metallo-beta-lactamase</td>\n",
       "      <td>11.0</td>\n",
       "      <td>False</td>\n",
       "      <td>CHEMBL1255143</td>\n",
       "      <td>[{'accession': 'Q4F6N3', 'component_descriptio...</td>\n",
       "      <td>SINGLE PROTEIN</td>\n",
       "      <td>470</td>\n",
       "    </tr>\n",
       "    <tr>\n",
       "      <th>13</th>\n",
       "      <td>[]</td>\n",
       "      <td>Acinetobacter baumannii</td>\n",
       "      <td>Beta-lactamase ADC-33</td>\n",
       "      <td>11.0</td>\n",
       "      <td>False</td>\n",
       "      <td>CHEMBL1667700</td>\n",
       "      <td>[{'accession': 'B2ZTR6', 'component_descriptio...</td>\n",
       "      <td>SINGLE PROTEIN</td>\n",
       "      <td>470</td>\n",
       "    </tr>\n",
       "    <tr>\n",
       "      <th>14</th>\n",
       "      <td>[]</td>\n",
       "      <td>Acinetobacter baumannii</td>\n",
       "      <td>ADC-11</td>\n",
       "      <td>11.0</td>\n",
       "      <td>False</td>\n",
       "      <td>CHEMBL1667701</td>\n",
       "      <td>[{'accession': 'D6NSM8', 'component_descriptio...</td>\n",
       "      <td>SINGLE PROTEIN</td>\n",
       "      <td>470</td>\n",
       "    </tr>\n",
       "    <tr>\n",
       "      <th>15</th>\n",
       "      <td>[]</td>\n",
       "      <td>Acinetobacter baumannii</td>\n",
       "      <td>QacEdelta1 SMR family efflux pump</td>\n",
       "      <td>11.0</td>\n",
       "      <td>False</td>\n",
       "      <td>CHEMBL1681612</td>\n",
       "      <td>[{'accession': 'Q2FD83', 'component_descriptio...</td>\n",
       "      <td>SINGLE PROTEIN</td>\n",
       "      <td>470</td>\n",
       "    </tr>\n",
       "    <tr>\n",
       "      <th>16</th>\n",
       "      <td>[]</td>\n",
       "      <td>Acinetobacter baumannii</td>\n",
       "      <td>Extended-spectrum beta-lactamase SHV-48</td>\n",
       "      <td>11.0</td>\n",
       "      <td>False</td>\n",
       "      <td>CHEMBL2233620</td>\n",
       "      <td>[{'accession': 'Q83YP9', 'component_descriptio...</td>\n",
       "      <td>SINGLE PROTEIN</td>\n",
       "      <td>470</td>\n",
       "    </tr>\n",
       "    <tr>\n",
       "      <th>17</th>\n",
       "      <td>[]</td>\n",
       "      <td>Acinetobacter baumannii</td>\n",
       "      <td>Beta-lactamase OXA-23</td>\n",
       "      <td>11.0</td>\n",
       "      <td>False</td>\n",
       "      <td>CHEMBL3885669</td>\n",
       "      <td>[{'accession': 'Q9L4P2', 'component_descriptio...</td>\n",
       "      <td>SINGLE PROTEIN</td>\n",
       "      <td>470</td>\n",
       "    </tr>\n",
       "    <tr>\n",
       "      <th>18</th>\n",
       "      <td>[]</td>\n",
       "      <td>Acinetobacter baumannii</td>\n",
       "      <td>Penicillin-binding protein 1B</td>\n",
       "      <td>11.0</td>\n",
       "      <td>False</td>\n",
       "      <td>CHEMBL4295546</td>\n",
       "      <td>[{'accession': 'G1C7A4', 'component_descriptio...</td>\n",
       "      <td>SINGLE PROTEIN</td>\n",
       "      <td>470</td>\n",
       "    </tr>\n",
       "    <tr>\n",
       "      <th>19</th>\n",
       "      <td>[]</td>\n",
       "      <td>Acinetobacter baumannii</td>\n",
       "      <td>Beta-lactamase</td>\n",
       "      <td>11.0</td>\n",
       "      <td>False</td>\n",
       "      <td>CHEMBL4295954</td>\n",
       "      <td>[{'accession': 'Q9L4R5', 'component_descriptio...</td>\n",
       "      <td>SINGLE PROTEIN</td>\n",
       "      <td>470</td>\n",
       "    </tr>\n",
       "    <tr>\n",
       "      <th>20</th>\n",
       "      <td>[]</td>\n",
       "      <td>Acinetobacter baumannii</td>\n",
       "      <td>Ditrans,polycis-undecaprenyl-diphosphate synth...</td>\n",
       "      <td>11.0</td>\n",
       "      <td>False</td>\n",
       "      <td>CHEMBL4523937</td>\n",
       "      <td>[{'accession': 'V5VCK8', 'component_descriptio...</td>\n",
       "      <td>SINGLE PROTEIN</td>\n",
       "      <td>470</td>\n",
       "    </tr>\n",
       "  </tbody>\n",
       "</table>\n",
       "</div>"
      ],
      "text/plain": [
       "                                     cross_references  \\\n",
       "0                                                  []   \n",
       "1                                                  []   \n",
       "2                                                  []   \n",
       "3                                                  []   \n",
       "4                                                  []   \n",
       "5                                                  []   \n",
       "6                                                  []   \n",
       "7                                                  []   \n",
       "8                                                  []   \n",
       "9                                                  []   \n",
       "10  [{'xref_id': 'Q2TR58', 'xref_name': None, 'xre...   \n",
       "11                                                 []   \n",
       "12  [{'xref_id': 'Q4F6N3', 'xref_name': None, 'xre...   \n",
       "13                                                 []   \n",
       "14                                                 []   \n",
       "15                                                 []   \n",
       "16                                                 []   \n",
       "17                                                 []   \n",
       "18                                                 []   \n",
       "19                                                 []   \n",
       "20                                                 []   \n",
       "\n",
       "                                        organism  \\\n",
       "0                        Acinetobacter baumannii   \n",
       "1                                  Acinetobacter   \n",
       "2                    Acinetobacter calcoaceticus   \n",
       "3                              Acinetobacter sp.   \n",
       "4                          Acinetobacter lwoffii   \n",
       "5                     Acinetobacter haemolyticus   \n",
       "6                   Acinetobacter radioresistens   \n",
       "7                           Acinetobacter pittii   \n",
       "8                           Acinetobacter baylyi   \n",
       "9   Acinetobacter calcoaceticus subsp. anitratus   \n",
       "10                       Acinetobacter baumannii   \n",
       "11                       Acinetobacter baumannii   \n",
       "12                       Acinetobacter baumannii   \n",
       "13                       Acinetobacter baumannii   \n",
       "14                       Acinetobacter baumannii   \n",
       "15                       Acinetobacter baumannii   \n",
       "16                       Acinetobacter baumannii   \n",
       "17                       Acinetobacter baumannii   \n",
       "18                       Acinetobacter baumannii   \n",
       "19                       Acinetobacter baumannii   \n",
       "20                       Acinetobacter baumannii   \n",
       "\n",
       "                                            pref_name  score  \\\n",
       "0                             Acinetobacter baumannii   32.0   \n",
       "1                                       Acinetobacter   16.0   \n",
       "2                         Acinetobacter calcoaceticus   14.0   \n",
       "3                                   Acinetobacter sp.   14.0   \n",
       "4                               Acinetobacter lwoffii   14.0   \n",
       "5                          Acinetobacter haemolyticus   14.0   \n",
       "6                        Acinetobacter radioresistens   14.0   \n",
       "7                                Acinetobacter pittii   14.0   \n",
       "8                                Acinetobacter baylyi   14.0   \n",
       "9        Acinetobacter calcoaceticus subsp. anitratus   11.0   \n",
       "10         Carbapenem-hydrolyzing oxacillinase OXA-58   11.0   \n",
       "11                                     Beta-lactamase   11.0   \n",
       "12                             Metallo-beta-lactamase   11.0   \n",
       "13                              Beta-lactamase ADC-33   11.0   \n",
       "14                                             ADC-11   11.0   \n",
       "15                  QacEdelta1 SMR family efflux pump   11.0   \n",
       "16            Extended-spectrum beta-lactamase SHV-48   11.0   \n",
       "17                              Beta-lactamase OXA-23   11.0   \n",
       "18                      Penicillin-binding protein 1B   11.0   \n",
       "19                                     Beta-lactamase   11.0   \n",
       "20  Ditrans,polycis-undecaprenyl-diphosphate synth...   11.0   \n",
       "\n",
       "    species_group_flag target_chembl_id  \\\n",
       "0                False     CHEMBL614425   \n",
       "1                 True     CHEMBL614424   \n",
       "2                False     CHEMBL614426   \n",
       "3                False     CHEMBL614427   \n",
       "4                False     CHEMBL613778   \n",
       "5                False     CHEMBL613782   \n",
       "6                False    CHEMBL2366968   \n",
       "7                False    CHEMBL3140321   \n",
       "8                False    CHEMBL4630663   \n",
       "9                False     CHEMBL612453   \n",
       "10               False       CHEMBL5153   \n",
       "11               False    CHEMBL1075159   \n",
       "12               False    CHEMBL1255143   \n",
       "13               False    CHEMBL1667700   \n",
       "14               False    CHEMBL1667701   \n",
       "15               False    CHEMBL1681612   \n",
       "16               False    CHEMBL2233620   \n",
       "17               False    CHEMBL3885669   \n",
       "18               False    CHEMBL4295546   \n",
       "19               False    CHEMBL4295954   \n",
       "20               False    CHEMBL4523937   \n",
       "\n",
       "                                    target_components     target_type  tax_id  \n",
       "0                                                  []        ORGANISM     470  \n",
       "1                                                  []        ORGANISM     469  \n",
       "2                                                  []        ORGANISM     471  \n",
       "3                                                  []        ORGANISM     472  \n",
       "4                                                  []        ORGANISM   28090  \n",
       "5                                                  []        ORGANISM   29430  \n",
       "6                                                  []        ORGANISM   40216  \n",
       "7                                                  []        ORGANISM   48296  \n",
       "8                                                  []        ORGANISM  202950  \n",
       "9                                                  []        ORGANISM  107673  \n",
       "10  [{'accession': 'Q2TR58', 'component_descriptio...  SINGLE PROTEIN     470  \n",
       "11  [{'accession': 'Q8RLA6', 'component_descriptio...  SINGLE PROTEIN     470  \n",
       "12  [{'accession': 'Q4F6N3', 'component_descriptio...  SINGLE PROTEIN     470  \n",
       "13  [{'accession': 'B2ZTR6', 'component_descriptio...  SINGLE PROTEIN     470  \n",
       "14  [{'accession': 'D6NSM8', 'component_descriptio...  SINGLE PROTEIN     470  \n",
       "15  [{'accession': 'Q2FD83', 'component_descriptio...  SINGLE PROTEIN     470  \n",
       "16  [{'accession': 'Q83YP9', 'component_descriptio...  SINGLE PROTEIN     470  \n",
       "17  [{'accession': 'Q9L4P2', 'component_descriptio...  SINGLE PROTEIN     470  \n",
       "18  [{'accession': 'G1C7A4', 'component_descriptio...  SINGLE PROTEIN     470  \n",
       "19  [{'accession': 'Q9L4R5', 'component_descriptio...  SINGLE PROTEIN     470  \n",
       "20  [{'accession': 'V5VCK8', 'component_descriptio...  SINGLE PROTEIN     470  "
      ]
     },
     "execution_count": 2,
     "metadata": {},
     "output_type": "execute_result"
    }
   ],
   "source": [
    "# Target search for A. baumannii\n",
    "target = new_client.target\n",
    "target_query = target.search('Acinetobacter baumannii')\n",
    "targets = pd.DataFrame.from_dict(target_query)\n",
    "targets"
   ]
  },
  {
   "cell_type": "code",
   "execution_count": 3,
   "metadata": {
    "colab": {
     "base_uri": "https://localhost:8080/",
     "height": 36
    },
    "id": "INKhgCmXDceP",
    "outputId": "496746d9-1a05-4912-b191-9f409b86096f"
   },
   "outputs": [
    {
     "data": {
      "text/plain": [
       "'CHEMBL614425'"
      ]
     },
     "execution_count": 3,
     "metadata": {},
     "output_type": "execute_result"
    }
   ],
   "source": [
    "# Target selection\n",
    "selected_target = targets.target_chembl_id[0]\n",
    "selected_target"
   ]
  },
  {
   "cell_type": "code",
   "execution_count": 4,
   "metadata": {
    "id": "M7bftja0Dck_"
   },
   "outputs": [],
   "source": [
    "# Here we specifiy antimicrobial activities with MIC and ug.mL-1\n",
    "activities = new_client.activity\n",
    "res = activities.filter(target_chembl_id=selected_target) \\\n",
    "                .filter(standard_type=\"MIC\") \\\n",
    "                .filter(standard_units=\"ug.mL-1\")"
   ]
  },
  {
   "cell_type": "code",
   "execution_count": 5,
   "metadata": {
    "id": "bgFoHW5UDcrt"
   },
   "outputs": [],
   "source": [
    "# Save the bioactivity data in Pandas dataframe for processing\n",
    "df = pd.DataFrame(res, columns=['molecule_chembl_id', 'canonical_smiles', 'standard_type', 'standard_value', 'standard_units'])"
   ]
  },
  {
   "cell_type": "code",
   "execution_count": 6,
   "metadata": {
    "colab": {
     "base_uri": "https://localhost:8080/",
     "height": 423
    },
    "id": "NQdxBNPtD0xl",
    "outputId": "b19c2ee4-2d88-4c43-ee7e-82fd89278540"
   },
   "outputs": [
    {
     "data": {
      "text/html": [
       "<div>\n",
       "<style scoped>\n",
       "    .dataframe tbody tr th:only-of-type {\n",
       "        vertical-align: middle;\n",
       "    }\n",
       "\n",
       "    .dataframe tbody tr th {\n",
       "        vertical-align: top;\n",
       "    }\n",
       "\n",
       "    .dataframe thead th {\n",
       "        text-align: right;\n",
       "    }\n",
       "</style>\n",
       "<table border=\"1\" class=\"dataframe\">\n",
       "  <thead>\n",
       "    <tr style=\"text-align: right;\">\n",
       "      <th></th>\n",
       "      <th>molecule_chembl_id</th>\n",
       "      <th>canonical_smiles</th>\n",
       "      <th>standard_type</th>\n",
       "      <th>standard_value</th>\n",
       "      <th>standard_units</th>\n",
       "    </tr>\n",
       "  </thead>\n",
       "  <tbody>\n",
       "    <tr>\n",
       "      <th>0</th>\n",
       "      <td>CHEMBL324974</td>\n",
       "      <td>C[C@H](N)C(=O)N(C)[C@@H](C)[C@H](NC(=O)[C@H](C...</td>\n",
       "      <td>MIC</td>\n",
       "      <td>64.0</td>\n",
       "      <td>ug.mL-1</td>\n",
       "    </tr>\n",
       "    <tr>\n",
       "      <th>1</th>\n",
       "      <td>CHEMBL1201259</td>\n",
       "      <td>CN[C@@H]1[C@@H](O)[C@@H](O[C@@H]2[C@@H](O)[C@H...</td>\n",
       "      <td>MIC</td>\n",
       "      <td>32.0</td>\n",
       "      <td>ug.mL-1</td>\n",
       "    </tr>\n",
       "    <tr>\n",
       "      <th>2</th>\n",
       "      <td>CHEMBL1384</td>\n",
       "      <td>NC[C@H]1O[C@H](O[C@H]2[C@H](O)[C@@H](O[C@H]3O[...</td>\n",
       "      <td>MIC</td>\n",
       "      <td>4.0</td>\n",
       "      <td>ug.mL-1</td>\n",
       "    </tr>\n",
       "    <tr>\n",
       "      <th>3</th>\n",
       "      <td>CHEMBL272080</td>\n",
       "      <td>CN[C@@H]1[C@@H](O)[C@@H](O[C@@H]2[C@@H](O)[C@H...</td>\n",
       "      <td>MIC</td>\n",
       "      <td>32.0</td>\n",
       "      <td>ug.mL-1</td>\n",
       "    </tr>\n",
       "    <tr>\n",
       "      <th>4</th>\n",
       "      <td>CHEMBL142949</td>\n",
       "      <td>CCNC1CC(N)C(OC2OC(CNC(=O)C(C)N)=CCC2N)C(O)C1OC...</td>\n",
       "      <td>MIC</td>\n",
       "      <td>128.0</td>\n",
       "      <td>ug.mL-1</td>\n",
       "    </tr>\n",
       "    <tr>\n",
       "      <th>...</th>\n",
       "      <td>...</td>\n",
       "      <td>...</td>\n",
       "      <td>...</td>\n",
       "      <td>...</td>\n",
       "      <td>...</td>\n",
       "    </tr>\n",
       "    <tr>\n",
       "      <th>8398</th>\n",
       "      <td>CHEMBL262777</td>\n",
       "      <td>CN[C@H](CC(C)C)C(=O)N[C@H]1C(=O)N[C@@H](CC(N)=...</td>\n",
       "      <td>MIC</td>\n",
       "      <td>50.0</td>\n",
       "      <td>ug.mL-1</td>\n",
       "    </tr>\n",
       "    <tr>\n",
       "      <th>8399</th>\n",
       "      <td>CHEMBL8</td>\n",
       "      <td>O=C(O)c1cn(C2CC2)c2cc(N3CCNCC3)c(F)cc2c1=O</td>\n",
       "      <td>MIC</td>\n",
       "      <td>0.78</td>\n",
       "      <td>ug.mL-1</td>\n",
       "    </tr>\n",
       "    <tr>\n",
       "      <th>8400</th>\n",
       "      <td>CHEMBL5220066</td>\n",
       "      <td>CC(C)=CCn1c2ccccc2c2c(OCC(O)CN(Cc3ccccn3)Cc3cc...</td>\n",
       "      <td>MIC</td>\n",
       "      <td>0.78</td>\n",
       "      <td>ug.mL-1</td>\n",
       "    </tr>\n",
       "    <tr>\n",
       "      <th>8401</th>\n",
       "      <td>CHEMBL5220066</td>\n",
       "      <td>CC(C)=CCn1c2ccccc2c2c(OCC(O)CN(Cc3ccccn3)Cc3cc...</td>\n",
       "      <td>MIC</td>\n",
       "      <td>3.125</td>\n",
       "      <td>ug.mL-1</td>\n",
       "    </tr>\n",
       "    <tr>\n",
       "      <th>8402</th>\n",
       "      <td>CHEMBL5220066</td>\n",
       "      <td>CC(C)=CCn1c2ccccc2c2c(OCC(O)CN(Cc3ccccn3)Cc3cc...</td>\n",
       "      <td>MIC</td>\n",
       "      <td>1.56</td>\n",
       "      <td>ug.mL-1</td>\n",
       "    </tr>\n",
       "  </tbody>\n",
       "</table>\n",
       "<p>8403 rows × 5 columns</p>\n",
       "</div>"
      ],
      "text/plain": [
       "     molecule_chembl_id                                   canonical_smiles  \\\n",
       "0          CHEMBL324974  C[C@H](N)C(=O)N(C)[C@@H](C)[C@H](NC(=O)[C@H](C...   \n",
       "1         CHEMBL1201259  CN[C@@H]1[C@@H](O)[C@@H](O[C@@H]2[C@@H](O)[C@H...   \n",
       "2            CHEMBL1384  NC[C@H]1O[C@H](O[C@H]2[C@H](O)[C@@H](O[C@H]3O[...   \n",
       "3          CHEMBL272080  CN[C@@H]1[C@@H](O)[C@@H](O[C@@H]2[C@@H](O)[C@H...   \n",
       "4          CHEMBL142949  CCNC1CC(N)C(OC2OC(CNC(=O)C(C)N)=CCC2N)C(O)C1OC...   \n",
       "...                 ...                                                ...   \n",
       "8398       CHEMBL262777  CN[C@H](CC(C)C)C(=O)N[C@H]1C(=O)N[C@@H](CC(N)=...   \n",
       "8399            CHEMBL8         O=C(O)c1cn(C2CC2)c2cc(N3CCNCC3)c(F)cc2c1=O   \n",
       "8400      CHEMBL5220066  CC(C)=CCn1c2ccccc2c2c(OCC(O)CN(Cc3ccccn3)Cc3cc...   \n",
       "8401      CHEMBL5220066  CC(C)=CCn1c2ccccc2c2c(OCC(O)CN(Cc3ccccn3)Cc3cc...   \n",
       "8402      CHEMBL5220066  CC(C)=CCn1c2ccccc2c2c(OCC(O)CN(Cc3ccccn3)Cc3cc...   \n",
       "\n",
       "     standard_type standard_value standard_units  \n",
       "0              MIC           64.0        ug.mL-1  \n",
       "1              MIC           32.0        ug.mL-1  \n",
       "2              MIC            4.0        ug.mL-1  \n",
       "3              MIC           32.0        ug.mL-1  \n",
       "4              MIC          128.0        ug.mL-1  \n",
       "...            ...            ...            ...  \n",
       "8398           MIC           50.0        ug.mL-1  \n",
       "8399           MIC           0.78        ug.mL-1  \n",
       "8400           MIC           0.78        ug.mL-1  \n",
       "8401           MIC          3.125        ug.mL-1  \n",
       "8402           MIC           1.56        ug.mL-1  \n",
       "\n",
       "[8403 rows x 5 columns]"
      ]
     },
     "execution_count": 6,
     "metadata": {},
     "output_type": "execute_result"
    }
   ],
   "source": [
    "df"
   ]
  },
  {
   "cell_type": "code",
   "execution_count": 7,
   "metadata": {
    "id": "6ITvlAbeDcyl"
   },
   "outputs": [],
   "source": [
    "# Save raw dataset as CSV\n",
    "df.to_csv('data/a_baumannii_bioactivity_data_raw.csv', index=False)"
   ]
  },
  {
   "cell_type": "markdown",
   "metadata": {
    "id": "OLE4U4Uvvj3j"
   },
   "source": [
    "## 3. Data curation and labelling of active and inactive compounds\n",
    "This section focuses on removing duplicate compounds and defining criteria to classify compounds as \"active\" or \"inactive\" based on their bioactivity data (e.g. MIC). We'll establish thresholds, and ensure clear labeling for subsequent machine learning model development."
   ]
  },
  {
   "cell_type": "markdown",
   "metadata": {
    "id": "FDwy9Pa6vj3k"
   },
   "source": [
    "### 3.1 Data curation"
   ]
  },
  {
   "cell_type": "code",
   "execution_count": 8,
   "metadata": {
    "colab": {
     "base_uri": "https://localhost:8080/",
     "height": 423
    },
    "id": "0oz7GCHpIjKQ",
    "outputId": "17140b5f-743c-43fd-88ce-feda955a54f2"
   },
   "outputs": [
    {
     "data": {
      "text/html": [
       "<div>\n",
       "<style scoped>\n",
       "    .dataframe tbody tr th:only-of-type {\n",
       "        vertical-align: middle;\n",
       "    }\n",
       "\n",
       "    .dataframe tbody tr th {\n",
       "        vertical-align: top;\n",
       "    }\n",
       "\n",
       "    .dataframe thead th {\n",
       "        text-align: right;\n",
       "    }\n",
       "</style>\n",
       "<table border=\"1\" class=\"dataframe\">\n",
       "  <thead>\n",
       "    <tr style=\"text-align: right;\">\n",
       "      <th></th>\n",
       "      <th>molecule_chembl_id</th>\n",
       "      <th>canonical_smiles</th>\n",
       "      <th>standard_type</th>\n",
       "      <th>standard_value</th>\n",
       "      <th>standard_units</th>\n",
       "    </tr>\n",
       "  </thead>\n",
       "  <tbody>\n",
       "    <tr>\n",
       "      <th>0</th>\n",
       "      <td>CHEMBL324974</td>\n",
       "      <td>C[C@H](N)C(=O)N(C)[C@@H](C)[C@H](NC(=O)[C@H](C...</td>\n",
       "      <td>MIC</td>\n",
       "      <td>64.0</td>\n",
       "      <td>ug.mL-1</td>\n",
       "    </tr>\n",
       "    <tr>\n",
       "      <th>1</th>\n",
       "      <td>CHEMBL1201259</td>\n",
       "      <td>CN[C@@H]1[C@@H](O)[C@@H](O[C@@H]2[C@@H](O)[C@H...</td>\n",
       "      <td>MIC</td>\n",
       "      <td>32.0</td>\n",
       "      <td>ug.mL-1</td>\n",
       "    </tr>\n",
       "    <tr>\n",
       "      <th>2</th>\n",
       "      <td>CHEMBL1384</td>\n",
       "      <td>NC[C@H]1O[C@H](O[C@H]2[C@H](O)[C@@H](O[C@H]3O[...</td>\n",
       "      <td>MIC</td>\n",
       "      <td>4.0</td>\n",
       "      <td>ug.mL-1</td>\n",
       "    </tr>\n",
       "    <tr>\n",
       "      <th>3</th>\n",
       "      <td>CHEMBL272080</td>\n",
       "      <td>CN[C@@H]1[C@@H](O)[C@@H](O[C@@H]2[C@@H](O)[C@H...</td>\n",
       "      <td>MIC</td>\n",
       "      <td>32.0</td>\n",
       "      <td>ug.mL-1</td>\n",
       "    </tr>\n",
       "    <tr>\n",
       "      <th>4</th>\n",
       "      <td>CHEMBL142949</td>\n",
       "      <td>CCNC1CC(N)C(OC2OC(CNC(=O)C(C)N)=CCC2N)C(O)C1OC...</td>\n",
       "      <td>MIC</td>\n",
       "      <td>128.0</td>\n",
       "      <td>ug.mL-1</td>\n",
       "    </tr>\n",
       "    <tr>\n",
       "      <th>...</th>\n",
       "      <td>...</td>\n",
       "      <td>...</td>\n",
       "      <td>...</td>\n",
       "      <td>...</td>\n",
       "      <td>...</td>\n",
       "    </tr>\n",
       "    <tr>\n",
       "      <th>8398</th>\n",
       "      <td>CHEMBL262777</td>\n",
       "      <td>CN[C@H](CC(C)C)C(=O)N[C@H]1C(=O)N[C@@H](CC(N)=...</td>\n",
       "      <td>MIC</td>\n",
       "      <td>50.0</td>\n",
       "      <td>ug.mL-1</td>\n",
       "    </tr>\n",
       "    <tr>\n",
       "      <th>8399</th>\n",
       "      <td>CHEMBL8</td>\n",
       "      <td>O=C(O)c1cn(C2CC2)c2cc(N3CCNCC3)c(F)cc2c1=O</td>\n",
       "      <td>MIC</td>\n",
       "      <td>0.78</td>\n",
       "      <td>ug.mL-1</td>\n",
       "    </tr>\n",
       "    <tr>\n",
       "      <th>8400</th>\n",
       "      <td>CHEMBL5220066</td>\n",
       "      <td>CC(C)=CCn1c2ccccc2c2c(OCC(O)CN(Cc3ccccn3)Cc3cc...</td>\n",
       "      <td>MIC</td>\n",
       "      <td>0.78</td>\n",
       "      <td>ug.mL-1</td>\n",
       "    </tr>\n",
       "    <tr>\n",
       "      <th>8401</th>\n",
       "      <td>CHEMBL5220066</td>\n",
       "      <td>CC(C)=CCn1c2ccccc2c2c(OCC(O)CN(Cc3ccccn3)Cc3cc...</td>\n",
       "      <td>MIC</td>\n",
       "      <td>3.125</td>\n",
       "      <td>ug.mL-1</td>\n",
       "    </tr>\n",
       "    <tr>\n",
       "      <th>8402</th>\n",
       "      <td>CHEMBL5220066</td>\n",
       "      <td>CC(C)=CCn1c2ccccc2c2c(OCC(O)CN(Cc3ccccn3)Cc3cc...</td>\n",
       "      <td>MIC</td>\n",
       "      <td>1.56</td>\n",
       "      <td>ug.mL-1</td>\n",
       "    </tr>\n",
       "  </tbody>\n",
       "</table>\n",
       "<p>8379 rows × 5 columns</p>\n",
       "</div>"
      ],
      "text/plain": [
       "     molecule_chembl_id                                   canonical_smiles  \\\n",
       "0          CHEMBL324974  C[C@H](N)C(=O)N(C)[C@@H](C)[C@H](NC(=O)[C@H](C...   \n",
       "1         CHEMBL1201259  CN[C@@H]1[C@@H](O)[C@@H](O[C@@H]2[C@@H](O)[C@H...   \n",
       "2            CHEMBL1384  NC[C@H]1O[C@H](O[C@H]2[C@H](O)[C@@H](O[C@H]3O[...   \n",
       "3          CHEMBL272080  CN[C@@H]1[C@@H](O)[C@@H](O[C@@H]2[C@@H](O)[C@H...   \n",
       "4          CHEMBL142949  CCNC1CC(N)C(OC2OC(CNC(=O)C(C)N)=CCC2N)C(O)C1OC...   \n",
       "...                 ...                                                ...   \n",
       "8398       CHEMBL262777  CN[C@H](CC(C)C)C(=O)N[C@H]1C(=O)N[C@@H](CC(N)=...   \n",
       "8399            CHEMBL8         O=C(O)c1cn(C2CC2)c2cc(N3CCNCC3)c(F)cc2c1=O   \n",
       "8400      CHEMBL5220066  CC(C)=CCn1c2ccccc2c2c(OCC(O)CN(Cc3ccccn3)Cc3cc...   \n",
       "8401      CHEMBL5220066  CC(C)=CCn1c2ccccc2c2c(OCC(O)CN(Cc3ccccn3)Cc3cc...   \n",
       "8402      CHEMBL5220066  CC(C)=CCn1c2ccccc2c2c(OCC(O)CN(Cc3ccccn3)Cc3cc...   \n",
       "\n",
       "     standard_type standard_value standard_units  \n",
       "0              MIC           64.0        ug.mL-1  \n",
       "1              MIC           32.0        ug.mL-1  \n",
       "2              MIC            4.0        ug.mL-1  \n",
       "3              MIC           32.0        ug.mL-1  \n",
       "4              MIC          128.0        ug.mL-1  \n",
       "...            ...            ...            ...  \n",
       "8398           MIC           50.0        ug.mL-1  \n",
       "8399           MIC           0.78        ug.mL-1  \n",
       "8400           MIC           0.78        ug.mL-1  \n",
       "8401           MIC          3.125        ug.mL-1  \n",
       "8402           MIC           1.56        ug.mL-1  \n",
       "\n",
       "[8379 rows x 5 columns]"
      ]
     },
     "execution_count": 8,
     "metadata": {},
     "output_type": "execute_result"
    }
   ],
   "source": [
    "df2 = df[df.standard_value.notna()]\n",
    "df2 = df2[df.canonical_smiles.notna()]\n",
    "df2"
   ]
  },
  {
   "cell_type": "code",
   "execution_count": 9,
   "metadata": {
    "id": "F8Bsn7OfPZDB"
   },
   "outputs": [],
   "source": [
    "# Convert 'standard_value' column to numeric format, replacing non-numeric values with NaN\n",
    "df2['standard_value'] = pd.to_numeric(df2['standard_value'], errors='coerce')"
   ]
  },
  {
   "cell_type": "code",
   "execution_count": 10,
   "metadata": {
    "id": "yJkbPGwAPcQu"
   },
   "outputs": [],
   "source": [
    "# Calculate the mean of 'standard_value' grouped by 'molecule_chembl_id'\n",
    "df2['mean_standard_value'] = df2.groupby('molecule_chembl_id')['standard_value'].transform('mean')"
   ]
  },
  {
   "cell_type": "code",
   "execution_count": 11,
   "metadata": {
    "id": "_dJU0Fh1Pwyx"
   },
   "outputs": [],
   "source": [
    "# Drop duplicate compounds and keep the first occurrence\n",
    "df2.drop_duplicates(subset='molecule_chembl_id', keep='first', inplace=True)"
   ]
  },
  {
   "cell_type": "code",
   "execution_count": 12,
   "metadata": {
    "colab": {
     "base_uri": "https://localhost:8080/",
     "height": 423
    },
    "id": "KV9ZTpiyPw1L",
    "outputId": "af2d4685-e8b6-4941-cf75-ad46d10bf64f"
   },
   "outputs": [
    {
     "data": {
      "text/html": [
       "<div>\n",
       "<style scoped>\n",
       "    .dataframe tbody tr th:only-of-type {\n",
       "        vertical-align: middle;\n",
       "    }\n",
       "\n",
       "    .dataframe tbody tr th {\n",
       "        vertical-align: top;\n",
       "    }\n",
       "\n",
       "    .dataframe thead th {\n",
       "        text-align: right;\n",
       "    }\n",
       "</style>\n",
       "<table border=\"1\" class=\"dataframe\">\n",
       "  <thead>\n",
       "    <tr style=\"text-align: right;\">\n",
       "      <th></th>\n",
       "      <th>molecule_chembl_id</th>\n",
       "      <th>canonical_smiles</th>\n",
       "      <th>standard_type</th>\n",
       "      <th>standard_value</th>\n",
       "      <th>standard_units</th>\n",
       "      <th>mean_standard_value</th>\n",
       "    </tr>\n",
       "  </thead>\n",
       "  <tbody>\n",
       "    <tr>\n",
       "      <th>0</th>\n",
       "      <td>CHEMBL324974</td>\n",
       "      <td>C[C@H](N)C(=O)N(C)[C@@H](C)[C@H](NC(=O)[C@H](C...</td>\n",
       "      <td>MIC</td>\n",
       "      <td>64.00</td>\n",
       "      <td>ug.mL-1</td>\n",
       "      <td>64.0000</td>\n",
       "    </tr>\n",
       "    <tr>\n",
       "      <th>1</th>\n",
       "      <td>CHEMBL1201259</td>\n",
       "      <td>CN[C@@H]1[C@@H](O)[C@@H](O[C@@H]2[C@@H](O)[C@H...</td>\n",
       "      <td>MIC</td>\n",
       "      <td>32.00</td>\n",
       "      <td>ug.mL-1</td>\n",
       "      <td>32.0000</td>\n",
       "    </tr>\n",
       "    <tr>\n",
       "      <th>2</th>\n",
       "      <td>CHEMBL1384</td>\n",
       "      <td>NC[C@H]1O[C@H](O[C@H]2[C@H](O)[C@@H](O[C@H]3O[...</td>\n",
       "      <td>MIC</td>\n",
       "      <td>4.00</td>\n",
       "      <td>ug.mL-1</td>\n",
       "      <td>3.7500</td>\n",
       "    </tr>\n",
       "    <tr>\n",
       "      <th>3</th>\n",
       "      <td>CHEMBL272080</td>\n",
       "      <td>CN[C@@H]1[C@@H](O)[C@@H](O[C@@H]2[C@@H](O)[C@H...</td>\n",
       "      <td>MIC</td>\n",
       "      <td>32.00</td>\n",
       "      <td>ug.mL-1</td>\n",
       "      <td>32.0000</td>\n",
       "    </tr>\n",
       "    <tr>\n",
       "      <th>4</th>\n",
       "      <td>CHEMBL142949</td>\n",
       "      <td>CCNC1CC(N)C(OC2OC(CNC(=O)C(C)N)=CCC2N)C(O)C1OC...</td>\n",
       "      <td>MIC</td>\n",
       "      <td>128.00</td>\n",
       "      <td>ug.mL-1</td>\n",
       "      <td>128.0000</td>\n",
       "    </tr>\n",
       "    <tr>\n",
       "      <th>...</th>\n",
       "      <td>...</td>\n",
       "      <td>...</td>\n",
       "      <td>...</td>\n",
       "      <td>...</td>\n",
       "      <td>...</td>\n",
       "      <td>...</td>\n",
       "    </tr>\n",
       "    <tr>\n",
       "      <th>8345</th>\n",
       "      <td>CHEMBL5219946</td>\n",
       "      <td>CCCCCCCCCn1c2ccccc2c2c(OCC(O)CN(Cc3ccccn3)Cc3c...</td>\n",
       "      <td>MIC</td>\n",
       "      <td>50.00</td>\n",
       "      <td>ug.mL-1</td>\n",
       "      <td>40.6250</td>\n",
       "    </tr>\n",
       "    <tr>\n",
       "      <th>8346</th>\n",
       "      <td>CHEMBL5220398</td>\n",
       "      <td>OC(COc1cccc2c1c1ccccc1n2CCCC(F)(F)F)CN(Cc1cccc...</td>\n",
       "      <td>MIC</td>\n",
       "      <td>6.25</td>\n",
       "      <td>ug.mL-1</td>\n",
       "      <td>4.6875</td>\n",
       "    </tr>\n",
       "    <tr>\n",
       "      <th>8348</th>\n",
       "      <td>CHEMBL4795789</td>\n",
       "      <td>CC(C)=CCn1c2ccccc2c2c(OCC(O)CN(C)C)cccc21</td>\n",
       "      <td>MIC</td>\n",
       "      <td>12.50</td>\n",
       "      <td>ug.mL-1</td>\n",
       "      <td>12.5000</td>\n",
       "    </tr>\n",
       "    <tr>\n",
       "      <th>8349</th>\n",
       "      <td>CHEMBL4763534</td>\n",
       "      <td>CCN(CC)CC(O)COc1cccc2c1c1ccccc1n2CC=C(C)C</td>\n",
       "      <td>MIC</td>\n",
       "      <td>50.00</td>\n",
       "      <td>ug.mL-1</td>\n",
       "      <td>37.5000</td>\n",
       "    </tr>\n",
       "    <tr>\n",
       "      <th>8350</th>\n",
       "      <td>CHEMBL5219018</td>\n",
       "      <td>CC(C)=CCn1c2ccccc2c2c(OCC(O)CNCc3ccccn3)cccc21</td>\n",
       "      <td>MIC</td>\n",
       "      <td>50.00</td>\n",
       "      <td>ug.mL-1</td>\n",
       "      <td>50.0000</td>\n",
       "    </tr>\n",
       "  </tbody>\n",
       "</table>\n",
       "<p>3658 rows × 6 columns</p>\n",
       "</div>"
      ],
      "text/plain": [
       "     molecule_chembl_id                                   canonical_smiles  \\\n",
       "0          CHEMBL324974  C[C@H](N)C(=O)N(C)[C@@H](C)[C@H](NC(=O)[C@H](C...   \n",
       "1         CHEMBL1201259  CN[C@@H]1[C@@H](O)[C@@H](O[C@@H]2[C@@H](O)[C@H...   \n",
       "2            CHEMBL1384  NC[C@H]1O[C@H](O[C@H]2[C@H](O)[C@@H](O[C@H]3O[...   \n",
       "3          CHEMBL272080  CN[C@@H]1[C@@H](O)[C@@H](O[C@@H]2[C@@H](O)[C@H...   \n",
       "4          CHEMBL142949  CCNC1CC(N)C(OC2OC(CNC(=O)C(C)N)=CCC2N)C(O)C1OC...   \n",
       "...                 ...                                                ...   \n",
       "8345      CHEMBL5219946  CCCCCCCCCn1c2ccccc2c2c(OCC(O)CN(Cc3ccccn3)Cc3c...   \n",
       "8346      CHEMBL5220398  OC(COc1cccc2c1c1ccccc1n2CCCC(F)(F)F)CN(Cc1cccc...   \n",
       "8348      CHEMBL4795789          CC(C)=CCn1c2ccccc2c2c(OCC(O)CN(C)C)cccc21   \n",
       "8349      CHEMBL4763534          CCN(CC)CC(O)COc1cccc2c1c1ccccc1n2CC=C(C)C   \n",
       "8350      CHEMBL5219018     CC(C)=CCn1c2ccccc2c2c(OCC(O)CNCc3ccccn3)cccc21   \n",
       "\n",
       "     standard_type  standard_value standard_units  mean_standard_value  \n",
       "0              MIC           64.00        ug.mL-1              64.0000  \n",
       "1              MIC           32.00        ug.mL-1              32.0000  \n",
       "2              MIC            4.00        ug.mL-1               3.7500  \n",
       "3              MIC           32.00        ug.mL-1              32.0000  \n",
       "4              MIC          128.00        ug.mL-1             128.0000  \n",
       "...            ...             ...            ...                  ...  \n",
       "8345           MIC           50.00        ug.mL-1              40.6250  \n",
       "8346           MIC            6.25        ug.mL-1               4.6875  \n",
       "8348           MIC           12.50        ug.mL-1              12.5000  \n",
       "8349           MIC           50.00        ug.mL-1              37.5000  \n",
       "8350           MIC           50.00        ug.mL-1              50.0000  \n",
       "\n",
       "[3658 rows x 6 columns]"
      ]
     },
     "execution_count": 12,
     "metadata": {},
     "output_type": "execute_result"
    }
   ],
   "source": [
    "df2"
   ]
  },
  {
   "cell_type": "code",
   "execution_count": 13,
   "metadata": {
    "id": "J_6d7MZyR2Uf"
   },
   "outputs": [],
   "source": [
    "df2.to_csv('data/a_baumannii_bioactivity_data_processed.csv', index=False)"
   ]
  },
  {
   "cell_type": "markdown",
   "metadata": {
    "id": "WTmxEPRbvj3m"
   },
   "source": [
    "### 3.2 Data labeling"
   ]
  },
  {
   "cell_type": "code",
   "execution_count": 14,
   "metadata": {
    "colab": {
     "base_uri": "https://localhost:8080/",
     "height": 158
    },
    "id": "kFsL-gEWSFZo",
    "outputId": "6b2c1404-594b-4788-ba35-4b318fcff3c3"
   },
   "outputs": [
    {
     "data": {
      "text/plain": [
       "(1439, 6)"
      ]
     },
     "execution_count": 14,
     "metadata": {},
     "output_type": "execute_result"
    }
   ],
   "source": [
    "active=df2.loc[df2['mean_standard_value']<32]\n",
    "active.shape"
   ]
  },
  {
   "cell_type": "code",
   "execution_count": 15,
   "metadata": {
    "colab": {
     "base_uri": "https://localhost:8080/"
    },
    "id": "SgmNO5xvR2dh",
    "outputId": "ee30adb5-c97a-4697-a5a8-a710a192a69c"
   },
   "outputs": [
    {
     "data": {
      "text/plain": [
       "(959, 6)"
      ]
     },
     "execution_count": 15,
     "metadata": {},
     "output_type": "execute_result"
    }
   ],
   "source": [
    "inactive=df2.loc[df2['mean_standard_value']>64]\n",
    "inactive.shape"
   ]
  },
  {
   "cell_type": "code",
   "execution_count": 16,
   "metadata": {
    "colab": {
     "base_uri": "https://localhost:8080/"
    },
    "id": "K5cpzHvGTh4F",
    "outputId": "d0f680c7-526f-4c04-c1d3-33ac7da8928d"
   },
   "outputs": [
    {
     "name": "stderr",
     "output_type": "stream",
     "text": [
      "/tmp/ipykernel_5183/2714473792.py:1: SettingWithCopyWarning: \n",
      "A value is trying to be set on a copy of a slice from a DataFrame.\n",
      "Try using .loc[row_indexer,col_indexer] = value instead\n",
      "\n",
      "See the caveats in the documentation: https://pandas.pydata.org/pandas-docs/stable/user_guide/indexing.html#returning-a-view-versus-a-copy\n",
      "  active[\"Class\"]=1\n",
      "/tmp/ipykernel_5183/2714473792.py:2: SettingWithCopyWarning: \n",
      "A value is trying to be set on a copy of a slice from a DataFrame.\n",
      "Try using .loc[row_indexer,col_indexer] = value instead\n",
      "\n",
      "See the caveats in the documentation: https://pandas.pydata.org/pandas-docs/stable/user_guide/indexing.html#returning-a-view-versus-a-copy\n",
      "  inactive[\"Class\"]=0\n"
     ]
    }
   ],
   "source": [
    "active[\"Class\"]=1\n",
    "inactive[\"Class\"]=0"
   ]
  },
  {
   "cell_type": "code",
   "execution_count": 17,
   "metadata": {
    "colab": {
     "base_uri": "https://localhost:8080/",
     "height": 206
    },
    "id": "bjl84lJdTiyY",
    "outputId": "2b2ebeaf-d80b-4155-c2ac-423641b1c767"
   },
   "outputs": [
    {
     "data": {
      "text/html": [
       "<div>\n",
       "<style scoped>\n",
       "    .dataframe tbody tr th:only-of-type {\n",
       "        vertical-align: middle;\n",
       "    }\n",
       "\n",
       "    .dataframe tbody tr th {\n",
       "        vertical-align: top;\n",
       "    }\n",
       "\n",
       "    .dataframe thead th {\n",
       "        text-align: right;\n",
       "    }\n",
       "</style>\n",
       "<table border=\"1\" class=\"dataframe\">\n",
       "  <thead>\n",
       "    <tr style=\"text-align: right;\">\n",
       "      <th></th>\n",
       "      <th>molecule_chembl_id</th>\n",
       "      <th>canonical_smiles</th>\n",
       "      <th>standard_type</th>\n",
       "      <th>standard_value</th>\n",
       "      <th>standard_units</th>\n",
       "      <th>mean_standard_value</th>\n",
       "      <th>Class</th>\n",
       "    </tr>\n",
       "  </thead>\n",
       "  <tbody>\n",
       "    <tr>\n",
       "      <th>2</th>\n",
       "      <td>CHEMBL1384</td>\n",
       "      <td>NC[C@H]1O[C@H](O[C@H]2[C@H](O)[C@@H](O[C@H]3O[...</td>\n",
       "      <td>MIC</td>\n",
       "      <td>4.00</td>\n",
       "      <td>ug.mL-1</td>\n",
       "      <td>3.750000</td>\n",
       "      <td>1</td>\n",
       "    </tr>\n",
       "    <tr>\n",
       "      <th>5</th>\n",
       "      <td>CHEMBL1572</td>\n",
       "      <td>CCN[C@@H]1C[C@H](N)[C@@H](O[C@H]2OC(CN)=CC[C@H...</td>\n",
       "      <td>MIC</td>\n",
       "      <td>32.00</td>\n",
       "      <td>ug.mL-1</td>\n",
       "      <td>18.205882</td>\n",
       "      <td>1</td>\n",
       "    </tr>\n",
       "    <tr>\n",
       "      <th>8</th>\n",
       "      <td>CHEMBL397431</td>\n",
       "      <td>C[C@@H](O)C1C(=O)N2C(C(=O)O)=C(S[C@@H]3CN[C@H]...</td>\n",
       "      <td>MIC</td>\n",
       "      <td>12.50</td>\n",
       "      <td>ug.mL-1</td>\n",
       "      <td>12.500000</td>\n",
       "      <td>1</td>\n",
       "    </tr>\n",
       "    <tr>\n",
       "      <th>11</th>\n",
       "      <td>CHEMBL244499</td>\n",
       "      <td>C[C@@H](O)C1C(=O)N2C(C(=O)O)=C(S[C@@H]3CN[C@H]...</td>\n",
       "      <td>MIC</td>\n",
       "      <td>3.12</td>\n",
       "      <td>ug.mL-1</td>\n",
       "      <td>3.120000</td>\n",
       "      <td>1</td>\n",
       "    </tr>\n",
       "    <tr>\n",
       "      <th>12</th>\n",
       "      <td>CHEMBL244498</td>\n",
       "      <td>C[C@@H](O)C1C(=O)N2C(C(=O)O)=C(S[C@@H]3CN[C@H]...</td>\n",
       "      <td>MIC</td>\n",
       "      <td>6.25</td>\n",
       "      <td>ug.mL-1</td>\n",
       "      <td>6.250000</td>\n",
       "      <td>1</td>\n",
       "    </tr>\n",
       "  </tbody>\n",
       "</table>\n",
       "</div>"
      ],
      "text/plain": [
       "   molecule_chembl_id                                   canonical_smiles  \\\n",
       "2          CHEMBL1384  NC[C@H]1O[C@H](O[C@H]2[C@H](O)[C@@H](O[C@H]3O[...   \n",
       "5          CHEMBL1572  CCN[C@@H]1C[C@H](N)[C@@H](O[C@H]2OC(CN)=CC[C@H...   \n",
       "8        CHEMBL397431  C[C@@H](O)C1C(=O)N2C(C(=O)O)=C(S[C@@H]3CN[C@H]...   \n",
       "11       CHEMBL244499  C[C@@H](O)C1C(=O)N2C(C(=O)O)=C(S[C@@H]3CN[C@H]...   \n",
       "12       CHEMBL244498  C[C@@H](O)C1C(=O)N2C(C(=O)O)=C(S[C@@H]3CN[C@H]...   \n",
       "\n",
       "   standard_type  standard_value standard_units  mean_standard_value  Class  \n",
       "2            MIC            4.00        ug.mL-1             3.750000      1  \n",
       "5            MIC           32.00        ug.mL-1            18.205882      1  \n",
       "8            MIC           12.50        ug.mL-1            12.500000      1  \n",
       "11           MIC            3.12        ug.mL-1             3.120000      1  \n",
       "12           MIC            6.25        ug.mL-1             6.250000      1  "
      ]
     },
     "execution_count": 17,
     "metadata": {},
     "output_type": "execute_result"
    }
   ],
   "source": [
    "active.head()"
   ]
  },
  {
   "cell_type": "code",
   "execution_count": 18,
   "metadata": {
    "colab": {
     "base_uri": "https://localhost:8080/",
     "height": 423
    },
    "id": "CVGuzOcrTh6i",
    "outputId": "ca787b89-73dd-464a-a389-5c445659d0ed"
   },
   "outputs": [
    {
     "data": {
      "text/html": [
       "<div>\n",
       "<style scoped>\n",
       "    .dataframe tbody tr th:only-of-type {\n",
       "        vertical-align: middle;\n",
       "    }\n",
       "\n",
       "    .dataframe tbody tr th {\n",
       "        vertical-align: top;\n",
       "    }\n",
       "\n",
       "    .dataframe thead th {\n",
       "        text-align: right;\n",
       "    }\n",
       "</style>\n",
       "<table border=\"1\" class=\"dataframe\">\n",
       "  <thead>\n",
       "    <tr style=\"text-align: right;\">\n",
       "      <th></th>\n",
       "      <th>molecule_chembl_id</th>\n",
       "      <th>canonical_smiles</th>\n",
       "      <th>standard_type</th>\n",
       "      <th>standard_value</th>\n",
       "      <th>standard_units</th>\n",
       "      <th>mean_standard_value</th>\n",
       "      <th>Class</th>\n",
       "    </tr>\n",
       "  </thead>\n",
       "  <tbody>\n",
       "    <tr>\n",
       "      <th>2</th>\n",
       "      <td>CHEMBL1384</td>\n",
       "      <td>NC[C@H]1O[C@H](O[C@H]2[C@H](O)[C@@H](O[C@H]3O[...</td>\n",
       "      <td>MIC</td>\n",
       "      <td>4.00</td>\n",
       "      <td>ug.mL-1</td>\n",
       "      <td>3.750000</td>\n",
       "      <td>1</td>\n",
       "    </tr>\n",
       "    <tr>\n",
       "      <th>5</th>\n",
       "      <td>CHEMBL1572</td>\n",
       "      <td>CCN[C@@H]1C[C@H](N)[C@@H](O[C@H]2OC(CN)=CC[C@H...</td>\n",
       "      <td>MIC</td>\n",
       "      <td>32.00</td>\n",
       "      <td>ug.mL-1</td>\n",
       "      <td>18.205882</td>\n",
       "      <td>1</td>\n",
       "    </tr>\n",
       "    <tr>\n",
       "      <th>8</th>\n",
       "      <td>CHEMBL397431</td>\n",
       "      <td>C[C@@H](O)C1C(=O)N2C(C(=O)O)=C(S[C@@H]3CN[C@H]...</td>\n",
       "      <td>MIC</td>\n",
       "      <td>12.50</td>\n",
       "      <td>ug.mL-1</td>\n",
       "      <td>12.500000</td>\n",
       "      <td>1</td>\n",
       "    </tr>\n",
       "    <tr>\n",
       "      <th>11</th>\n",
       "      <td>CHEMBL244499</td>\n",
       "      <td>C[C@@H](O)C1C(=O)N2C(C(=O)O)=C(S[C@@H]3CN[C@H]...</td>\n",
       "      <td>MIC</td>\n",
       "      <td>3.12</td>\n",
       "      <td>ug.mL-1</td>\n",
       "      <td>3.120000</td>\n",
       "      <td>1</td>\n",
       "    </tr>\n",
       "    <tr>\n",
       "      <th>12</th>\n",
       "      <td>CHEMBL244498</td>\n",
       "      <td>C[C@@H](O)C1C(=O)N2C(C(=O)O)=C(S[C@@H]3CN[C@H]...</td>\n",
       "      <td>MIC</td>\n",
       "      <td>6.25</td>\n",
       "      <td>ug.mL-1</td>\n",
       "      <td>6.250000</td>\n",
       "      <td>1</td>\n",
       "    </tr>\n",
       "    <tr>\n",
       "      <th>...</th>\n",
       "      <td>...</td>\n",
       "      <td>...</td>\n",
       "      <td>...</td>\n",
       "      <td>...</td>\n",
       "      <td>...</td>\n",
       "      <td>...</td>\n",
       "      <td>...</td>\n",
       "    </tr>\n",
       "    <tr>\n",
       "      <th>8284</th>\n",
       "      <td>CHEMBL5197381</td>\n",
       "      <td>c1ccc2c(c1)[nH]c1cccc(OCc3nnn[nH]3)c12</td>\n",
       "      <td>MIC</td>\n",
       "      <td>128.00</td>\n",
       "      <td>ug.mL-1</td>\n",
       "      <td>128.000000</td>\n",
       "      <td>0</td>\n",
       "    </tr>\n",
       "    <tr>\n",
       "      <th>8286</th>\n",
       "      <td>CHEMBL5192175</td>\n",
       "      <td>C=CCn1c2ccccc2c2c(OCc3nnn[nH]3)cccc21</td>\n",
       "      <td>MIC</td>\n",
       "      <td>128.00</td>\n",
       "      <td>ug.mL-1</td>\n",
       "      <td>128.000000</td>\n",
       "      <td>0</td>\n",
       "    </tr>\n",
       "    <tr>\n",
       "      <th>8288</th>\n",
       "      <td>CHEMBL5203015</td>\n",
       "      <td>CCn1c2ccccc2c2nnc(SCc3nnc(S)o3)nc21</td>\n",
       "      <td>MIC</td>\n",
       "      <td>256.00</td>\n",
       "      <td>ug.mL-1</td>\n",
       "      <td>256.000000</td>\n",
       "      <td>0</td>\n",
       "    </tr>\n",
       "    <tr>\n",
       "      <th>8289</th>\n",
       "      <td>CHEMBL5185068</td>\n",
       "      <td>CCSc1nnc2c3ccccc3n(Cc3nnc(S)o3)c2n1</td>\n",
       "      <td>MIC</td>\n",
       "      <td>256.00</td>\n",
       "      <td>ug.mL-1</td>\n",
       "      <td>256.000000</td>\n",
       "      <td>0</td>\n",
       "    </tr>\n",
       "    <tr>\n",
       "      <th>8290</th>\n",
       "      <td>CHEMBL5202732</td>\n",
       "      <td>C=CCSc1nnc2c3ccccc3n(Cc3nnc(S)o3)c2n1</td>\n",
       "      <td>MIC</td>\n",
       "      <td>256.00</td>\n",
       "      <td>ug.mL-1</td>\n",
       "      <td>256.000000</td>\n",
       "      <td>0</td>\n",
       "    </tr>\n",
       "  </tbody>\n",
       "</table>\n",
       "<p>2398 rows × 7 columns</p>\n",
       "</div>"
      ],
      "text/plain": [
       "     molecule_chembl_id                                   canonical_smiles  \\\n",
       "2            CHEMBL1384  NC[C@H]1O[C@H](O[C@H]2[C@H](O)[C@@H](O[C@H]3O[...   \n",
       "5            CHEMBL1572  CCN[C@@H]1C[C@H](N)[C@@H](O[C@H]2OC(CN)=CC[C@H...   \n",
       "8          CHEMBL397431  C[C@@H](O)C1C(=O)N2C(C(=O)O)=C(S[C@@H]3CN[C@H]...   \n",
       "11         CHEMBL244499  C[C@@H](O)C1C(=O)N2C(C(=O)O)=C(S[C@@H]3CN[C@H]...   \n",
       "12         CHEMBL244498  C[C@@H](O)C1C(=O)N2C(C(=O)O)=C(S[C@@H]3CN[C@H]...   \n",
       "...                 ...                                                ...   \n",
       "8284      CHEMBL5197381             c1ccc2c(c1)[nH]c1cccc(OCc3nnn[nH]3)c12   \n",
       "8286      CHEMBL5192175              C=CCn1c2ccccc2c2c(OCc3nnn[nH]3)cccc21   \n",
       "8288      CHEMBL5203015                CCn1c2ccccc2c2nnc(SCc3nnc(S)o3)nc21   \n",
       "8289      CHEMBL5185068                CCSc1nnc2c3ccccc3n(Cc3nnc(S)o3)c2n1   \n",
       "8290      CHEMBL5202732              C=CCSc1nnc2c3ccccc3n(Cc3nnc(S)o3)c2n1   \n",
       "\n",
       "     standard_type  standard_value standard_units  mean_standard_value  Class  \n",
       "2              MIC            4.00        ug.mL-1             3.750000      1  \n",
       "5              MIC           32.00        ug.mL-1            18.205882      1  \n",
       "8              MIC           12.50        ug.mL-1            12.500000      1  \n",
       "11             MIC            3.12        ug.mL-1             3.120000      1  \n",
       "12             MIC            6.25        ug.mL-1             6.250000      1  \n",
       "...            ...             ...            ...                  ...    ...  \n",
       "8284           MIC          128.00        ug.mL-1           128.000000      0  \n",
       "8286           MIC          128.00        ug.mL-1           128.000000      0  \n",
       "8288           MIC          256.00        ug.mL-1           256.000000      0  \n",
       "8289           MIC          256.00        ug.mL-1           256.000000      0  \n",
       "8290           MIC          256.00        ug.mL-1           256.000000      0  \n",
       "\n",
       "[2398 rows x 7 columns]"
      ]
     },
     "execution_count": 18,
     "metadata": {},
     "output_type": "execute_result"
    }
   ],
   "source": [
    "df3 = pd.concat([active,inactive],axis=0)\n",
    "df3"
   ]
  },
  {
   "cell_type": "code",
   "execution_count": 19,
   "metadata": {
    "id": "Y_k5Q6pxUOA4"
   },
   "outputs": [],
   "source": [
    "df3.to_csv(\"data/a_baumannii_bioactivity_data_labelled.csv\", index=None)"
   ]
  },
  {
   "cell_type": "markdown",
   "metadata": {
    "id": "a_L_ACqcvj3o"
   },
   "source": [
    "## 4. Molecular descriptors calculation\n",
    "Here we standardize the SMILES molecules and employ molecular fingerprints to represent chemical structures in a way that machine learning algorithms can understand. We'll focus on Morgan fingerprints with depth of 4 (also known as Extended Connectivity Fingerprints 4).\n"
   ]
  },
  {
   "cell_type": "code",
   "execution_count": 4,
   "metadata": {},
   "outputs": [],
   "source": [
    "import pandas as pd\n",
    "from rdkit import Chem\n",
    "from rdkit.Chem import MolStandardize\n",
    "\n",
    "# Load the CSV file into a pandas DataFrame\n",
    "data = pd.read_csv(\"data/a_baumannii_bioactivity_data_labelled.csv\")\n",
    "\n",
    "# Create a MolStandardize object for standardization\n",
    "normalizer = MolStandardize.normalize.Normalizer()\n",
    "reionizer = MolStandardize.normalize.Reionizer()\n",
    "\n",
    "# Function to standardize molecular structures\n",
    "def standardize_molecule(smiles):\n",
    "    mol = Chem.MolFromSmiles(smiles)\n",
    "    mol = normalizer.normalize(mol)\n",
    "    mol = reionizer.reionize(mol)\n",
    "    return Chem.MolToSmiles(mol)\n",
    "\n",
    "# Apply standardization to the 'SMILES' column\n",
    "data['canonical_smiles'] = data['canonical_smiles'].apply(standardize_molecule)\n",
    "\n",
    "# Save the modified DataFrame to a new CSV file\n",
    "data.to_csv(\"data/a_baumannii_bioactivity_data_labelled_standardized.csv\", index=False)"
   ]
  },
  {
   "cell_type": "code",
   "execution_count": 20,
   "metadata": {
    "id": "nehLY-7vvj3p"
   },
   "outputs": [],
   "source": [
    "import pandas as pd\n",
    "from rdkit import Chem\n",
    "from rdkit.Chem import AllChem\n",
    "\n",
    "# Load your DataFrame with SMILES data\n",
    "data = pd.read_csv(\"data/a_baumannii_bioactivity_data_labelled_standardized.csv\")\n",
    "\n",
    "# Add a 'molecule' column based on 'Smiles'\n",
    "data['molecule'] = data['canonical_smiles'].apply(Chem.MolFromSmiles)\n",
    "\n",
    "# Calculate Morgan fingerprints with depth of 4\n",
    "num_bits = 2048  # Number of bits in the fingerprint\n",
    "fingerprints = []\n",
    "\n",
    "for mol in data['molecule']:\n",
    "    if mol is not None:\n",
    "        fingerprint = AllChem.GetMorganFingerprintAsBitVect(mol, 2, nBits=num_bits)\n",
    "        fingerprint = list(fingerprint.ToBitString())\n",
    "    else:\n",
    "        fingerprint = [None] * num_bits\n",
    "    fingerprints.append(fingerprint)\n",
    "\n",
    "# Convert the list of fingerprints to a DataFrame\n",
    "fingerprint_df = pd.DataFrame(fingerprints, columns=[f'Morgan_{i}' for i in range(num_bits)])\n",
    "\n",
    "# Concatenate the original DataFrame with the fingerprint DataFrame\n",
    "data = pd.concat([data, fingerprint_df], axis=1)\n",
    "\n",
    "# Save the DataFrame with Morgan fingerprints to a new CSV file\n",
    "data.to_csv(\"data/a_baumannii_with_morgan_fingerprints.csv\", index=None)"
   ]
  },
  {
   "cell_type": "code",
   "execution_count": 21,
   "metadata": {
    "colab": {
     "base_uri": "https://localhost:8080/"
    },
    "id": "xyN0T3ALD5Or",
    "outputId": "4a0e4716-a882-446b-c6f8-5c9e8b1bbbd2"
   },
   "outputs": [
    {
     "data": {
      "text/plain": [
       "(2398, 2056)"
      ]
     },
     "execution_count": 21,
     "metadata": {},
     "output_type": "execute_result"
    }
   ],
   "source": [
    "data.shape"
   ]
  },
  {
   "cell_type": "markdown",
   "metadata": {},
   "source": [
    "## 5. Feature selection\n",
    "\n",
    "To improve model performance and prevent overfitting, this project employs feature selection techniques. Specifically, we address the following:\n",
    "\n",
    "**Highly Correlated Features:** Features that exhibit high correlation with each other provide redundant information.  We'll identify and remove highly correlated features (e.g., using a correlation matrix and a threshold like 0.7).\n",
    "\n",
    "**Low Variance Features:**  Features with very low variance provide little predictive power. We'll use a variance threshold to filter out features that fall below a specified level of variance."
   ]
  },
  {
   "cell_type": "code",
   "execution_count": 22,
   "metadata": {
    "id": "rjhYwDICvj3p"
   },
   "outputs": [],
   "source": [
    "descriptors = pd.read_csv(\"a_baumannii_with_morgan_fingerprints.csv\")"
   ]
  },
  {
   "cell_type": "code",
   "execution_count": 23,
   "metadata": {
    "id": "wYRPTYKXvj3p"
   },
   "outputs": [],
   "source": [
    "columns_to_drop = ['molecule_chembl_id', 'canonical_smiles', 'standard_type', 'standard_value', 'standard_units', 'mean_standard_value', 'Class', 'molecule']"
   ]
  },
  {
   "cell_type": "code",
   "execution_count": 25,
   "metadata": {
    "id": "LkhzVR46vj3p"
   },
   "outputs": [],
   "source": [
    "X = descriptors.drop(columns=columns_to_drop)"
   ]
  },
  {
   "cell_type": "code",
   "execution_count": 26,
   "metadata": {
    "colab": {
     "base_uri": "https://localhost:8080/"
    },
    "id": "wWvzXlh7vj3q",
    "outputId": "6ba85cb0-7dde-4909-9e77-143831ad4140"
   },
   "outputs": [
    {
     "data": {
      "text/plain": [
       "(2398, 2048)"
      ]
     },
     "execution_count": 26,
     "metadata": {},
     "output_type": "execute_result"
    }
   ],
   "source": [
    "X.shape"
   ]
  },
  {
   "cell_type": "code",
   "execution_count": 27,
   "metadata": {
    "colab": {
     "base_uri": "https://localhost:8080/"
    },
    "id": "k0jjU5ZGvj3q",
    "outputId": "827ddb24-ffa3-467d-c2b5-d87d243f8e31"
   },
   "outputs": [
    {
     "data": {
      "text/plain": [
       "0       1\n",
       "1       1\n",
       "2       1\n",
       "3       1\n",
       "4       1\n",
       "       ..\n",
       "2393    0\n",
       "2394    0\n",
       "2395    0\n",
       "2396    0\n",
       "2397    0\n",
       "Name: Class, Length: 2398, dtype: int64"
      ]
     },
     "execution_count": 27,
     "metadata": {},
     "output_type": "execute_result"
    }
   ],
   "source": [
    "y = data['Class'] #class being predicted\n",
    "y"
   ]
  },
  {
   "cell_type": "code",
   "execution_count": 28,
   "metadata": {
    "id": "6zyoYXRYvj3q"
   },
   "outputs": [],
   "source": [
    "import numpy as np\n",
    "# Calculate the correlation matrix\n",
    "corr_matrix = X.corr().abs()\n",
    "\n",
    "# Set the upper triangle of the correlation matrix to NaN\n",
    "upper_triangle = corr_matrix.where(np.triu(np.ones(corr_matrix.shape), k=1).astype(bool))\n",
    "\n",
    "# Find columns with correlation greater than a threshold (e.g., 0.7)\n",
    "high_corr_cols = [column for column in upper_triangle.columns if any(upper_triangle[column] > 0.7)]\n",
    "\n",
    "# Drop highly correlated columns\n",
    "X_filtered = X.drop(columns=high_corr_cols)\n",
    "\n",
    "# Optionally, you can also drop the rows containing NaN values, if any\n",
    "X_filtered = X_filtered.dropna()"
   ]
  },
  {
   "cell_type": "code",
   "execution_count": 29,
   "metadata": {
    "colab": {
     "base_uri": "https://localhost:8080/"
    },
    "id": "9Je28PJFvj3r",
    "outputId": "60dde2bd-aef6-4700-e065-385f122c4ee6"
   },
   "outputs": [
    {
     "data": {
      "text/plain": [
       "(2398, 1632)"
      ]
     },
     "execution_count": 29,
     "metadata": {},
     "output_type": "execute_result"
    }
   ],
   "source": [
    "X_filtered.shape"
   ]
  },
  {
   "cell_type": "code",
   "execution_count": 30,
   "metadata": {
    "id": "ld2u2wfdvj3r"
   },
   "outputs": [],
   "source": [
    "from sklearn.feature_selection import VarianceThreshold\n",
    "import numpy as np\n",
    "import pandas as pd\n",
    "\n",
    "# Assuming X1_filtered is your pandas DataFrame containing the features\n",
    "\n",
    "selector = VarianceThreshold(threshold=0.01)\n",
    "\n",
    "# Fit the selector to your training data\n",
    "selector.fit(X_filtered)\n",
    "\n",
    "# Get the indices of the features to keep\n",
    "indices_to_keep = selector.get_support(indices=True)\n",
    "\n",
    "# Remove low variance features from data and transform back to DataFrame\n",
    "X_filtered_selected = pd.DataFrame(selector.transform(X_filtered),\n",
    "                                     columns=X_filtered.columns[indices_to_keep])"
   ]
  },
  {
   "cell_type": "code",
   "execution_count": 31,
   "metadata": {
    "colab": {
     "base_uri": "https://localhost:8080/"
    },
    "id": "2CMQuUw4vj3r",
    "outputId": "d8528ee6-2d78-4362-8c20-49bf4fe7e0e3"
   },
   "outputs": [
    {
     "data": {
      "text/plain": [
       "(2398, 749)"
      ]
     },
     "execution_count": 31,
     "metadata": {},
     "output_type": "execute_result"
    }
   ],
   "source": [
    "X_filtered_selected.shape"
   ]
  },
  {
   "cell_type": "code",
   "execution_count": 32,
   "metadata": {
    "id": "Qs3CRrADvj3s"
   },
   "outputs": [],
   "source": [
    "X_filtered_selected.to_csv('data/a_baumannii_morgan_fp_selected.csv', index=None)"
   ]
  },
  {
   "cell_type": "code",
   "execution_count": 33,
   "metadata": {
    "id": "nGtC5FQjvj37"
   },
   "outputs": [],
   "source": [
    "y.to_csv(\"data/labels.csv\")"
   ]
  },
  {
   "cell_type": "markdown",
   "metadata": {},
   "source": [
    "## 6. Model Construction and Evaluation\n",
    "This project explores a range of machine learning algorithms for classification. We'll construct and evaluate the following models:\n",
    "\n",
    "**Random Forest (RF):** An ensemble method constructs and combines multiple decision trees. Often robust to overfitting and well-suited for nonlinear relationships.  \n",
    "**Support Vector Machine (SVM):** Finds the optimal hyperplane to separate classes. Excels with linear and nonlinear features (using appropriate kernels).  \n",
    "**K-Nearest Neighbors (KNN):** Predicts based on the labels of the most similar data points. Simplicity and flexibility are its strengths.  \n",
    "**XGBoost:** A highly optimized implementation of gradient boosting decision trees. Often delivers top-tier performance on tabular data.  \n",
    "**Convolutional Neural Network (CNN):** Deep learning architecture specialized for data with spatial structure (e.g., images). We'll adapt CNNs for working with molecular representations if suitable.  "
   ]
  },
  {
   "cell_type": "markdown",
   "metadata": {},
   "source": [
    "### 6.1. Data partioning\n",
    "\n",
    "This code implements a two-step data splitting strategy for machine learning. It performs the following:\n",
    "\n",
    "**Initial Split:** Divides the dataset into a combined training/testing set (80%) and a separate holdout set (20%).\n",
    "Train/Validation Split: Further splits the training/testing set into a training set (64% of original data) and a validation set (16% of original data).   \n",
    "**Purpose:**\n",
    "\n",
    "**Training:** Use the training set to fit your machine learning models.  \n",
    "**Validation:** Use the validation set to choose the best-performing model and adjust its settings (hyperparameters).  \n",
    "**Holdout:** The holdout set is reserved for a final, unbiased evaluation of the selected model's performance on unseen data."
   ]
  },
  {
   "cell_type": "code",
   "execution_count": 5,
   "metadata": {
    "id": "Okt7i8Ylvj37"
   },
   "outputs": [],
   "source": [
    "X = pd.read_csv('data/a_baumannii_morgan_fp_selected.csv')"
   ]
  },
  {
   "cell_type": "code",
   "execution_count": 6,
   "metadata": {
    "colab": {
     "base_uri": "https://localhost:8080/"
    },
    "id": "xOWdOjfevj37",
    "outputId": "4b0dc1a0-09ff-4c52-bfe9-f7d83c6e44ad"
   },
   "outputs": [
    {
     "data": {
      "text/plain": [
       "0       1\n",
       "1       1\n",
       "2       1\n",
       "3       1\n",
       "4       1\n",
       "       ..\n",
       "2393    0\n",
       "2394    0\n",
       "2395    0\n",
       "2396    0\n",
       "2397    0\n",
       "Name: Class, Length: 2398, dtype: int64"
      ]
     },
     "execution_count": 6,
     "metadata": {},
     "output_type": "execute_result"
    }
   ],
   "source": [
    "y = pd.read_csv(\"data/labels.csv\")\n",
    "y = y['Class']\n",
    "y"
   ]
  },
  {
   "cell_type": "code",
   "execution_count": 7,
   "metadata": {
    "id": "f9YXeb6ZD2TZ"
   },
   "outputs": [],
   "source": [
    "# Import SKlearn modules\n",
    "from sklearn.ensemble import RandomForestClassifier\n",
    "from sklearn import svm\n",
    "from sklearn.svm import SVC\n",
    "from sklearn.model_selection import train_test_split\n",
    "from sklearn.model_selection import cross_val_score, cross_val_predict\n",
    "from sklearn.metrics import confusion_matrix\n",
    "from sklearn.metrics import roc_auc_score"
   ]
  },
  {
   "cell_type": "code",
   "execution_count": 8,
   "metadata": {
    "id": "Y59TQCWBFR8x"
   },
   "outputs": [],
   "source": [
    "# Split your data into train-test set and holdout set\n",
    "X_train_test, X_holdout, y_train_test, y_holdout = train_test_split(X, y, test_size=0.2, shuffle=True, stratify=y, random_state=42)\n",
    "\n",
    "# Perform train-validation split on the train-test set\n",
    "X_train, X_test, y_train, y_test = train_test_split(X_train_test, y_train_test, test_size=0.2, shuffle=True, stratify=y_train_test, random_state=42)"
   ]
  },
  {
   "cell_type": "code",
   "execution_count": 38,
   "metadata": {
    "colab": {
     "base_uri": "https://localhost:8080/"
    },
    "id": "MpLMY8_RFwe2",
    "outputId": "98da3efa-997a-45a7-dcdf-bc7d418a2f74"
   },
   "outputs": [
    {
     "data": {
      "text/plain": [
       "((1534, 749), (384, 749), (480, 749))"
      ]
     },
     "execution_count": 38,
     "metadata": {},
     "output_type": "execute_result"
    }
   ],
   "source": [
    "X_train.shape, X_test.shape, X_holdout.shape"
   ]
  },
  {
   "cell_type": "markdown",
   "metadata": {
    "id": "FnC8NMvUV89g"
   },
   "source": [
    "### 6.2. Random Forest"
   ]
  },
  {
   "cell_type": "code",
   "execution_count": 10,
   "metadata": {
    "id": "lS7t9REZUhcc"
   },
   "outputs": [
    {
     "name": "stdout",
     "output_type": "stream",
     "text": [
      "Fitting 2 folds for each of 1 candidates, totalling 2 fits\n"
     ]
    },
    {
     "data": {
      "text/html": [
       "<style>#sk-container-id-1 {\n",
       "  /* Definition of color scheme common for light and dark mode */\n",
       "  --sklearn-color-text: black;\n",
       "  --sklearn-color-line: gray;\n",
       "  /* Definition of color scheme for unfitted estimators */\n",
       "  --sklearn-color-unfitted-level-0: #fff5e6;\n",
       "  --sklearn-color-unfitted-level-1: #f6e4d2;\n",
       "  --sklearn-color-unfitted-level-2: #ffe0b3;\n",
       "  --sklearn-color-unfitted-level-3: chocolate;\n",
       "  /* Definition of color scheme for fitted estimators */\n",
       "  --sklearn-color-fitted-level-0: #f0f8ff;\n",
       "  --sklearn-color-fitted-level-1: #d4ebff;\n",
       "  --sklearn-color-fitted-level-2: #b3dbfd;\n",
       "  --sklearn-color-fitted-level-3: cornflowerblue;\n",
       "\n",
       "  /* Specific color for light theme */\n",
       "  --sklearn-color-text-on-default-background: var(--sg-text-color, var(--theme-code-foreground, var(--jp-content-font-color1, black)));\n",
       "  --sklearn-color-background: var(--sg-background-color, var(--theme-background, var(--jp-layout-color0, white)));\n",
       "  --sklearn-color-border-box: var(--sg-text-color, var(--theme-code-foreground, var(--jp-content-font-color1, black)));\n",
       "  --sklearn-color-icon: #696969;\n",
       "\n",
       "  @media (prefers-color-scheme: dark) {\n",
       "    /* Redefinition of color scheme for dark theme */\n",
       "    --sklearn-color-text-on-default-background: var(--sg-text-color, var(--theme-code-foreground, var(--jp-content-font-color1, white)));\n",
       "    --sklearn-color-background: var(--sg-background-color, var(--theme-background, var(--jp-layout-color0, #111)));\n",
       "    --sklearn-color-border-box: var(--sg-text-color, var(--theme-code-foreground, var(--jp-content-font-color1, white)));\n",
       "    --sklearn-color-icon: #878787;\n",
       "  }\n",
       "}\n",
       "\n",
       "#sk-container-id-1 {\n",
       "  color: var(--sklearn-color-text);\n",
       "}\n",
       "\n",
       "#sk-container-id-1 pre {\n",
       "  padding: 0;\n",
       "}\n",
       "\n",
       "#sk-container-id-1 input.sk-hidden--visually {\n",
       "  border: 0;\n",
       "  clip: rect(1px 1px 1px 1px);\n",
       "  clip: rect(1px, 1px, 1px, 1px);\n",
       "  height: 1px;\n",
       "  margin: -1px;\n",
       "  overflow: hidden;\n",
       "  padding: 0;\n",
       "  position: absolute;\n",
       "  width: 1px;\n",
       "}\n",
       "\n",
       "#sk-container-id-1 div.sk-dashed-wrapped {\n",
       "  border: 1px dashed var(--sklearn-color-line);\n",
       "  margin: 0 0.4em 0.5em 0.4em;\n",
       "  box-sizing: border-box;\n",
       "  padding-bottom: 0.4em;\n",
       "  background-color: var(--sklearn-color-background);\n",
       "}\n",
       "\n",
       "#sk-container-id-1 div.sk-container {\n",
       "  /* jupyter's `normalize.less` sets `[hidden] { display: none; }`\n",
       "     but bootstrap.min.css set `[hidden] { display: none !important; }`\n",
       "     so we also need the `!important` here to be able to override the\n",
       "     default hidden behavior on the sphinx rendered scikit-learn.org.\n",
       "     See: https://github.com/scikit-learn/scikit-learn/issues/21755 */\n",
       "  display: inline-block !important;\n",
       "  position: relative;\n",
       "}\n",
       "\n",
       "#sk-container-id-1 div.sk-text-repr-fallback {\n",
       "  display: none;\n",
       "}\n",
       "\n",
       "div.sk-parallel-item,\n",
       "div.sk-serial,\n",
       "div.sk-item {\n",
       "  /* draw centered vertical line to link estimators */\n",
       "  background-image: linear-gradient(var(--sklearn-color-text-on-default-background), var(--sklearn-color-text-on-default-background));\n",
       "  background-size: 2px 100%;\n",
       "  background-repeat: no-repeat;\n",
       "  background-position: center center;\n",
       "}\n",
       "\n",
       "/* Parallel-specific style estimator block */\n",
       "\n",
       "#sk-container-id-1 div.sk-parallel-item::after {\n",
       "  content: \"\";\n",
       "  width: 100%;\n",
       "  border-bottom: 2px solid var(--sklearn-color-text-on-default-background);\n",
       "  flex-grow: 1;\n",
       "}\n",
       "\n",
       "#sk-container-id-1 div.sk-parallel {\n",
       "  display: flex;\n",
       "  align-items: stretch;\n",
       "  justify-content: center;\n",
       "  background-color: var(--sklearn-color-background);\n",
       "  position: relative;\n",
       "}\n",
       "\n",
       "#sk-container-id-1 div.sk-parallel-item {\n",
       "  display: flex;\n",
       "  flex-direction: column;\n",
       "}\n",
       "\n",
       "#sk-container-id-1 div.sk-parallel-item:first-child::after {\n",
       "  align-self: flex-end;\n",
       "  width: 50%;\n",
       "}\n",
       "\n",
       "#sk-container-id-1 div.sk-parallel-item:last-child::after {\n",
       "  align-self: flex-start;\n",
       "  width: 50%;\n",
       "}\n",
       "\n",
       "#sk-container-id-1 div.sk-parallel-item:only-child::after {\n",
       "  width: 0;\n",
       "}\n",
       "\n",
       "/* Serial-specific style estimator block */\n",
       "\n",
       "#sk-container-id-1 div.sk-serial {\n",
       "  display: flex;\n",
       "  flex-direction: column;\n",
       "  align-items: center;\n",
       "  background-color: var(--sklearn-color-background);\n",
       "  padding-right: 1em;\n",
       "  padding-left: 1em;\n",
       "}\n",
       "\n",
       "\n",
       "/* Toggleable style: style used for estimator/Pipeline/ColumnTransformer box that is\n",
       "clickable and can be expanded/collapsed.\n",
       "- Pipeline and ColumnTransformer use this feature and define the default style\n",
       "- Estimators will overwrite some part of the style using the `sk-estimator` class\n",
       "*/\n",
       "\n",
       "/* Pipeline and ColumnTransformer style (default) */\n",
       "\n",
       "#sk-container-id-1 div.sk-toggleable {\n",
       "  /* Default theme specific background. It is overwritten whether we have a\n",
       "  specific estimator or a Pipeline/ColumnTransformer */\n",
       "  background-color: var(--sklearn-color-background);\n",
       "}\n",
       "\n",
       "/* Toggleable label */\n",
       "#sk-container-id-1 label.sk-toggleable__label {\n",
       "  cursor: pointer;\n",
       "  display: block;\n",
       "  width: 100%;\n",
       "  margin-bottom: 0;\n",
       "  padding: 0.5em;\n",
       "  box-sizing: border-box;\n",
       "  text-align: center;\n",
       "}\n",
       "\n",
       "#sk-container-id-1 label.sk-toggleable__label-arrow:before {\n",
       "  /* Arrow on the left of the label */\n",
       "  content: \"▸\";\n",
       "  float: left;\n",
       "  margin-right: 0.25em;\n",
       "  color: var(--sklearn-color-icon);\n",
       "}\n",
       "\n",
       "#sk-container-id-1 label.sk-toggleable__label-arrow:hover:before {\n",
       "  color: var(--sklearn-color-text);\n",
       "}\n",
       "\n",
       "/* Toggleable content - dropdown */\n",
       "\n",
       "#sk-container-id-1 div.sk-toggleable__content {\n",
       "  max-height: 0;\n",
       "  max-width: 0;\n",
       "  overflow: hidden;\n",
       "  text-align: left;\n",
       "  /* unfitted */\n",
       "  background-color: var(--sklearn-color-unfitted-level-0);\n",
       "}\n",
       "\n",
       "#sk-container-id-1 div.sk-toggleable__content.fitted {\n",
       "  /* fitted */\n",
       "  background-color: var(--sklearn-color-fitted-level-0);\n",
       "}\n",
       "\n",
       "#sk-container-id-1 div.sk-toggleable__content pre {\n",
       "  margin: 0.2em;\n",
       "  border-radius: 0.25em;\n",
       "  color: var(--sklearn-color-text);\n",
       "  /* unfitted */\n",
       "  background-color: var(--sklearn-color-unfitted-level-0);\n",
       "}\n",
       "\n",
       "#sk-container-id-1 div.sk-toggleable__content.fitted pre {\n",
       "  /* unfitted */\n",
       "  background-color: var(--sklearn-color-fitted-level-0);\n",
       "}\n",
       "\n",
       "#sk-container-id-1 input.sk-toggleable__control:checked~div.sk-toggleable__content {\n",
       "  /* Expand drop-down */\n",
       "  max-height: 200px;\n",
       "  max-width: 100%;\n",
       "  overflow: auto;\n",
       "}\n",
       "\n",
       "#sk-container-id-1 input.sk-toggleable__control:checked~label.sk-toggleable__label-arrow:before {\n",
       "  content: \"▾\";\n",
       "}\n",
       "\n",
       "/* Pipeline/ColumnTransformer-specific style */\n",
       "\n",
       "#sk-container-id-1 div.sk-label input.sk-toggleable__control:checked~label.sk-toggleable__label {\n",
       "  color: var(--sklearn-color-text);\n",
       "  background-color: var(--sklearn-color-unfitted-level-2);\n",
       "}\n",
       "\n",
       "#sk-container-id-1 div.sk-label.fitted input.sk-toggleable__control:checked~label.sk-toggleable__label {\n",
       "  background-color: var(--sklearn-color-fitted-level-2);\n",
       "}\n",
       "\n",
       "/* Estimator-specific style */\n",
       "\n",
       "/* Colorize estimator box */\n",
       "#sk-container-id-1 div.sk-estimator input.sk-toggleable__control:checked~label.sk-toggleable__label {\n",
       "  /* unfitted */\n",
       "  background-color: var(--sklearn-color-unfitted-level-2);\n",
       "}\n",
       "\n",
       "#sk-container-id-1 div.sk-estimator.fitted input.sk-toggleable__control:checked~label.sk-toggleable__label {\n",
       "  /* fitted */\n",
       "  background-color: var(--sklearn-color-fitted-level-2);\n",
       "}\n",
       "\n",
       "#sk-container-id-1 div.sk-label label.sk-toggleable__label,\n",
       "#sk-container-id-1 div.sk-label label {\n",
       "  /* The background is the default theme color */\n",
       "  color: var(--sklearn-color-text-on-default-background);\n",
       "}\n",
       "\n",
       "/* On hover, darken the color of the background */\n",
       "#sk-container-id-1 div.sk-label:hover label.sk-toggleable__label {\n",
       "  color: var(--sklearn-color-text);\n",
       "  background-color: var(--sklearn-color-unfitted-level-2);\n",
       "}\n",
       "\n",
       "/* Label box, darken color on hover, fitted */\n",
       "#sk-container-id-1 div.sk-label.fitted:hover label.sk-toggleable__label.fitted {\n",
       "  color: var(--sklearn-color-text);\n",
       "  background-color: var(--sklearn-color-fitted-level-2);\n",
       "}\n",
       "\n",
       "/* Estimator label */\n",
       "\n",
       "#sk-container-id-1 div.sk-label label {\n",
       "  font-family: monospace;\n",
       "  font-weight: bold;\n",
       "  display: inline-block;\n",
       "  line-height: 1.2em;\n",
       "}\n",
       "\n",
       "#sk-container-id-1 div.sk-label-container {\n",
       "  text-align: center;\n",
       "}\n",
       "\n",
       "/* Estimator-specific */\n",
       "#sk-container-id-1 div.sk-estimator {\n",
       "  font-family: monospace;\n",
       "  border: 1px dotted var(--sklearn-color-border-box);\n",
       "  border-radius: 0.25em;\n",
       "  box-sizing: border-box;\n",
       "  margin-bottom: 0.5em;\n",
       "  /* unfitted */\n",
       "  background-color: var(--sklearn-color-unfitted-level-0);\n",
       "}\n",
       "\n",
       "#sk-container-id-1 div.sk-estimator.fitted {\n",
       "  /* fitted */\n",
       "  background-color: var(--sklearn-color-fitted-level-0);\n",
       "}\n",
       "\n",
       "/* on hover */\n",
       "#sk-container-id-1 div.sk-estimator:hover {\n",
       "  /* unfitted */\n",
       "  background-color: var(--sklearn-color-unfitted-level-2);\n",
       "}\n",
       "\n",
       "#sk-container-id-1 div.sk-estimator.fitted:hover {\n",
       "  /* fitted */\n",
       "  background-color: var(--sklearn-color-fitted-level-2);\n",
       "}\n",
       "\n",
       "/* Specification for estimator info (e.g. \"i\" and \"?\") */\n",
       "\n",
       "/* Common style for \"i\" and \"?\" */\n",
       "\n",
       ".sk-estimator-doc-link,\n",
       "a:link.sk-estimator-doc-link,\n",
       "a:visited.sk-estimator-doc-link {\n",
       "  float: right;\n",
       "  font-size: smaller;\n",
       "  line-height: 1em;\n",
       "  font-family: monospace;\n",
       "  background-color: var(--sklearn-color-background);\n",
       "  border-radius: 1em;\n",
       "  height: 1em;\n",
       "  width: 1em;\n",
       "  text-decoration: none !important;\n",
       "  margin-left: 1ex;\n",
       "  /* unfitted */\n",
       "  border: var(--sklearn-color-unfitted-level-1) 1pt solid;\n",
       "  color: var(--sklearn-color-unfitted-level-1);\n",
       "}\n",
       "\n",
       ".sk-estimator-doc-link.fitted,\n",
       "a:link.sk-estimator-doc-link.fitted,\n",
       "a:visited.sk-estimator-doc-link.fitted {\n",
       "  /* fitted */\n",
       "  border: var(--sklearn-color-fitted-level-1) 1pt solid;\n",
       "  color: var(--sklearn-color-fitted-level-1);\n",
       "}\n",
       "\n",
       "/* On hover */\n",
       "div.sk-estimator:hover .sk-estimator-doc-link:hover,\n",
       ".sk-estimator-doc-link:hover,\n",
       "div.sk-label-container:hover .sk-estimator-doc-link:hover,\n",
       ".sk-estimator-doc-link:hover {\n",
       "  /* unfitted */\n",
       "  background-color: var(--sklearn-color-unfitted-level-3);\n",
       "  color: var(--sklearn-color-background);\n",
       "  text-decoration: none;\n",
       "}\n",
       "\n",
       "div.sk-estimator.fitted:hover .sk-estimator-doc-link.fitted:hover,\n",
       ".sk-estimator-doc-link.fitted:hover,\n",
       "div.sk-label-container:hover .sk-estimator-doc-link.fitted:hover,\n",
       ".sk-estimator-doc-link.fitted:hover {\n",
       "  /* fitted */\n",
       "  background-color: var(--sklearn-color-fitted-level-3);\n",
       "  color: var(--sklearn-color-background);\n",
       "  text-decoration: none;\n",
       "}\n",
       "\n",
       "/* Span, style for the box shown on hovering the info icon */\n",
       ".sk-estimator-doc-link span {\n",
       "  display: none;\n",
       "  z-index: 9999;\n",
       "  position: relative;\n",
       "  font-weight: normal;\n",
       "  right: .2ex;\n",
       "  padding: .5ex;\n",
       "  margin: .5ex;\n",
       "  width: min-content;\n",
       "  min-width: 20ex;\n",
       "  max-width: 50ex;\n",
       "  color: var(--sklearn-color-text);\n",
       "  box-shadow: 2pt 2pt 4pt #999;\n",
       "  /* unfitted */\n",
       "  background: var(--sklearn-color-unfitted-level-0);\n",
       "  border: .5pt solid var(--sklearn-color-unfitted-level-3);\n",
       "}\n",
       "\n",
       ".sk-estimator-doc-link.fitted span {\n",
       "  /* fitted */\n",
       "  background: var(--sklearn-color-fitted-level-0);\n",
       "  border: var(--sklearn-color-fitted-level-3);\n",
       "}\n",
       "\n",
       ".sk-estimator-doc-link:hover span {\n",
       "  display: block;\n",
       "}\n",
       "\n",
       "/* \"?\"-specific style due to the `<a>` HTML tag */\n",
       "\n",
       "#sk-container-id-1 a.estimator_doc_link {\n",
       "  float: right;\n",
       "  font-size: 1rem;\n",
       "  line-height: 1em;\n",
       "  font-family: monospace;\n",
       "  background-color: var(--sklearn-color-background);\n",
       "  border-radius: 1rem;\n",
       "  height: 1rem;\n",
       "  width: 1rem;\n",
       "  text-decoration: none;\n",
       "  /* unfitted */\n",
       "  color: var(--sklearn-color-unfitted-level-1);\n",
       "  border: var(--sklearn-color-unfitted-level-1) 1pt solid;\n",
       "}\n",
       "\n",
       "#sk-container-id-1 a.estimator_doc_link.fitted {\n",
       "  /* fitted */\n",
       "  border: var(--sklearn-color-fitted-level-1) 1pt solid;\n",
       "  color: var(--sklearn-color-fitted-level-1);\n",
       "}\n",
       "\n",
       "/* On hover */\n",
       "#sk-container-id-1 a.estimator_doc_link:hover {\n",
       "  /* unfitted */\n",
       "  background-color: var(--sklearn-color-unfitted-level-3);\n",
       "  color: var(--sklearn-color-background);\n",
       "  text-decoration: none;\n",
       "}\n",
       "\n",
       "#sk-container-id-1 a.estimator_doc_link.fitted:hover {\n",
       "  /* fitted */\n",
       "  background-color: var(--sklearn-color-fitted-level-3);\n",
       "}\n",
       "</style><div id=\"sk-container-id-1\" class=\"sk-top-container\"><div class=\"sk-text-repr-fallback\"><pre>RandomizedSearchCV(cv=2, estimator=RandomForestClassifier(random_state=42),\n",
       "                   n_iter=1, n_jobs=-1,\n",
       "                   param_distributions={&#x27;bootstrap&#x27;: [True, False],\n",
       "                                        &#x27;max_depth&#x27;: [3, 4, 5, 6, 7, 8, 9, 10,\n",
       "                                                      None],\n",
       "                                        &#x27;max_features&#x27;: [&#x27;auto&#x27;, &#x27;sqrt&#x27;, &#x27;log2&#x27;,\n",
       "                                                         None],\n",
       "                                        &#x27;min_samples_leaf&#x27;: [1, 2, 4],\n",
       "                                        &#x27;min_samples_split&#x27;: [2, 5, 10],\n",
       "                                        &#x27;n_estimators&#x27;: [100, 200, 300, 400,\n",
       "                                                         500]},\n",
       "                   random_state=42, scoring=&#x27;accuracy&#x27;, verbose=2)</pre><b>In a Jupyter environment, please rerun this cell to show the HTML representation or trust the notebook. <br />On GitHub, the HTML representation is unable to render, please try loading this page with nbviewer.org.</b></div><div class=\"sk-container\" hidden><div class=\"sk-item sk-dashed-wrapped\"><div class=\"sk-label-container\"><div class=\"sk-label fitted sk-toggleable\"><input class=\"sk-toggleable__control sk-hidden--visually\" id=\"sk-estimator-id-1\" type=\"checkbox\" ><label for=\"sk-estimator-id-1\" class=\"sk-toggleable__label fitted sk-toggleable__label-arrow fitted\">&nbsp;&nbsp;RandomizedSearchCV<a class=\"sk-estimator-doc-link fitted\" rel=\"noreferrer\" target=\"_blank\" href=\"https://scikit-learn.org/1.4/modules/generated/sklearn.model_selection.RandomizedSearchCV.html\">?<span>Documentation for RandomizedSearchCV</span></a><span class=\"sk-estimator-doc-link fitted\">i<span>Fitted</span></span></label><div class=\"sk-toggleable__content fitted\"><pre>RandomizedSearchCV(cv=2, estimator=RandomForestClassifier(random_state=42),\n",
       "                   n_iter=1, n_jobs=-1,\n",
       "                   param_distributions={&#x27;bootstrap&#x27;: [True, False],\n",
       "                                        &#x27;max_depth&#x27;: [3, 4, 5, 6, 7, 8, 9, 10,\n",
       "                                                      None],\n",
       "                                        &#x27;max_features&#x27;: [&#x27;auto&#x27;, &#x27;sqrt&#x27;, &#x27;log2&#x27;,\n",
       "                                                         None],\n",
       "                                        &#x27;min_samples_leaf&#x27;: [1, 2, 4],\n",
       "                                        &#x27;min_samples_split&#x27;: [2, 5, 10],\n",
       "                                        &#x27;n_estimators&#x27;: [100, 200, 300, 400,\n",
       "                                                         500]},\n",
       "                   random_state=42, scoring=&#x27;accuracy&#x27;, verbose=2)</pre></div> </div></div><div class=\"sk-parallel\"><div class=\"sk-parallel-item\"><div class=\"sk-item\"><div class=\"sk-label-container\"><div class=\"sk-label fitted sk-toggleable\"><input class=\"sk-toggleable__control sk-hidden--visually\" id=\"sk-estimator-id-2\" type=\"checkbox\" ><label for=\"sk-estimator-id-2\" class=\"sk-toggleable__label fitted sk-toggleable__label-arrow fitted\">estimator: RandomForestClassifier</label><div class=\"sk-toggleable__content fitted\"><pre>RandomForestClassifier(random_state=42)</pre></div> </div></div><div class=\"sk-serial\"><div class=\"sk-item\"><div class=\"sk-estimator fitted sk-toggleable\"><input class=\"sk-toggleable__control sk-hidden--visually\" id=\"sk-estimator-id-3\" type=\"checkbox\" ><label for=\"sk-estimator-id-3\" class=\"sk-toggleable__label fitted sk-toggleable__label-arrow fitted\">&nbsp;RandomForestClassifier<a class=\"sk-estimator-doc-link fitted\" rel=\"noreferrer\" target=\"_blank\" href=\"https://scikit-learn.org/1.4/modules/generated/sklearn.ensemble.RandomForestClassifier.html\">?<span>Documentation for RandomForestClassifier</span></a></label><div class=\"sk-toggleable__content fitted\"><pre>RandomForestClassifier(random_state=42)</pre></div> </div></div></div></div></div></div></div></div></div>"
      ],
      "text/plain": [
       "RandomizedSearchCV(cv=2, estimator=RandomForestClassifier(random_state=42),\n",
       "                   n_iter=1, n_jobs=-1,\n",
       "                   param_distributions={'bootstrap': [True, False],\n",
       "                                        'max_depth': [3, 4, 5, 6, 7, 8, 9, 10,\n",
       "                                                      None],\n",
       "                                        'max_features': ['auto', 'sqrt', 'log2',\n",
       "                                                         None],\n",
       "                                        'min_samples_leaf': [1, 2, 4],\n",
       "                                        'min_samples_split': [2, 5, 10],\n",
       "                                        'n_estimators': [100, 200, 300, 400,\n",
       "                                                         500]},\n",
       "                   random_state=42, scoring='accuracy', verbose=2)"
      ]
     },
     "execution_count": 10,
     "metadata": {},
     "output_type": "execute_result"
    }
   ],
   "source": [
    "from sklearn.model_selection import train_test_split, RandomizedSearchCV\n",
    "from sklearn.ensemble import RandomForestClassifier\n",
    "from sklearn.metrics import accuracy_score\n",
    "\n",
    "\n",
    "# Define the parameter grid to search\n",
    "param_grid = {\n",
    "    'n_estimators': [100, 200, 300, 400, 500],\n",
    "    'max_depth': [3, 4, 5, 6, 7, 8, 9, 10, None],\n",
    "    'min_samples_split': [2, 5, 10],\n",
    "    'min_samples_leaf': [1, 2, 4],\n",
    "    'max_features': ['auto', 'sqrt', 'log2', None],\n",
    "    'bootstrap': [True, False]\n",
    "}\n",
    "\n",
    "# Initialize Random Forest Classifier\n",
    "rf = RandomForestClassifier(random_state=42)\n",
    "\n",
    "# Initialize RandomizedSearchCV\n",
    "random_search = RandomizedSearchCV(estimator=rf, param_distributions=param_grid, n_iter=100, scoring='accuracy', cv=5, verbose=2, random_state=42, n_jobs=-1)\n",
    "\n",
    "# Perform Randomized Search for hyperparameter tuning\n",
    "random_search.fit(X_train, y_train)"
   ]
  },
  {
   "cell_type": "code",
   "execution_count": 11,
   "metadata": {
    "colab": {
     "base_uri": "https://localhost:8080/"
    },
    "id": "wTsrUBqeo9pS",
    "outputId": "5098853d-ed1b-49d0-e92c-07b8c59cd298"
   },
   "outputs": [
    {
     "name": "stdout",
     "output_type": "stream",
     "text": [
      "Best Parameters: {'n_estimators': 500, 'min_samples_split': 5, 'min_samples_leaf': 2, 'max_features': 'log2', 'max_depth': None, 'bootstrap': False}\n"
     ]
    }
   ],
   "source": [
    "# Print the best parameters found\n",
    "print(\"Best Parameters:\", random_search.best_params_)"
   ]
  },
  {
   "cell_type": "code",
   "execution_count": 12,
   "metadata": {
    "colab": {
     "base_uri": "https://localhost:8080/"
    },
    "id": "G8DYp1-noi8C",
    "outputId": "025a03c6-07f9-4f80-ea96-8448e23d4c6c"
   },
   "outputs": [
    {
     "name": "stdout",
     "output_type": "stream",
     "text": [
      "Test Set Accuracy: 0.96875\n",
      "Holdout Set Accuracy: 0.9125\n"
     ]
    }
   ],
   "source": [
    "# Use the best parameters to train the Random Forest classifier\n",
    "rf = RandomForestClassifier(**random_search.best_params_, random_state=42)\n",
    "rf.fit(X_train_test, y_train_test)\n",
    "\n",
    "# Evaluate the classifier on the test set\n",
    "y_pred_test = rf.predict(X_test)\n",
    "accuracy_test = accuracy_score(y_test, y_pred_test)\n",
    "print(\"Test Set Accuracy:\", accuracy_test)\n",
    "\n",
    "# Evaluate the classifier on the holdout set\n",
    "y_pred_holdout = rf.predict(X_holdout)\n",
    "accuracy_holdout = accuracy_score(y_holdout, y_pred_holdout)\n",
    "print(\"Holdout Set Accuracy:\", accuracy_holdout)"
   ]
  },
  {
   "cell_type": "code",
   "execution_count": 26,
   "metadata": {
    "colab": {
     "base_uri": "https://localhost:8080/"
    },
    "id": "JfXnuFIpYAkA",
    "outputId": "d58d604c-28b4-4207-c755-9a1de9e51d44"
   },
   "outputs": [
    {
     "name": "stdout",
     "output_type": "stream",
     "text": [
      "AUC: 0.965330321852061\n",
      "RMSE: 0.1767766952966369\n"
     ]
    }
   ],
   "source": [
    "from sklearn.metrics import mean_squared_error\n",
    "\n",
    "rf_test = rf.predict(X_test)\n",
    "auc_rf_test = roc_auc_score(y_test, rf_test)\n",
    "rmse_rf_test = np.sqrt(mean_squared_error(y_test, rf.predict(X_test)))\n",
    "print(\"AUC:\", auc_rf_test)\n",
    "print(\"RMSE:\", rmse_rf_test)"
   ]
  },
  {
   "cell_type": "code",
   "execution_count": 27,
   "metadata": {
    "colab": {
     "base_uri": "https://localhost:8080/"
    },
    "id": "TRi0b4O7Xtf-",
    "outputId": "823ea94f-279a-4801-c0f6-601e33263226"
   },
   "outputs": [
    {
     "name": "stdout",
     "output_type": "stream",
     "text": [
      "AUC: 0.9097222222222222\n",
      "RMSE: 0.2958039891549808\n"
     ]
    }
   ],
   "source": [
    "rf_holdout = rf.predict(X_holdout)\n",
    "auc_rf_holdout = roc_auc_score(y_holdout, rf_holdout)\n",
    "rmse_rf_holdout = np.sqrt(mean_squared_error(y_holdout, rf.predict(X_holdout)))\n",
    "print(\"AUC:\", auc_rf_holdout)\n",
    "print(\"RMSE:\", rmse_rf_holdout)"
   ]
  },
  {
   "cell_type": "code",
   "execution_count": 28,
   "metadata": {
    "colab": {
     "base_uri": "https://localhost:8080/"
    },
    "id": "q6dpRKneoeMW",
    "outputId": "97053147-25d1-4a7d-b576-a959fefbcd4e"
   },
   "outputs": [
    {
     "name": "stdout",
     "output_type": "stream",
     "text": [
      "[[146   8]\n",
      " [  4 226]]\n"
     ]
    }
   ],
   "source": [
    "from sklearn.metrics import confusion_matrix\n",
    "#Generate the confusion matrix\n",
    "cf_matrix = confusion_matrix(y_test, rf_test)\n",
    "print(cf_matrix)"
   ]
  },
  {
   "cell_type": "code",
   "execution_count": 48,
   "metadata": {
    "colab": {
     "base_uri": "https://localhost:8080/"
    },
    "id": "YuEL-y0AZngw",
    "outputId": "c4601143-c0ab-4d82-f352-24f88c20f70d"
   },
   "outputs": [
    {
     "name": "stdout",
     "output_type": "stream",
     "text": [
      "Positive Predictive Value (Precision): 0.9658119658119658\n",
      "Negative Predictive Value: 0.9733333333333334\n",
      "Matthews Correlation Coefficient (MCC): 0.934893346127923\n",
      "F1 Score: 0.9741379310344828\n",
      "Accuracy: 0.96875\n"
     ]
    }
   ],
   "source": [
    "from sklearn.metrics import precision_score, recall_score, f1_score, accuracy_score, matthews_corrcoef\n",
    "\n",
    "# Positive Predictive Value (Precision)\n",
    "precision = precision_score(y_test, rf_test)\n",
    "\n",
    "# Negative Predictive Value\n",
    "# For NPV, we need to swap the labels, assuming it's binary classification\n",
    "tn, fp, fn, tp = cf_matrix.ravel()\n",
    "npv = tn / (tn + fn)\n",
    "\n",
    "# Matthews Correlation Coefficient (MCC)\n",
    "mcc = matthews_corrcoef(y_test, rf_test)\n",
    "\n",
    "# F1 Score\n",
    "f1 = f1_score(y_test, rf_test)\n",
    "\n",
    "# Accuracy\n",
    "accuracy = accuracy_score(y_test, rf_test)\n",
    "\n",
    "# Print the calculated metrics\n",
    "print(\"Positive Predictive Value (Precision):\", precision)\n",
    "print(\"Negative Predictive Value:\", npv)\n",
    "print(\"Matthews Correlation Coefficient (MCC):\", mcc)\n",
    "print(\"F1 Score:\", f1)\n",
    "print(\"Accuracy:\", accuracy)"
   ]
  },
  {
   "cell_type": "code",
   "execution_count": 49,
   "metadata": {
    "colab": {
     "base_uri": "https://localhost:8080/"
    },
    "id": "3UrP10RUw7Pc",
    "outputId": "39fb8dc0-af5d-4a37-9c44-f03b0c749c6e"
   },
   "outputs": [
    {
     "name": "stdout",
     "output_type": "stream",
     "text": [
      "[[172  20]\n",
      " [ 22 266]]\n"
     ]
    }
   ],
   "source": [
    "from sklearn.metrics import confusion_matrix\n",
    "#Generate the confusion matrix\n",
    "cf_matrix = confusion_matrix(y_holdout, rf_holdout)\n",
    "print(cf_matrix)"
   ]
  },
  {
   "cell_type": "code",
   "execution_count": 50,
   "metadata": {
    "colab": {
     "base_uri": "https://localhost:8080/"
    },
    "id": "4wdwDfInZuq_",
    "outputId": "deaa938b-f8fa-4666-a7fe-1750e14b820a"
   },
   "outputs": [
    {
     "name": "stdout",
     "output_type": "stream",
     "text": [
      "Positive Predictive Value (Precision): 0.9300699300699301\n",
      "Negative Predictive Value: 0.8865979381443299\n",
      "Matthews Correlation Coefficient (MCC): 0.8180549783263121\n",
      "F1 Score: 0.926829268292683\n",
      "Accuracy: 0.9125\n"
     ]
    }
   ],
   "source": [
    "from sklearn.metrics import precision_score, recall_score, f1_score, accuracy_score, matthews_corrcoef\n",
    "\n",
    "# Positive Predictive Value (Precision)\n",
    "precision = precision_score(y_holdout, rf_holdout)\n",
    "\n",
    "# Negative Predictive Value\n",
    "# For NPV, we need to swap the labels, assuming it's binary classification\n",
    "tn, fp, fn, tp = cf_matrix.ravel()\n",
    "npv = tn / (tn + fn)\n",
    "\n",
    "# Matthews Correlation Coefficient (MCC)\n",
    "mcc = matthews_corrcoef(y_holdout, rf_holdout)\n",
    "\n",
    "# F1 Score\n",
    "f1 = f1_score(y_holdout, rf_holdout)\n",
    "\n",
    "# Accuracy\n",
    "accuracy = accuracy_score(y_holdout, rf_holdout)\n",
    "\n",
    "# Print the calculated metrics\n",
    "print(\"Positive Predictive Value (Precision):\", precision)\n",
    "print(\"Negative Predictive Value:\", npv)\n",
    "print(\"Matthews Correlation Coefficient (MCC):\", mcc)\n",
    "print(\"F1 Score:\", f1)\n",
    "print(\"Accuracy:\", accuracy)"
   ]
  },
  {
   "cell_type": "markdown",
   "metadata": {
    "id": "ky8CNVdItvgZ"
   },
   "source": [
    "### 6.3. Support Vector Machine"
   ]
  },
  {
   "cell_type": "code",
   "execution_count": null,
   "metadata": {
    "id": "RfdmQbBRXkFJ"
   },
   "outputs": [],
   "source": [
    "from sklearn.model_selection import GridSearchCV\n",
    "\n",
    "# defining parameter range\n",
    "param_grid = {'C': [0.1, 1, 10, 100, 1000],\n",
    "\t\t\t'gamma': [1, 0.1, 0.01, 0.001, 0.0001],\n",
    "\t\t\t'kernel': ['rbf']}\n",
    "\n",
    "grid = GridSearchCV(SVC(), param_grid, refit = True, verbose = 3)\n",
    "\n",
    "# fitting the model for grid search\n",
    "grid.fit(X_train, y_train)"
   ]
  },
  {
   "cell_type": "code",
   "execution_count": null,
   "metadata": {
    "colab": {
     "base_uri": "https://localhost:8080/"
    },
    "id": "Q7iYK4Ulw7Pd",
    "outputId": "f08afa04-0554-4005-c611-83094134372f"
   },
   "outputs": [
    {
     "name": "stdout",
     "output_type": "stream",
     "text": [
      "SVC(C=100, gamma=0.01)\n"
     ]
    }
   ],
   "source": [
    "# print best parameter after tuning\n",
    "print(grid.best_estimator_)"
   ]
  },
  {
   "cell_type": "code",
   "execution_count": 13,
   "metadata": {
    "colab": {
     "base_uri": "https://localhost:8080/"
    },
    "id": "s7WA12KvXj6W",
    "outputId": "de7baf25-b64c-49b8-b2d3-34d080e00dc7"
   },
   "outputs": [
    {
     "name": "stderr",
     "output_type": "stream",
     "text": [
      "/tmp/ipykernel_508/254875518.py:3: FutureWarning: Series.ravel is deprecated. The underlying array is already 1D, so ravel is not necessary.  Use `to_numpy()` for conversion to a numpy array instead.\n",
      "  svm.fit(X_train, y_train.ravel())\n"
     ]
    },
    {
     "name": "stdout",
     "output_type": "stream",
     "text": [
      "Test Set Accuracy: 0.8854166666666666\n",
      "Holdout Set Accuracy: 0.8979166666666667\n"
     ]
    }
   ],
   "source": [
    "# Use the best parameters to train the Random Forest classifier\n",
    "svm = SVC(C=100, gamma=0.01, kernel='rbf', random_state=42, probability=True)\n",
    "svm.fit(X_train, y_train.ravel())\n",
    "# Evaluate the classifier on the test set\n",
    "y_pred_test = svm.predict(X_test)\n",
    "accuracy_test = accuracy_score(y_test, y_pred_test)\n",
    "print(\"Test Set Accuracy:\", accuracy_test)\n",
    "\n",
    "# Evaluate the classifier on the holdout set\n",
    "y_pred_holdout = svm.predict(X_holdout)\n",
    "accuracy_holdout = accuracy_score(y_holdout, y_pred_holdout)\n",
    "print(\"Holdout Set Accuracy:\", accuracy_holdout)"
   ]
  },
  {
   "cell_type": "code",
   "execution_count": 29,
   "metadata": {
    "colab": {
     "base_uri": "https://localhost:8080/"
    },
    "id": "vwtTog8laNbY",
    "outputId": "a9301247-f956-40cd-f0eb-0e1a71057168"
   },
   "outputs": [
    {
     "name": "stdout",
     "output_type": "stream",
     "text": [
      "AUC: 0.8764539808018069\n",
      "RMSE: 0.338501600193165\n"
     ]
    }
   ],
   "source": [
    "svm_test = svm.predict(X_test)\n",
    "auc_svm_test = roc_auc_score(y_test, svm_test)\n",
    "rmse_svm_test = np.sqrt(mean_squared_error(y_test, svm.predict(X_test)))\n",
    "print(\"AUC:\", auc_svm_test)\n",
    "print(\"RMSE:\", rmse_svm_test)"
   ]
  },
  {
   "cell_type": "code",
   "execution_count": 30,
   "metadata": {
    "colab": {
     "base_uri": "https://localhost:8080/"
    },
    "id": "De4Rl3ThaNkc",
    "outputId": "37d5a73b-d6c3-417a-8464-132825ff9af3"
   },
   "outputs": [
    {
     "name": "stdout",
     "output_type": "stream",
     "text": [
      "AUC: 0.8932291666666665\n",
      "RMSE: 0.3195048252113469\n"
     ]
    }
   ],
   "source": [
    "svm_holdout = svm.predict(X_holdout)\n",
    "auc_svm_holdout = roc_auc_score(y_holdout, svm_holdout)\n",
    "rmse_svm_holdout = np.sqrt(mean_squared_error(y_holdout, svm.predict(X_holdout)))\n",
    "print(\"AUC:\", auc_svm_holdout)\n",
    "print(\"RMSE:\", rmse_svm_holdout)"
   ]
  },
  {
   "cell_type": "code",
   "execution_count": 54,
   "metadata": {
    "colab": {
     "base_uri": "https://localhost:8080/"
    },
    "id": "odKgorteaChA",
    "outputId": "60c10d12-caa1-493b-a32f-ee2b30eb7065"
   },
   "outputs": [
    {
     "name": "stdout",
     "output_type": "stream",
     "text": [
      "[[128  26]\n",
      " [ 18 212]]\n"
     ]
    }
   ],
   "source": [
    "from sklearn.metrics import confusion_matrix\n",
    "#Generate the confusion matrix\n",
    "cf_matrix = confusion_matrix(y_test, svm_test)\n",
    "print(cf_matrix)"
   ]
  },
  {
   "cell_type": "code",
   "execution_count": 55,
   "metadata": {
    "colab": {
     "base_uri": "https://localhost:8080/"
    },
    "id": "PxtmfuaqaCjn",
    "outputId": "51753c37-134e-4c30-e97d-7a5ef4810591"
   },
   "outputs": [
    {
     "name": "stdout",
     "output_type": "stream",
     "text": [
      "Positive Predictive Value (Precision): 0.8907563025210085\n",
      "Negative Predictive Value: 0.8767123287671232\n",
      "Matthews Correlation Coefficient (MCC): 0.7601534337078685\n",
      "F1 Score: 0.905982905982906\n",
      "Accuracy: 0.8854166666666666\n"
     ]
    }
   ],
   "source": [
    "from sklearn.metrics import precision_score, recall_score, f1_score, accuracy_score, matthews_corrcoef\n",
    "\n",
    "# Positive Predictive Value (Precision)\n",
    "precision = precision_score(y_test, svm_test)\n",
    "\n",
    "# Negative Predictive Value\n",
    "# For NPV, we need to swap the labels, assuming it's binary classification\n",
    "tn, fp, fn, tp = cf_matrix.ravel()\n",
    "npv = tn / (tn + fn)\n",
    "\n",
    "# Matthews Correlation Coefficient (MCC)\n",
    "mcc = matthews_corrcoef(y_test, svm_test)\n",
    "\n",
    "# F1 Score\n",
    "f1 = f1_score(y_test, svm_test)\n",
    "\n",
    "# Accuracy\n",
    "accuracy = accuracy_score(y_test, svm_test)\n",
    "\n",
    "# Print the calculated metrics\n",
    "print(\"Positive Predictive Value (Precision):\", precision)\n",
    "print(\"Negative Predictive Value:\", npv)\n",
    "print(\"Matthews Correlation Coefficient (MCC):\", mcc)\n",
    "print(\"F1 Score:\", f1)\n",
    "print(\"Accuracy:\", accuracy)"
   ]
  },
  {
   "cell_type": "code",
   "execution_count": 56,
   "metadata": {
    "colab": {
     "base_uri": "https://localhost:8080/"
    },
    "id": "T6fvtDiObCdU",
    "outputId": "8c667a63-907e-4494-87d4-2872b0a1a8bd"
   },
   "outputs": [
    {
     "name": "stdout",
     "output_type": "stream",
     "text": [
      "[[167  25]\n",
      " [ 24 264]]\n"
     ]
    }
   ],
   "source": [
    "from sklearn.metrics import confusion_matrix\n",
    "#Generate the confusion matrix\n",
    "cf_matrix = confusion_matrix(y_holdout, svm_holdout)\n",
    "print(cf_matrix)"
   ]
  },
  {
   "cell_type": "code",
   "execution_count": 57,
   "metadata": {
    "colab": {
     "base_uri": "https://localhost:8080/"
    },
    "id": "8s0rCdDqaCmq",
    "outputId": "b865f6ca-3011-4714-b7f8-bff4d11856ec"
   },
   "outputs": [
    {
     "name": "stdout",
     "output_type": "stream",
     "text": [
      "Positive Predictive Value (Precision): 0.9134948096885813\n",
      "Negative Predictive Value: 0.8743455497382199\n",
      "Matthews Correlation Coefficient (MCC): 0.7871490430709653\n",
      "F1 Score: 0.9150779896013865\n",
      "Accuracy: 0.8979166666666667\n"
     ]
    }
   ],
   "source": [
    "from sklearn.metrics import precision_score, recall_score, f1_score, accuracy_score, matthews_corrcoef\n",
    "\n",
    "# Positive Predictive Value (Precision)\n",
    "precision = precision_score(y_holdout, svm_holdout)\n",
    "\n",
    "# Negative Predictive Value\n",
    "# For NPV, we need to swap the labels, assuming it's binary classification\n",
    "tn, fp, fn, tp = cf_matrix.ravel()\n",
    "npv = tn / (tn + fn)\n",
    "\n",
    "# Matthews Correlation Coefficient (MCC)\n",
    "mcc = matthews_corrcoef(y_holdout, svm_holdout)\n",
    "\n",
    "# F1 Score\n",
    "f1 = f1_score(y_holdout, svm_holdout)\n",
    "\n",
    "# Accuracy\n",
    "accuracy = accuracy_score(y_holdout, svm_holdout)\n",
    "\n",
    "# Print the calculated metrics\n",
    "print(\"Positive Predictive Value (Precision):\", precision)\n",
    "print(\"Negative Predictive Value:\", npv)\n",
    "print(\"Matthews Correlation Coefficient (MCC):\", mcc)\n",
    "print(\"F1 Score:\", f1)\n",
    "print(\"Accuracy:\", accuracy)"
   ]
  },
  {
   "cell_type": "markdown",
   "metadata": {
    "id": "W1rIKfZbuYid"
   },
   "source": [
    "### 6.4. k-Nearest Neighbors"
   ]
  },
  {
   "cell_type": "code",
   "execution_count": 15,
   "metadata": {
    "id": "xtxqdMW7udWd"
   },
   "outputs": [],
   "source": [
    "import matplotlib.pyplot as plt\n",
    "import seaborn as sns\n",
    "from sklearn.neighbors import KNeighborsClassifier\n",
    "from sklearn.metrics import classification_report"
   ]
  },
  {
   "cell_type": "code",
   "execution_count": 36,
   "metadata": {
    "colab": {
     "base_uri": "https://localhost:8080/"
    },
    "id": "Y2qVE7-SudUG",
    "outputId": "a5a669b4-d7aa-4b4e-b080-fb20bad91669"
   },
   "outputs": [
    {
     "name": "stdout",
     "output_type": "stream",
     "text": [
      "Fitting 5 folds for each of 20 candidates, totalling 100 fits\n",
      "[CV 1/5] END metric=euclidean, n_neighbors=3, weights=uniform;, score=0.918 total time=   0.3s\n",
      "[CV 2/5] END metric=euclidean, n_neighbors=3, weights=uniform;, score=0.918 total time=   0.3s\n",
      "[CV 3/5] END metric=euclidean, n_neighbors=3, weights=uniform;, score=0.918 total time=   0.2s\n",
      "[CV 4/5] END metric=euclidean, n_neighbors=3, weights=uniform;, score=0.875 total time=   0.2s\n",
      "[CV 5/5] END metric=euclidean, n_neighbors=3, weights=uniform;, score=0.906 total time=   0.2s\n",
      "[CV 1/5] END metric=euclidean, n_neighbors=3, weights=distance;, score=0.926 total time=   0.1s\n",
      "[CV 2/5] END metric=euclidean, n_neighbors=3, weights=distance;, score=0.926 total time=   0.2s\n",
      "[CV 3/5] END metric=euclidean, n_neighbors=3, weights=distance;, score=0.926 total time=   0.1s\n",
      "[CV 4/5] END metric=euclidean, n_neighbors=3, weights=distance;, score=0.883 total time=   0.2s\n",
      "[CV 5/5] END metric=euclidean, n_neighbors=3, weights=distance;, score=0.914 total time=   0.1s\n",
      "[CV 1/5] END metric=euclidean, n_neighbors=5, weights=uniform;, score=0.875 total time=   0.2s\n",
      "[CV 2/5] END metric=euclidean, n_neighbors=5, weights=uniform;, score=0.895 total time=   0.2s\n",
      "[CV 3/5] END metric=euclidean, n_neighbors=5, weights=uniform;, score=0.895 total time=   0.2s\n",
      "[CV 4/5] END metric=euclidean, n_neighbors=5, weights=uniform;, score=0.883 total time=   0.1s\n",
      "[CV 5/5] END metric=euclidean, n_neighbors=5, weights=uniform;, score=0.895 total time=   0.2s\n",
      "[CV 1/5] END metric=euclidean, n_neighbors=5, weights=distance;, score=0.895 total time=   0.1s\n",
      "[CV 2/5] END metric=euclidean, n_neighbors=5, weights=distance;, score=0.911 total time=   0.1s\n",
      "[CV 3/5] END metric=euclidean, n_neighbors=5, weights=distance;, score=0.918 total time=   0.1s\n",
      "[CV 4/5] END metric=euclidean, n_neighbors=5, weights=distance;, score=0.883 total time=   0.1s\n",
      "[CV 5/5] END metric=euclidean, n_neighbors=5, weights=distance;, score=0.918 total time=   0.1s\n",
      "[CV 1/5] END metric=euclidean, n_neighbors=7, weights=uniform;, score=0.875 total time=   0.2s\n",
      "[CV 2/5] END metric=euclidean, n_neighbors=7, weights=uniform;, score=0.864 total time=   0.1s\n",
      "[CV 3/5] END metric=euclidean, n_neighbors=7, weights=uniform;, score=0.852 total time=   0.2s\n",
      "[CV 4/5] END metric=euclidean, n_neighbors=7, weights=uniform;, score=0.879 total time=   0.1s\n",
      "[CV 5/5] END metric=euclidean, n_neighbors=7, weights=uniform;, score=0.844 total time=   0.2s\n",
      "[CV 1/5] END metric=euclidean, n_neighbors=7, weights=distance;, score=0.895 total time=   0.1s\n",
      "[CV 2/5] END metric=euclidean, n_neighbors=7, weights=distance;, score=0.895 total time=   0.1s\n",
      "[CV 3/5] END metric=euclidean, n_neighbors=7, weights=distance;, score=0.887 total time=   0.1s\n",
      "[CV 4/5] END metric=euclidean, n_neighbors=7, weights=distance;, score=0.887 total time=   0.1s\n",
      "[CV 5/5] END metric=euclidean, n_neighbors=7, weights=distance;, score=0.898 total time=   0.1s\n",
      "[CV 1/5] END metric=euclidean, n_neighbors=9, weights=uniform;, score=0.840 total time=   0.2s\n",
      "[CV 2/5] END metric=euclidean, n_neighbors=9, weights=uniform;, score=0.875 total time=   0.2s\n",
      "[CV 3/5] END metric=euclidean, n_neighbors=9, weights=uniform;, score=0.829 total time=   0.2s\n",
      "[CV 4/5] END metric=euclidean, n_neighbors=9, weights=uniform;, score=0.879 total time=   0.2s\n",
      "[CV 5/5] END metric=euclidean, n_neighbors=9, weights=uniform;, score=0.855 total time=   0.2s\n",
      "[CV 1/5] END metric=euclidean, n_neighbors=9, weights=distance;, score=0.887 total time=   0.1s\n",
      "[CV 2/5] END metric=euclidean, n_neighbors=9, weights=distance;, score=0.903 total time=   0.1s\n",
      "[CV 3/5] END metric=euclidean, n_neighbors=9, weights=distance;, score=0.875 total time=   0.2s\n",
      "[CV 4/5] END metric=euclidean, n_neighbors=9, weights=distance;, score=0.887 total time=   0.1s\n",
      "[CV 5/5] END metric=euclidean, n_neighbors=9, weights=distance;, score=0.898 total time=   0.1s\n",
      "[CV 1/5] END metric=euclidean, n_neighbors=11, weights=uniform;, score=0.844 total time=   0.1s\n",
      "[CV 2/5] END metric=euclidean, n_neighbors=11, weights=uniform;, score=0.844 total time=   0.2s\n",
      "[CV 3/5] END metric=euclidean, n_neighbors=11, weights=uniform;, score=0.840 total time=   0.1s\n",
      "[CV 4/5] END metric=euclidean, n_neighbors=11, weights=uniform;, score=0.887 total time=   0.2s\n",
      "[CV 5/5] END metric=euclidean, n_neighbors=11, weights=uniform;, score=0.848 total time=   0.1s\n",
      "[CV 1/5] END metric=euclidean, n_neighbors=11, weights=distance;, score=0.895 total time=   0.1s\n",
      "[CV 2/5] END metric=euclidean, n_neighbors=11, weights=distance;, score=0.903 total time=   0.1s\n",
      "[CV 3/5] END metric=euclidean, n_neighbors=11, weights=distance;, score=0.864 total time=   0.1s\n",
      "[CV 4/5] END metric=euclidean, n_neighbors=11, weights=distance;, score=0.906 total time=   0.1s\n",
      "[CV 5/5] END metric=euclidean, n_neighbors=11, weights=distance;, score=0.887 total time=   0.2s\n",
      "[CV 1/5] END metric=manhattan, n_neighbors=3, weights=uniform;, score=0.918 total time=   0.4s\n",
      "[CV 2/5] END metric=manhattan, n_neighbors=3, weights=uniform;, score=0.918 total time=   0.3s\n",
      "[CV 3/5] END metric=manhattan, n_neighbors=3, weights=uniform;, score=0.918 total time=   0.2s\n",
      "[CV 4/5] END metric=manhattan, n_neighbors=3, weights=uniform;, score=0.875 total time=   0.2s\n",
      "[CV 5/5] END metric=manhattan, n_neighbors=3, weights=uniform;, score=0.906 total time=   0.2s\n",
      "[CV 1/5] END metric=manhattan, n_neighbors=3, weights=distance;, score=0.918 total time=   0.2s\n",
      "[CV 2/5] END metric=manhattan, n_neighbors=3, weights=distance;, score=0.922 total time=   0.2s\n",
      "[CV 3/5] END metric=manhattan, n_neighbors=3, weights=distance;, score=0.938 total time=   0.2s\n",
      "[CV 4/5] END metric=manhattan, n_neighbors=3, weights=distance;, score=0.895 total time=   0.2s\n",
      "[CV 5/5] END metric=manhattan, n_neighbors=3, weights=distance;, score=0.926 total time=   0.2s\n",
      "[CV 1/5] END metric=manhattan, n_neighbors=5, weights=uniform;, score=0.875 total time=   0.2s\n",
      "[CV 2/5] END metric=manhattan, n_neighbors=5, weights=uniform;, score=0.895 total time=   0.2s\n",
      "[CV 3/5] END metric=manhattan, n_neighbors=5, weights=uniform;, score=0.895 total time=   0.2s\n",
      "[CV 4/5] END metric=manhattan, n_neighbors=5, weights=uniform;, score=0.883 total time=   0.2s\n",
      "[CV 5/5] END metric=manhattan, n_neighbors=5, weights=uniform;, score=0.895 total time=   0.2s\n",
      "[CV 1/5] END metric=manhattan, n_neighbors=5, weights=distance;, score=0.907 total time=   0.2s\n",
      "[CV 2/5] END metric=manhattan, n_neighbors=5, weights=distance;, score=0.914 total time=   0.3s\n",
      "[CV 3/5] END metric=manhattan, n_neighbors=5, weights=distance;, score=0.926 total time=   0.3s\n",
      "[CV 4/5] END metric=manhattan, n_neighbors=5, weights=distance;, score=0.891 total time=   0.3s\n",
      "[CV 5/5] END metric=manhattan, n_neighbors=5, weights=distance;, score=0.934 total time=   0.3s\n",
      "[CV 1/5] END metric=manhattan, n_neighbors=7, weights=uniform;, score=0.875 total time=   0.4s\n",
      "[CV 2/5] END metric=manhattan, n_neighbors=7, weights=uniform;, score=0.864 total time=   0.4s\n",
      "[CV 3/5] END metric=manhattan, n_neighbors=7, weights=uniform;, score=0.852 total time=   0.4s\n",
      "[CV 4/5] END metric=manhattan, n_neighbors=7, weights=uniform;, score=0.879 total time=   0.3s\n",
      "[CV 5/5] END metric=manhattan, n_neighbors=7, weights=uniform;, score=0.844 total time=   0.2s\n",
      "[CV 1/5] END metric=manhattan, n_neighbors=7, weights=distance;, score=0.911 total time=   0.2s\n",
      "[CV 2/5] END metric=manhattan, n_neighbors=7, weights=distance;, score=0.907 total time=   0.2s\n",
      "[CV 3/5] END metric=manhattan, n_neighbors=7, weights=distance;, score=0.907 total time=   0.2s\n",
      "[CV 4/5] END metric=manhattan, n_neighbors=7, weights=distance;, score=0.891 total time=   0.2s\n",
      "[CV 5/5] END metric=manhattan, n_neighbors=7, weights=distance;, score=0.910 total time=   0.2s\n",
      "[CV 1/5] END metric=manhattan, n_neighbors=9, weights=uniform;, score=0.840 total time=   0.2s\n",
      "[CV 2/5] END metric=manhattan, n_neighbors=9, weights=uniform;, score=0.875 total time=   0.2s\n",
      "[CV 3/5] END metric=manhattan, n_neighbors=9, weights=uniform;, score=0.829 total time=   0.2s\n",
      "[CV 4/5] END metric=manhattan, n_neighbors=9, weights=uniform;, score=0.879 total time=   0.2s\n",
      "[CV 5/5] END metric=manhattan, n_neighbors=9, weights=uniform;, score=0.855 total time=   0.2s\n",
      "[CV 1/5] END metric=manhattan, n_neighbors=9, weights=distance;, score=0.907 total time=   0.2s\n",
      "[CV 2/5] END metric=manhattan, n_neighbors=9, weights=distance;, score=0.907 total time=   0.2s\n",
      "[CV 3/5] END metric=manhattan, n_neighbors=9, weights=distance;, score=0.895 total time=   0.2s\n",
      "[CV 4/5] END metric=manhattan, n_neighbors=9, weights=distance;, score=0.895 total time=   0.2s\n",
      "[CV 5/5] END metric=manhattan, n_neighbors=9, weights=distance;, score=0.922 total time=   0.2s\n",
      "[CV 1/5] END metric=manhattan, n_neighbors=11, weights=uniform;, score=0.844 total time=   0.2s\n",
      "[CV 2/5] END metric=manhattan, n_neighbors=11, weights=uniform;, score=0.844 total time=   0.2s\n",
      "[CV 3/5] END metric=manhattan, n_neighbors=11, weights=uniform;, score=0.840 total time=   0.2s\n",
      "[CV 4/5] END metric=manhattan, n_neighbors=11, weights=uniform;, score=0.887 total time=   0.2s\n",
      "[CV 5/5] END metric=manhattan, n_neighbors=11, weights=uniform;, score=0.848 total time=   0.2s\n",
      "[CV 1/5] END metric=manhattan, n_neighbors=11, weights=distance;, score=0.899 total time=   0.2s\n",
      "[CV 2/5] END metric=manhattan, n_neighbors=11, weights=distance;, score=0.911 total time=   0.2s\n",
      "[CV 3/5] END metric=manhattan, n_neighbors=11, weights=distance;, score=0.887 total time=   0.2s\n",
      "[CV 4/5] END metric=manhattan, n_neighbors=11, weights=distance;, score=0.902 total time=   0.2s\n",
      "[CV 5/5] END metric=manhattan, n_neighbors=11, weights=distance;, score=0.914 total time=   0.2s\n",
      "Best Parameters: {'metric': 'manhattan', 'n_neighbors': 3, 'weights': 'distance'}\n"
     ]
    }
   ],
   "source": [
    "from sklearn.model_selection import GridSearchCV\n",
    "from sklearn.neighbors import KNeighborsClassifier\n",
    "\n",
    "# Defining parameter range\n",
    "param_grid = {\n",
    "    'n_neighbors': [3, 5, 7, 9, 11],  # Example values for the number of neighbors\n",
    "    'weights': ['uniform', 'distance'],  # Different weighting strategies\n",
    "    'metric': ['euclidean', 'manhattan']  # Distance metrics to consider\n",
    "}\n",
    "\n",
    "# Creating a grid search object\n",
    "grid = GridSearchCV(KNeighborsClassifier(), param_grid, refit=True, verbose=3)\n",
    "\n",
    "# Fitting the model for grid search\n",
    "grid.fit(X_train, y_train)\n",
    "\n",
    "# Printing the best parameters found by grid search\n",
    "print(\"Best Parameters:\", grid.best_params_)"
   ]
  },
  {
   "cell_type": "code",
   "execution_count": 16,
   "metadata": {
    "colab": {
     "base_uri": "https://localhost:8080/"
    },
    "id": "dV8mseiEqeQl",
    "outputId": "c4d0478a-1efc-4759-c11f-6264daf878ac"
   },
   "outputs": [
    {
     "name": "stdout",
     "output_type": "stream",
     "text": [
      "Test Set Accuracy: 0.8984375\n",
      "Holdout Set Accuracy: 0.9125\n"
     ]
    }
   ],
   "source": [
    "# Use the best parameters to train kNN\n",
    "knn = KNeighborsClassifier(metric='manhattan', weights='distance', n_neighbors=3)\n",
    "knn.fit(X_train, y_train)\n",
    "# Evaluate the classifier on the test set\n",
    "y_pred_test = knn.predict(X_test)\n",
    "accuracy_test = accuracy_score(y_test, y_pred_test)\n",
    "print(\"Test Set Accuracy:\", accuracy_test)\n",
    "\n",
    "# Evaluate the classifier on the holdout set\n",
    "y_pred_holdout = knn.predict(X_holdout)\n",
    "accuracy_holdout = accuracy_score(y_holdout, y_pred_holdout)\n",
    "print(\"Holdout Set Accuracy:\", accuracy_holdout)"
   ]
  },
  {
   "cell_type": "code",
   "execution_count": 31,
   "metadata": {
    "colab": {
     "base_uri": "https://localhost:8080/"
    },
    "id": "EvWQsQGNbMML",
    "outputId": "cb6b3999-b8aa-473e-a8f5-d761e1d0e2a1"
   },
   "outputs": [
    {
     "name": "stdout",
     "output_type": "stream",
     "text": [
      "AUC: 0.8926877470355731\n",
      "RMSE: 0.31868871959954903\n"
     ]
    }
   ],
   "source": [
    "knn_test = knn.predict(X_test)\n",
    "auc_knn_test = roc_auc_score(y_test, knn_test)\n",
    "rmse_knn_test = np.sqrt(mean_squared_error(y_test, knn.predict(X_test)))\n",
    "print(\"AUC:\", auc_knn_test)\n",
    "print(\"RMSE:\", rmse_knn_test)"
   ]
  },
  {
   "cell_type": "code",
   "execution_count": 32,
   "metadata": {
    "colab": {
     "base_uri": "https://localhost:8080/"
    },
    "id": "Q7ZFh7jzbcsr",
    "outputId": "10dae941-f721-472c-9886-a5b013fc6b5a"
   },
   "outputs": [
    {
     "name": "stdout",
     "output_type": "stream",
     "text": [
      "AUC: 0.9071180555555556\n",
      "RMSE: 0.2958039891549808\n"
     ]
    }
   ],
   "source": [
    "knn_holdout = knn.predict(X_holdout)\n",
    "auc_knn_holdout = roc_auc_score(y_holdout, knn_holdout)\n",
    "rmse_knn_holdout = np.sqrt(mean_squared_error(y_holdout, knn.predict(X_holdout)))\n",
    "print(\"AUC:\", auc_knn_holdout)\n",
    "print(\"RMSE:\", rmse_knn_holdout)"
   ]
  },
  {
   "cell_type": "code",
   "execution_count": 62,
   "metadata": {
    "colab": {
     "base_uri": "https://localhost:8080/"
    },
    "id": "Nf8oeZ-abcwE",
    "outputId": "183c5361-7e58-44e4-fe3f-5557379169ca"
   },
   "outputs": [
    {
     "name": "stdout",
     "output_type": "stream",
     "text": [
      "[[133  21]\n",
      " [ 18 212]]\n"
     ]
    }
   ],
   "source": [
    "from sklearn.metrics import confusion_matrix\n",
    "#Generate the confusion matrix\n",
    "cf_matrix = confusion_matrix(y_test, knn_test)\n",
    "print(cf_matrix)"
   ]
  },
  {
   "cell_type": "code",
   "execution_count": 63,
   "metadata": {
    "colab": {
     "base_uri": "https://localhost:8080/"
    },
    "id": "Od6PDvXKbczi",
    "outputId": "b39ee639-2953-4742-fc50-9ff5edd4a555"
   },
   "outputs": [
    {
     "name": "stdout",
     "output_type": "stream",
     "text": [
      "Positive Predictive Value (Precision): 0.9098712446351931\n",
      "Negative Predictive Value: 0.8807947019867549\n",
      "Matthews Correlation Coefficient (MCC): 0.788016280589077\n",
      "F1 Score: 0.9157667386609071\n",
      "Accuracy: 0.8984375\n"
     ]
    }
   ],
   "source": [
    "from sklearn.metrics import precision_score, recall_score, f1_score, accuracy_score, matthews_corrcoef\n",
    "\n",
    "# Positive Predictive Value (Precision)\n",
    "precision = precision_score(y_test, knn_test)\n",
    "\n",
    "# Negative Predictive Value\n",
    "# For NPV, we need to swap the labels, assuming it's binary classification\n",
    "tn, fp, fn, tp = cf_matrix.ravel()\n",
    "npv = tn / (tn + fn)\n",
    "\n",
    "# Matthews Correlation Coefficient (MCC)\n",
    "mcc = matthews_corrcoef(y_test, knn_test)\n",
    "\n",
    "# F1 Score\n",
    "f1 = f1_score(y_test, knn_test)\n",
    "\n",
    "# Accuracy\n",
    "accuracy = accuracy_score(y_test, knn_test)\n",
    "\n",
    "# Print the calculated metrics\n",
    "print(\"Positive Predictive Value (Precision):\", precision)\n",
    "print(\"Negative Predictive Value:\", npv)\n",
    "print(\"Matthews Correlation Coefficient (MCC):\", mcc)\n",
    "print(\"F1 Score:\", f1)\n",
    "print(\"Accuracy:\", accuracy)"
   ]
  },
  {
   "cell_type": "code",
   "execution_count": 64,
   "metadata": {
    "colab": {
     "base_uri": "https://localhost:8080/"
    },
    "id": "wKjFcCkPL_0P",
    "outputId": "47e76788-3fd9-4e08-8247-e03eccf43317"
   },
   "outputs": [
    {
     "name": "stdout",
     "output_type": "stream",
     "text": [
      "[[169  23]\n",
      " [ 19 269]]\n"
     ]
    }
   ],
   "source": [
    "from sklearn.metrics import confusion_matrix\n",
    "#Generate the confusion matrix\n",
    "cf_matrix = confusion_matrix(y_holdout, knn_holdout)\n",
    "print(cf_matrix)"
   ]
  },
  {
   "cell_type": "code",
   "execution_count": 65,
   "metadata": {
    "colab": {
     "base_uri": "https://localhost:8080/"
    },
    "id": "GZIbHgGYcDGR",
    "outputId": "403b326e-da01-4a04-cb07-32633b819dc4"
   },
   "outputs": [
    {
     "name": "stdout",
     "output_type": "stream",
     "text": [
      "Positive Predictive Value (Precision): 0.9212328767123288\n",
      "Negative Predictive Value: 0.898936170212766\n",
      "Matthews Correlation Coefficient (MCC): 0.8171971948201949\n",
      "F1 Score: 0.9275862068965517\n",
      "Accuracy: 0.9125\n"
     ]
    }
   ],
   "source": [
    "from sklearn.metrics import precision_score, recall_score, f1_score, accuracy_score, matthews_corrcoef\n",
    "\n",
    "# Positive Predictive Value (Precision)\n",
    "precision = precision_score(y_holdout, knn_holdout)\n",
    "\n",
    "# Negative Predictive Value\n",
    "# For NPV, we need to swap the labels, assuming it's binary classification\n",
    "tn, fp, fn, tp = cf_matrix.ravel()\n",
    "npv = tn / (tn + fn)\n",
    "\n",
    "# Matthews Correlation Coefficient (MCC)\n",
    "mcc = matthews_corrcoef(y_holdout, knn_holdout)\n",
    "\n",
    "# F1 Score\n",
    "f1 = f1_score(y_holdout, knn_holdout)\n",
    "\n",
    "# Accuracy\n",
    "accuracy = accuracy_score(y_holdout, knn_holdout)\n",
    "\n",
    "# Print the calculated metrics\n",
    "print(\"Positive Predictive Value (Precision):\", precision)\n",
    "print(\"Negative Predictive Value:\", npv)\n",
    "print(\"Matthews Correlation Coefficient (MCC):\", mcc)\n",
    "print(\"F1 Score:\", f1)\n",
    "print(\"Accuracy:\", accuracy)"
   ]
  },
  {
   "cell_type": "markdown",
   "metadata": {
    "id": "sLBIC5tQvkJg"
   },
   "source": [
    "### 6.5. XGBoost"
   ]
  },
  {
   "cell_type": "code",
   "execution_count": null,
   "metadata": {
    "id": "EpvDu_DcduXY"
   },
   "outputs": [],
   "source": [
    "from sklearn.model_selection import GridSearchCV\n",
    "from xgboost import XGBClassifier\n",
    "\n",
    "# Define the parameter grid to search\n",
    "param_grid = {\n",
    "    'learning_rate': [0.1, 0.01, 0.001],\n",
    "    'max_depth': [3, 5, 7],\n",
    "    'n_estimators': [100, 200, 300],\n",
    "    'subsample': [0.8, 0.9, 1.0],\n",
    "    'colsample_bytree': [0.8, 0.9, 1.0],\n",
    "    'gamma': [0, 0.1, 0.2],\n",
    "}\n",
    "\n",
    "# Initialize the XGBClassifier\n",
    "xgb = XGBClassifier(objective='binary:logistic', random_state=42)\n",
    "\n",
    "# Initialize GridSearchCV\n",
    "grid_search = GridSearchCV(estimator=xgb, param_grid=param_grid, cv=5, scoring='accuracy')\n",
    "\n",
    "# Perform grid search to find the best hyperparameters\n",
    "grid_search.fit(X_train, y_train)\n",
    "\n",
    "# Print the best parameters found\n",
    "print(\"Best Parameters:\", grid_search.best_params_)"
   ]
  },
  {
   "cell_type": "code",
   "execution_count": 17,
   "metadata": {
    "colab": {
     "base_uri": "https://localhost:8080/"
    },
    "id": "G0-kEeuzrJye",
    "outputId": "47e8d4c9-0d3e-42f2-81fc-838b71b809cd"
   },
   "outputs": [
    {
     "name": "stdout",
     "output_type": "stream",
     "text": [
      "Test Set Accuracy: 0.90625\n",
      "Holdout Set Accuracy: 0.90625\n"
     ]
    }
   ],
   "source": [
    "from xgboost import XGBClassifier\n",
    "# Use the best parameters to train XGB\n",
    "xgb = XGBClassifier(learning_rate=0.1, max_depth=5, n_estimators=200, subsample=0.8, colsample_bytree=0.8, gamma=0.01)\n",
    "xgb.fit(X_train, y_train)\n",
    "# Evaluate the classifier on the test set\n",
    "y_pred_test = xgb.predict(X_test)\n",
    "accuracy_test = accuracy_score(y_test, y_pred_test)\n",
    "print(\"Test Set Accuracy:\", accuracy_test)\n",
    "\n",
    "# Evaluate the classifier on the holdout set\n",
    "y_pred_holdout = xgb.predict(X_holdout)\n",
    "accuracy_holdout = accuracy_score(y_holdout, y_pred_holdout)\n",
    "print(\"Holdout Set Accuracy:\", accuracy_holdout)"
   ]
  },
  {
   "cell_type": "code",
   "execution_count": 33,
   "metadata": {
    "colab": {
     "base_uri": "https://localhost:8080/"
    },
    "id": "pe0RBZcTrJ1l",
    "outputId": "da1dbbff-94f6-4100-fc48-55c9b9c6c780"
   },
   "outputs": [
    {
     "name": "stdout",
     "output_type": "stream",
     "text": [
      "AUC: 0.8981366459627329\n",
      "RMSE: 0.30618621784789724\n"
     ]
    }
   ],
   "source": [
    "xgb_test = xgb.predict(X_test)\n",
    "auc_xgb_test = roc_auc_score(y_test, xgb_test)\n",
    "rmse_xgb_test = np.sqrt(mean_squared_error(y_test, xgb.predict(X_test)))\n",
    "print(\"AUC:\", auc_xgb_test)\n",
    "print(\"RMSE:\", rmse_xgb_test)"
   ]
  },
  {
   "cell_type": "code",
   "execution_count": 34,
   "metadata": {
    "colab": {
     "base_uri": "https://localhost:8080/"
    },
    "id": "WHsNT0BCrYmF",
    "outputId": "0c582123-4734-4aaf-8405-879669f31eae"
   },
   "outputs": [
    {
     "name": "stdout",
     "output_type": "stream",
     "text": [
      "AUC: 0.9027777777777778\n",
      "RMSE: 0.30618621784789724\n"
     ]
    }
   ],
   "source": [
    "xgb_holdout = xgb.predict(X_holdout)\n",
    "auc_xgb_holdout = roc_auc_score(y_holdout, xgb_holdout)\n",
    "rmse_xgb_holdout = np.sqrt(mean_squared_error(y_holdout, xgb.predict(X_holdout)))\n",
    "print(\"AUC:\", auc_xgb_holdout)\n",
    "print(\"RMSE:\", rmse_xgb_holdout)"
   ]
  },
  {
   "cell_type": "code",
   "execution_count": 70,
   "metadata": {
    "colab": {
     "base_uri": "https://localhost:8080/"
    },
    "id": "z2S0vv7JrYpN",
    "outputId": "9d9580ad-10b8-4e1f-ceb6-2ccbb44c2d70"
   },
   "outputs": [
    {
     "name": "stdout",
     "output_type": "stream",
     "text": [
      "[[132  22]\n",
      " [ 14 216]]\n"
     ]
    }
   ],
   "source": [
    "from sklearn.metrics import confusion_matrix\n",
    "#Generate the confusion matrix\n",
    "cf_matrix = confusion_matrix(y_test, xgb_test)\n",
    "print(cf_matrix)"
   ]
  },
  {
   "cell_type": "code",
   "execution_count": 71,
   "metadata": {
    "colab": {
     "base_uri": "https://localhost:8080/"
    },
    "id": "1eabXa1zrYss",
    "outputId": "39c1f813-f97d-426d-e998-ec4c076a659f"
   },
   "outputs": [
    {
     "name": "stdout",
     "output_type": "stream",
     "text": [
      "Positive Predictive Value (Precision): 0.907563025210084\n",
      "Negative Predictive Value: 0.9041095890410958\n",
      "Matthews Correlation Coefficient (MCC): 0.8039360823570092\n",
      "F1 Score: 0.9230769230769231\n",
      "Accuracy: 0.90625\n"
     ]
    }
   ],
   "source": [
    "from sklearn.metrics import precision_score, recall_score, f1_score, accuracy_score, matthews_corrcoef\n",
    "\n",
    "# Positive Predictive Value (Precision)\n",
    "precision = precision_score(y_test, xgb_test)\n",
    "\n",
    "# Negative Predictive Value\n",
    "# For NPV, we need to swap the labels, assuming it's binary classification\n",
    "tn, fp, fn, tp = cf_matrix.ravel()\n",
    "npv = tn / (tn + fn)\n",
    "\n",
    "# Matthews Correlation Coefficient (MCC)\n",
    "mcc = matthews_corrcoef(y_test, xgb_test)\n",
    "\n",
    "# F1 Score\n",
    "f1 = f1_score(y_test, xgb_test)\n",
    "\n",
    "# Accuracy\n",
    "accuracy = accuracy_score(y_test, xgb_test)\n",
    "\n",
    "# Print the calculated metrics\n",
    "print(\"Positive Predictive Value (Precision):\", precision)\n",
    "print(\"Negative Predictive Value:\", npv)\n",
    "print(\"Matthews Correlation Coefficient (MCC):\", mcc)\n",
    "print(\"F1 Score:\", f1)\n",
    "print(\"Accuracy:\", accuracy)"
   ]
  },
  {
   "cell_type": "code",
   "execution_count": 72,
   "metadata": {
    "colab": {
     "base_uri": "https://localhost:8080/"
    },
    "id": "JUUT0EmUr7Dz",
    "outputId": "097e7e19-9c2c-4a9d-c357-ae6580b7ea0b"
   },
   "outputs": [
    {
     "name": "stdout",
     "output_type": "stream",
     "text": [
      "[[170  22]\n",
      " [ 23 265]]\n"
     ]
    }
   ],
   "source": [
    "from sklearn.metrics import confusion_matrix\n",
    "#Generate the confusion matrix\n",
    "cf_matrix = confusion_matrix(y_holdout, xgb_holdout)\n",
    "print(cf_matrix)"
   ]
  },
  {
   "cell_type": "code",
   "execution_count": 73,
   "metadata": {
    "colab": {
     "base_uri": "https://localhost:8080/"
    },
    "id": "yqEmJgkur7Gq",
    "outputId": "85f6dcf7-7f9b-4021-f40b-c3dc2512a4b5"
   },
   "outputs": [
    {
     "name": "stdout",
     "output_type": "stream",
     "text": [
      "Positive Predictive Value (Precision): 0.9233449477351916\n",
      "Negative Predictive Value: 0.8808290155440415\n",
      "Matthews Correlation Coefficient (MCC): 0.8048644629704529\n",
      "F1 Score: 0.9217391304347826\n",
      "Accuracy: 0.90625\n"
     ]
    }
   ],
   "source": [
    "from sklearn.metrics import precision_score, recall_score, f1_score, accuracy_score, matthews_corrcoef\n",
    "\n",
    "# Positive Predictive Value (Precision)\n",
    "precision = precision_score(y_holdout, xgb_holdout)\n",
    "\n",
    "# Negative Predictive Value\n",
    "# For NPV, we need to swap the labels, assuming it's binary classification\n",
    "tn, fp, fn, tp = cf_matrix.ravel()\n",
    "npv = tn / (tn + fn)\n",
    "\n",
    "# Matthews Correlation Coefficient (MCC)\n",
    "mcc = matthews_corrcoef(y_holdout, xgb_holdout)\n",
    "\n",
    "# F1 Score\n",
    "f1 = f1_score(y_holdout, xgb_holdout)\n",
    "\n",
    "# Accuracy\n",
    "accuracy = accuracy_score(y_holdout, xgb_holdout)\n",
    "\n",
    "# Print the calculated metrics\n",
    "print(\"Positive Predictive Value (Precision):\", precision)\n",
    "print(\"Negative Predictive Value:\", npv)\n",
    "print(\"Matthews Correlation Coefficient (MCC):\", mcc)\n",
    "print(\"F1 Score:\", f1)\n",
    "print(\"Accuracy:\", accuracy)"
   ]
  },
  {
   "cell_type": "markdown",
   "metadata": {
    "id": "8MXd392GsPlW"
   },
   "source": [
    "### 6.6. Convolutional neural network"
   ]
  },
  {
   "cell_type": "code",
   "execution_count": 74,
   "metadata": {
    "id": "WKKOB6z3PV-O"
   },
   "outputs": [
    {
     "name": "stderr",
     "output_type": "stream",
     "text": [
      "2024-02-19 13:07:21.809071: E external/local_xla/xla/stream_executor/cuda/cuda_dnn.cc:9261] Unable to register cuDNN factory: Attempting to register factory for plugin cuDNN when one has already been registered\n",
      "2024-02-19 13:07:21.809228: E external/local_xla/xla/stream_executor/cuda/cuda_fft.cc:607] Unable to register cuFFT factory: Attempting to register factory for plugin cuFFT when one has already been registered\n",
      "2024-02-19 13:07:21.869401: E external/local_xla/xla/stream_executor/cuda/cuda_blas.cc:1515] Unable to register cuBLAS factory: Attempting to register factory for plugin cuBLAS when one has already been registered\n",
      "2024-02-19 13:07:22.007128: I tensorflow/core/platform/cpu_feature_guard.cc:182] This TensorFlow binary is optimized to use available CPU instructions in performance-critical operations.\n",
      "To enable the following instructions: SSE4.1 SSE4.2 AVX AVX2 FMA, in other operations, rebuild TensorFlow with the appropriate compiler flags.\n"
     ]
    }
   ],
   "source": [
    "import tensorflow as tf\n",
    "import keras\n",
    "from keras.models import Sequential\n",
    "from keras import layers\n",
    "from sklearn.preprocessing import LabelEncoder\n",
    "from imblearn.over_sampling import RandomOverSampler\n",
    "from imblearn.under_sampling import RandomUnderSampler\n",
    "from keras.layers import Dense"
   ]
  },
  {
   "cell_type": "code",
   "execution_count": 75,
   "metadata": {
    "id": "JFXJPD8lRx1s"
   },
   "outputs": [
    {
     "name": "stderr",
     "output_type": "stream",
     "text": [
      "2024-02-19 13:07:35.807712: I external/local_xla/xla/stream_executor/cuda/cuda_executor.cc:887] could not open file to read NUMA node: /sys/bus/pci/devices/0000:01:00.0/numa_node\n",
      "Your kernel may have been built without NUMA support.\n",
      "2024-02-19 13:07:36.084894: I external/local_xla/xla/stream_executor/cuda/cuda_executor.cc:887] could not open file to read NUMA node: /sys/bus/pci/devices/0000:01:00.0/numa_node\n",
      "Your kernel may have been built without NUMA support.\n",
      "2024-02-19 13:07:36.085055: I external/local_xla/xla/stream_executor/cuda/cuda_executor.cc:887] could not open file to read NUMA node: /sys/bus/pci/devices/0000:01:00.0/numa_node\n",
      "Your kernel may have been built without NUMA support.\n",
      "2024-02-19 13:07:36.093296: I external/local_xla/xla/stream_executor/cuda/cuda_executor.cc:887] could not open file to read NUMA node: /sys/bus/pci/devices/0000:01:00.0/numa_node\n",
      "Your kernel may have been built without NUMA support.\n",
      "2024-02-19 13:07:36.093527: I external/local_xla/xla/stream_executor/cuda/cuda_executor.cc:887] could not open file to read NUMA node: /sys/bus/pci/devices/0000:01:00.0/numa_node\n",
      "Your kernel may have been built without NUMA support.\n",
      "2024-02-19 13:07:36.093661: I external/local_xla/xla/stream_executor/cuda/cuda_executor.cc:887] could not open file to read NUMA node: /sys/bus/pci/devices/0000:01:00.0/numa_node\n",
      "Your kernel may have been built without NUMA support.\n",
      "2024-02-19 13:07:39.423181: I external/local_xla/xla/stream_executor/cuda/cuda_executor.cc:887] could not open file to read NUMA node: /sys/bus/pci/devices/0000:01:00.0/numa_node\n",
      "Your kernel may have been built without NUMA support.\n",
      "2024-02-19 13:07:39.424216: I external/local_xla/xla/stream_executor/cuda/cuda_executor.cc:887] could not open file to read NUMA node: /sys/bus/pci/devices/0000:01:00.0/numa_node\n",
      "Your kernel may have been built without NUMA support.\n",
      "2024-02-19 13:07:39.424254: I tensorflow/core/common_runtime/gpu/gpu_device.cc:2022] Could not identify NUMA node of platform GPU id 0, defaulting to 0.  Your kernel may not have been built with NUMA support.\n",
      "2024-02-19 13:07:39.424423: I external/local_xla/xla/stream_executor/cuda/cuda_executor.cc:887] could not open file to read NUMA node: /sys/bus/pci/devices/0000:01:00.0/numa_node\n",
      "Your kernel may have been built without NUMA support.\n",
      "2024-02-19 13:07:39.425049: I tensorflow/core/common_runtime/gpu/gpu_device.cc:1929] Created device /job:localhost/replica:0/task:0/device:GPU:0 with 2729 MB memory:  -> device: 0, name: NVIDIA GeForce GTX 1050 Ti with Max-Q Design, pci bus id: 0000:01:00.0, compute capability: 6.1\n"
     ]
    }
   ],
   "source": [
    "model=Sequential()\n",
    "model.add(layers.Embedding(60000, 300, input_length=X_train.shape[1]))\n",
    "model.add(layers.Conv1D(300, 16, activation=\"relu\"))\n",
    "model.add(layers.MaxPooling1D(3))\n",
    "model.add(layers.Conv1D(100, 16, activation=\"relu\"))\n",
    "model.add(layers.Flatten())\n",
    "model.add(layers.Dense(20, activation=\"relu\"))\n",
    "model.add(layers.Dense(1, activation=\"sigmoid\"))\n",
    "model.compile(loss=\"binary_crossentropy\", optimizer=\"adam\", metrics=[\"accuracy\"])"
   ]
  },
  {
   "cell_type": "code",
   "execution_count": 76,
   "metadata": {
    "colab": {
     "base_uri": "https://localhost:8080/"
    },
    "id": "7rpJLac6Rx4_",
    "outputId": "68d09e67-1131-466e-ca9b-d156eebe10aa"
   },
   "outputs": [
    {
     "name": "stdout",
     "output_type": "stream",
     "text": [
      "Model: \"sequential\"\n",
      "_________________________________________________________________\n",
      " Layer (type)                Output Shape              Param #   \n",
      "=================================================================\n",
      " embedding (Embedding)       (None, 749, 300)          18000000  \n",
      "                                                                 \n",
      " conv1d (Conv1D)             (None, 734, 300)          1440300   \n",
      "                                                                 \n",
      " max_pooling1d (MaxPooling1  (None, 244, 300)          0         \n",
      " D)                                                              \n",
      "                                                                 \n",
      " conv1d_1 (Conv1D)           (None, 229, 100)          480100    \n",
      "                                                                 \n",
      " flatten (Flatten)           (None, 22900)             0         \n",
      "                                                                 \n",
      " dense (Dense)               (None, 20)                458020    \n",
      "                                                                 \n",
      " dense_1 (Dense)             (None, 1)                 21        \n",
      "                                                                 \n",
      "=================================================================\n",
      "Total params: 20378441 (77.74 MB)\n",
      "Trainable params: 20378441 (77.74 MB)\n",
      "Non-trainable params: 0 (0.00 Byte)\n",
      "_________________________________________________________________\n"
     ]
    }
   ],
   "source": [
    "model.summary()"
   ]
  },
  {
   "cell_type": "code",
   "execution_count": 77,
   "metadata": {
    "id": "jJP5fbYTRx8A"
   },
   "outputs": [],
   "source": [
    "#EarlyStopping\n",
    "#ReduceLROnPlateau\n",
    "#CSVLogger\n",
    "from tensorflow import keras\n",
    "from keras.callbacks import Callback, EarlyStopping, CSVLogger, ReduceLROnPlateau\n",
    "\n",
    "earlystopping=EarlyStopping(monitor=\"accuracy\", patience=2, mode=\"auto\")\n",
    "reduceLrloss=ReduceLROnPlateau(monitor=\"accuracy\", factor=0.1, patiences=5, min_delta=1e-4, mode=\"min\")\n",
    "Logger=CSVLogger(\"data/batch_fp.csv\", append=True, separator=\",\")"
   ]
  },
  {
   "cell_type": "code",
   "execution_count": 79,
   "metadata": {
    "colab": {
     "base_uri": "https://localhost:8080/"
    },
    "id": "FRWcYh5xPWA4",
    "outputId": "1383f9d4-a459-448c-b54e-bf2777acd0f2"
   },
   "outputs": [
    {
     "name": "stdout",
     "output_type": "stream",
     "text": [
      "Epoch 1/10\n",
      "96/96 [==============================] - 13s 114ms/step - loss: 0.5280 - accuracy: 0.7405 - val_loss: 0.4419 - val_accuracy: 0.8203 - lr: 0.0010\n",
      "Epoch 2/10\n",
      "96/96 [==============================] - 9s 89ms/step - loss: 0.4212 - accuracy: 0.8468 - val_loss: 0.4462 - val_accuracy: 0.8203 - lr: 0.0010\n",
      "Epoch 3/10\n",
      "96/96 [==============================] - 9s 89ms/step - loss: 0.3643 - accuracy: 0.8781 - val_loss: 0.4128 - val_accuracy: 0.8281 - lr: 0.0010\n",
      "Epoch 4/10\n",
      "96/96 [==============================] - 9s 89ms/step - loss: 0.3410 - accuracy: 0.8827 - val_loss: 0.4070 - val_accuracy: 0.8464 - lr: 0.0010\n",
      "Epoch 5/10\n",
      "96/96 [==============================] - 9s 89ms/step - loss: 0.3161 - accuracy: 0.9009 - val_loss: 0.6752 - val_accuracy: 0.7760 - lr: 0.0010\n",
      "Epoch 6/10\n",
      "96/96 [==============================] - 9s 89ms/step - loss: 0.3088 - accuracy: 0.9022 - val_loss: 0.3764 - val_accuracy: 0.8490 - lr: 0.0010\n",
      "Epoch 7/10\n",
      "96/96 [==============================] - 9s 89ms/step - loss: 0.2504 - accuracy: 0.9133 - val_loss: 0.2762 - val_accuracy: 0.8672 - lr: 0.0010\n",
      "Epoch 8/10\n",
      "96/96 [==============================] - 9s 89ms/step - loss: 0.1800 - accuracy: 0.9153 - val_loss: 0.3402 - val_accuracy: 0.8438 - lr: 0.0010\n",
      "Epoch 9/10\n",
      "96/96 [==============================] - 9s 89ms/step - loss: 0.1499 - accuracy: 0.9244 - val_loss: 0.3626 - val_accuracy: 0.8490 - lr: 0.0010\n",
      "Epoch 10/10\n",
      "96/96 [==============================] - 9s 89ms/step - loss: 0.1326 - accuracy: 0.9257 - val_loss: 0.3429 - val_accuracy: 0.8568 - lr: 0.0010\n",
      "[CV] END bootstrap=False, max_depth=None, max_features=log2, min_samples_leaf=2, min_samples_split=5, n_estimators=500; total time=   1.1s\n",
      "[CV] END bootstrap=False, max_depth=None, max_features=log2, min_samples_leaf=2, min_samples_split=5, n_estimators=500; total time=   1.2s\n"
     ]
    }
   ],
   "source": [
    "history = model.fit(X_train, y_train, epochs=10, batch_size=16, validation_data=(X_test, y_test), callbacks=[earlystopping, reduceLrloss, Logger])"
   ]
  },
  {
   "cell_type": "code",
   "execution_count": 87,
   "metadata": {},
   "outputs": [
    {
     "name": "stdout",
     "output_type": "stream",
     "text": [
      "12/12 [==============================] - 0s 35ms/step\n",
      "Test Set Accuracy: 0.8567708333333334\n",
      "15/15 [==============================] - 0s 20ms/step\n",
      "Holdout Set Accuracy: 0.8708333333333333\n"
     ]
    }
   ],
   "source": [
    "# Evaluate the classifier on the test set\n",
    "y_pred_test = (model.predict(X_test) > 0.5).astype(\"int32\")\n",
    "accuracy_test = accuracy_score(y_test, y_pred_test)\n",
    "print(\"Test Set Accuracy:\", accuracy_test)\n",
    "\n",
    "# Evaluate the classifier on the holdout set\n",
    "y_pred_holdout = (model.predict(X_holdout)> 0.5).astype(\"int32\")\n",
    "accuracy_holdout = accuracy_score(y_holdout, y_pred_holdout)\n",
    "print(\"Holdout Set Accuracy:\", accuracy_holdout)"
   ]
  },
  {
   "cell_type": "code",
   "execution_count": 35,
   "metadata": {},
   "outputs": [
    {
     "name": "stdout",
     "output_type": "stream",
     "text": [
      "12/12 [==============================] - 0s 35ms/step\n",
      "AUC: 0.9574675324675326\n",
      "RMSE: 0.30618621784789724\n"
     ]
    }
   ],
   "source": [
    "model_test = model.predict(X_test)\n",
    "auc_model_test = roc_auc_score(y_test, model_test)\n",
    "rmse_model_test = np.sqrt(mean_squared_error(y_test, xgb.predict(X_test)))\n",
    "print(\"AUC:\", auc_model_test)\n",
    "print(\"RMSE:\", rmse_model_test)"
   ]
  },
  {
   "cell_type": "code",
   "execution_count": 36,
   "metadata": {},
   "outputs": [
    {
     "name": "stdout",
     "output_type": "stream",
     "text": [
      "15/15 [==============================] - 0s 21ms/step\n",
      "AUC: 0.9460810908564815\n",
      "RMSE: 0.30618621784789724\n"
     ]
    }
   ],
   "source": [
    "model_holdout = model.predict(X_holdout)\n",
    "auc_model_holdout = roc_auc_score(y_holdout, model_holdout)\n",
    "rmse_model_holdout = np.sqrt(mean_squared_error(y_holdout, xgb.predict(X_holdout)))\n",
    "print(\"AUC:\", auc_model_holdout)\n",
    "print(\"RMSE:\", rmse_model_holdout)"
   ]
  },
  {
   "cell_type": "code",
   "execution_count": 98,
   "metadata": {
    "colab": {
     "base_uri": "https://localhost:8080/"
    },
    "id": "uLWv8LU47B3n",
    "outputId": "1980a55b-7d0d-4872-a351-b0199915c72f"
   },
   "outputs": [
    {
     "name": "stdout",
     "output_type": "stream",
     "text": [
      "[[147   7]\n",
      " [ 48 182]]\n"
     ]
    }
   ],
   "source": [
    "from sklearn.metrics import confusion_matrix\n",
    "#Generate the confusion matrix\n",
    "cf_matrix = confusion_matrix(y_test, model_test> 0.5)\n",
    "print(cf_matrix)"
   ]
  },
  {
   "cell_type": "code",
   "execution_count": 101,
   "metadata": {},
   "outputs": [
    {
     "name": "stdout",
     "output_type": "stream",
     "text": [
      "Positive Predictive Value (Precision): 0.9629629629629629\n",
      "Negative Predictive Value: 0.773109243697479\n",
      "Matthews Correlation Coefficient (MCC): 0.7311852966999535\n",
      "F1 Score: 0.8687350835322196\n",
      "Accuracy: 0.8567708333333334\n"
     ]
    }
   ],
   "source": [
    "from sklearn.metrics import precision_score, recall_score, f1_score, accuracy_score, matthews_corrcoef\n",
    "\n",
    "# Positive Predictive Value (Precision)\n",
    "precision = precision_score(y_test, model_test> 0.5)\n",
    "\n",
    "# Negative Predictive Value\n",
    "# For NPV, we need to swap the labels, assuming it's binary classification\n",
    "tn, fp, fn, tp = cf_matrix.ravel()\n",
    "npv = tn / (tn + fn)\n",
    "\n",
    "# Matthews Correlation Coefficient (MCC)\n",
    "mcc = matthews_corrcoef(y_test, model_test> 0.5)\n",
    "\n",
    "# F1 Score\n",
    "f1 = f1_score(y_test, model_test> 0.5)\n",
    "\n",
    "# Accuracy\n",
    "accuracy = accuracy_score(y_test, model_test> 0.5)\n",
    "\n",
    "# Print the calculated metrics\n",
    "print(\"Positive Predictive Value (Precision):\", precision)\n",
    "print(\"Negative Predictive Value:\", npv)\n",
    "print(\"Matthews Correlation Coefficient (MCC):\", mcc)\n",
    "print(\"F1 Score:\", f1)\n",
    "print(\"Accuracy:\", accuracy)"
   ]
  },
  {
   "cell_type": "code",
   "execution_count": 99,
   "metadata": {
    "colab": {
     "base_uri": "https://localhost:8080/"
    },
    "id": "3Weda-ov7C91",
    "outputId": "fac3e1aa-c9ce-499c-85e2-4b38ace310ed"
   },
   "outputs": [
    {
     "name": "stdout",
     "output_type": "stream",
     "text": [
      "[[184   8]\n",
      " [ 54 234]]\n"
     ]
    }
   ],
   "source": [
    "from sklearn.metrics import confusion_matrix\n",
    "#Generate the confusion matrix\n",
    "cf_matrix = confusion_matrix(y_holdout, model_holdout> 0.5)\n",
    "print(cf_matrix)"
   ]
  },
  {
   "cell_type": "code",
   "execution_count": 102,
   "metadata": {},
   "outputs": [
    {
     "name": "stdout",
     "output_type": "stream",
     "text": [
      "Positive Predictive Value (Precision): 0.9669421487603306\n",
      "Negative Predictive Value: 0.773109243697479\n",
      "Matthews Correlation Coefficient (MCC): 0.7552855630066209\n",
      "F1 Score: 0.8830188679245283\n",
      "Accuracy: 0.8708333333333333\n"
     ]
    }
   ],
   "source": [
    "from sklearn.metrics import precision_score, recall_score, f1_score, accuracy_score, matthews_corrcoef\n",
    "\n",
    "# Positive Predictive Value (Precision)\n",
    "precision = precision_score(y_holdout, model_holdout> 0.5)\n",
    "\n",
    "# Negative Predictive Value\n",
    "# For NPV, we need to swap the labels, assuming it's binary classification\n",
    "tn, fp, fn, tp = cf_matrix.ravel()\n",
    "npv = tn / (tn + fn)\n",
    "\n",
    "# Matthews Correlation Coefficient (MCC)\n",
    "mcc = matthews_corrcoef(y_holdout, model_holdout> 0.5)\n",
    "\n",
    "# F1 Score\n",
    "f1 = f1_score(y_holdout, model_holdout> 0.5)\n",
    "\n",
    "# Accuracy\n",
    "accuracy = accuracy_score(y_holdout, model_holdout> 0.5)\n",
    "\n",
    "# Print the calculated metrics\n",
    "print(\"Positive Predictive Value (Precision):\", precision)\n",
    "print(\"Negative Predictive Value:\", npv)\n",
    "print(\"Matthews Correlation Coefficient (MCC):\", mcc)\n",
    "print(\"F1 Score:\", f1)\n",
    "print(\"Accuracy:\", accuracy)"
   ]
  },
  {
   "cell_type": "markdown",
   "metadata": {},
   "source": [
    "## 7. Plotting the ROC curve\n",
    "The Receiver Operating Characteristic (ROC) curve is a vital tool for visualizing the performance of classification models and selecting optimal thresholds. In this section, we'll generate the ROC curve and use it to evaluate our model.\n",
    "\n"
   ]
  },
  {
   "cell_type": "code",
   "execution_count": 103,
   "metadata": {
    "id": "gnO9W4j8tB98"
   },
   "outputs": [],
   "source": [
    "%matplotlib inline\n",
    "import matplotlib.pyplot as plt\n",
    "from sklearn.svm import SVC\n",
    "from sklearn.ensemble import RandomForestClassifier\n",
    "from sklearn.metrics import RocCurveDisplay\n",
    "from sklearn.datasets import load_wine\n",
    "from sklearn.model_selection import train_test_split"
   ]
  },
  {
   "cell_type": "code",
   "execution_count": 38,
   "metadata": {
    "colab": {
     "base_uri": "https://localhost:8080/",
     "height": 472
    },
    "id": "-2f-R3cSBV1r",
    "outputId": "41648638-ae5c-462c-b4c1-328423f99412"
   },
   "outputs": [
    {
     "name": "stdout",
     "output_type": "stream",
     "text": [
      "12/12 [==============================] - 0s 39ms/step\n"
     ]
    },
    {
     "data": {
      "image/png": "[encoded data removed]",
      "text/plain": [
       "<Figure size 640x480 with 1 Axes>"
      ]
     },
     "metadata": {},
     "output_type": "display_data"
    }
   ],
   "source": [
    "from sklearn.metrics import roc_curve\n",
    "# Get predicted class probabilities for the test set\n",
    "y_prob_rf = rf.predict_proba(X_test)[:, 1]\n",
    "y_prob_svm = svm.predict_proba(X_test)[:, 1]\n",
    "y_prob_knn = knn.predict_proba(X_test)[:, 1]\n",
    "y_prob_xgb = xgb.predict(X_test).flatten()\n",
    "y_prob_model = model.predict(X_test).flatten()\n",
    "\n",
    "# Compute the false positive rate (FPR)\n",
    "# and true positive rate (TPR) for different classification thresholds\n",
    "fpr_rf, tpr_rf, thresholds_rf = roc_curve(y_test, y_prob_rf, pos_label=1)\n",
    "fpr_svm, tpr_svm, thresholds_svm = roc_curve(y_test, y_prob_svm, pos_label=1)\n",
    "fpr_knn, tpr_knn, thresholds_knn = roc_curve(y_test, y_prob_knn, pos_label=1)\n",
    "fpr_xgb, tpr_xgb, thresholds_xgb = roc_curve(y_test, y_prob_xgb, pos_label=1)\n",
    "fpr_model, tpr_model, thresholds_model = roc_curve(y_test, y_prob_model, pos_label=1)\n",
    "\n",
    "# Compute the ROC AUC score\n",
    "roc_auc_rf = roc_auc_score(y_test, rf_test)\n",
    "roc_auc_svm = roc_auc_score(y_test, svm_test)\n",
    "roc_auc_knn = roc_auc_score(y_test, knn_test)\n",
    "roc_auc_xgb = roc_auc_score(y_test, xgb_test)\n",
    "roc_auc_model = roc_auc_score(y_test, model_test)\n",
    "\n",
    "# Plot the ROC curve\n",
    "plt.plot(fpr_rf, tpr_rf, color=\"green\", label='Random Forest (AUC = %0.2f)' % roc_auc_rf)\n",
    "plt.plot(fpr_svm, tpr_svm, color=\"blue\",label='Support Vector Machine (AUC = %0.2f)' % roc_auc_svm)\n",
    "plt.plot(fpr_knn, tpr_knn, color=\"red\",label='K-Nearest Neighbors (AUC = %0.2f)' % roc_auc_knn)\n",
    "plt.plot(fpr_xgb, tpr_xgb, color=\"yellow\",label='XGBoost (AUC = %0.2f)' % roc_auc_xgb)\n",
    "plt.plot(fpr_model, tpr_model, color=\"orange\", label='Convolutional Neural Network (AUC = %0.2f)' % roc_auc_model)\n",
    "\n",
    "# roc curve for tpr = fpr\n",
    "plt.plot([0, 1], [0, 1], 'k--', label='Random classifier')\n",
    "\n",
    "plt.xlabel('1 - Specificity')\n",
    "plt.ylabel('Sensitivity')\n",
    "plt.title('ROC curve for the testing set')\n",
    "plt.legend(loc=\"lower right\")\n",
    "plt.grid(True)\n",
    "plt.savefig('plot_roc_test_set.png', dpi=300)\n",
    "plt.show()"
   ]
  },
  {
   "cell_type": "code",
   "execution_count": 39,
   "metadata": {
    "colab": {
     "base_uri": "https://localhost:8080/",
     "height": 472
    },
    "id": "v5NwKwqKBps6",
    "outputId": "0581ff9e-0454-469e-fd3e-ca499321fbda"
   },
   "outputs": [
    {
     "name": "stdout",
     "output_type": "stream",
     "text": [
      "15/15 [==============================] - 0s 32ms/step\n"
     ]
    },
    {
     "data": {
      "image/png": "[encoded data removed]",
      "text/plain": [
       "<Figure size 640x480 with 1 Axes>"
      ]
     },
     "metadata": {},
     "output_type": "display_data"
    }
   ],
   "source": [
    "from sklearn.metrics import roc_curve\n",
    "# Get predicted class probabilities for the holdout set\n",
    "y_prob_rf = rf.predict_proba(X_holdout)[:, 1]\n",
    "y_prob_svm = svm.predict_proba(X_holdout)[:, 1]\n",
    "y_prob_knn = knn.predict_proba(X_holdout)[:, 1]\n",
    "y_prob_xgb = xgb.predict(X_holdout).flatten()\n",
    "y_prob_model = model.predict(X_holdout).flatten()\n",
    "\n",
    "# Compute the false positive rate (FPR)\n",
    "# and true positive rate (TPR) for different classification thresholds\n",
    "fpr_rf, tpr_rf, thresholds_rf = roc_curve(y_holdout, y_prob_rf, pos_label=1)\n",
    "fpr_svm, tpr_svm, thresholds_svm = roc_curve(y_holdout, y_prob_svm, pos_label=1)\n",
    "fpr_knn, tpr_knn, thresholds_knn = roc_curve(y_holdout, y_prob_knn, pos_label=1)\n",
    "fpr_xgb, tpr_xgb, thresholds_xgb = roc_curve(y_holdout, y_prob_xgb, pos_label=1)\n",
    "fpr_model, tpr_model, thresholds_model = roc_curve(y_holdout, y_prob_model, pos_label=1)\n",
    "\n",
    "# Compute the ROC AUC score\n",
    "roc_auc_rf = roc_auc_score(y_holdout, y_prob_rf)\n",
    "roc_auc_svm = roc_auc_score(y_holdout, y_prob_svm)\n",
    "roc_auc_knn = roc_auc_score(y_holdout, y_prob_knn)\n",
    "roc_auc_xgb = roc_auc_score(y_holdout, y_prob_xgb)\n",
    "roc_auc_model = roc_auc_score(y_holdout, y_prob_model)\n",
    "\n",
    "# Plot the ROC curve\n",
    "plt.plot(fpr_rf, tpr_rf, color=\"green\", label='Random Forest (AUC = %0.2f)' % auc_rf_holdout)\n",
    "plt.plot(fpr_svm, tpr_svm, color=\"blue\",label='Support Vector Machine (AUC = %0.2f)' % auc_svm_holdout)\n",
    "plt.plot(fpr_knn, tpr_knn, color=\"red\",label='K-Nearest Neighbors (AUC = %0.2f)' % auc_knn_holdout)\n",
    "plt.plot(fpr_xgb, tpr_xgb, color=\"yellow\",label='XGBoost (AUC = %0.2f)' % auc_xgb_holdout)\n",
    "plt.plot(fpr_model, tpr_model, color=\"orange\", label='Convolutional Neural Network (AUC = %0.2f)' % roc_auc_model)\n",
    "\n",
    "# roc curve for tpr = fpr\n",
    "plt.plot([0, 1], [0, 1], 'k--', label='Random classifier')\n",
    "\n",
    "plt.xlabel('1 - Specificity')\n",
    "plt.ylabel('Sensitivity')\n",
    "plt.title('ROC curve for the holdout set')\n",
    "plt.legend(loc=\"lower right\")\n",
    "plt.grid(True)\n",
    "plt.savefig('plot_roc_holdout_set.png', dpi=300)\n",
    "plt.show()"
   ]
  },
  {
   "cell_type": "markdown",
   "metadata": {},
   "source": [
    "## 8. Saving the models\n",
    "\n",
    "This code saves a trained machine learning model for later use. It works in two steps:\n",
    "\n",
    "**Serialization:** The pickle module converts the model into a format that can be saved to a file (my_model.pkl).\n",
    "\n",
    "**Compression:** The gzip module compresses the saved model file (my_model.pkl.gz) to reduce its size for easier storage or transfer."
   ]
  },
  {
   "cell_type": "code",
   "execution_count": 109,
   "metadata": {
    "id": "xhz9mEOeogAT"
   },
   "outputs": [],
   "source": [
    "import pickle\n",
    "import gzip\n",
    "\n",
    "# Assuming rf, svm, knn, xgb, and model are already defined\n",
    "\n",
    "# Save RandomForestClassifier model\n",
    "with gzip.open(\"models/rf_a_baumannii.pkl.gz\", \"wb\") as f:\n",
    "    pickle.dump(rf, f)\n",
    "\n",
    "# Save Support Vector Machine model\n",
    "with gzip.open(\"models/svm_a_baumannii.pkl.gz\", \"wb\") as f:\n",
    "    pickle.dump(svm, f)\n",
    "\n",
    "# Save K-Nearest Neighbors model\n",
    "with gzip.open(\"models/knn_a_baumannii.pkl.gz\", \"wb\") as f:\n",
    "    pickle.dump(knn, f)\n",
    "\n",
    "# Save XGBoost model\n",
    "with gzip.open(\"models/xgb_a_baumannii.pkl.gz\", \"wb\") as f:\n",
    "    pickle.dump(xgb, f)\n",
    "\n",
    "# Save Convolutional Neural Network model\n",
    "with gzip.open(\"models/cnn_a_baumannii.pkl.gz\", \"wb\") as f:\n",
    "    pickle.dump(model, f)"
   ]
  },
  {
   "cell_type": "markdown",
   "metadata": {
    "id": "N1vxt9xDL8kX"
   },
   "source": [
    "### 9. Applying the best model to predict the bioactivity of Ambinter natural compounds\n",
    "\n",
    "This section applies the previously selected best-performing machine learning model to the Ambinter natural compound dataset.  The goal is to predict the bioactivity of these compounds and identify potential candidates for further research.\n",
    "\n"
   ]
  },
  {
   "cell_type": "code",
   "execution_count": null,
   "metadata": {
    "id": "Amj8sFCtBiFx"
   },
   "outputs": [],
   "source": [
    "import pickle\n",
    "import gzip\n",
    "# Load Convolutional Neural Network model\n",
    "with gzip.open(\"models/cnn_a_baumannii.pkl.gz\", \"rb\") as f:\n",
    "    best_model = pickle.load(f)"
   ]
  },
  {
   "cell_type": "code",
   "execution_count": 111,
   "metadata": {
    "colab": {
     "base_uri": "https://localhost:8080/",
     "height": 423
    },
    "id": "eRw5w0CFHSbq",
    "outputId": "d462f006-8588-4840-c832-b5aec205adf8"
   },
   "outputs": [
    {
     "data": {
      "text/html": [
       "<div>\n",
       "<style scoped>\n",
       "    .dataframe tbody tr th:only-of-type {\n",
       "        vertical-align: middle;\n",
       "    }\n",
       "\n",
       "    .dataframe tbody tr th {\n",
       "        vertical-align: top;\n",
       "    }\n",
       "\n",
       "    .dataframe thead th {\n",
       "        text-align: right;\n",
       "    }\n",
       "</style>\n",
       "<table border=\"1\" class=\"dataframe\">\n",
       "  <thead>\n",
       "    <tr style=\"text-align: right;\">\n",
       "      <th></th>\n",
       "      <th>Smiles</th>\n",
       "      <th>ID</th>\n",
       "    </tr>\n",
       "  </thead>\n",
       "  <tbody>\n",
       "    <tr>\n",
       "      <th>0</th>\n",
       "      <td>CC(C)C(C(C(CC1)=C2[C@@](C)(CC3)[C@@H]1C(CO1)=C...</td>\n",
       "      <td>Amb22893395</td>\n",
       "    </tr>\n",
       "    <tr>\n",
       "      <th>1</th>\n",
       "      <td>CC(C)(CCC1)[C@H]([C@@H](C2)O)[C@@]1(C)[C@@H](/...</td>\n",
       "      <td>Amb22893415</td>\n",
       "    </tr>\n",
       "    <tr>\n",
       "      <th>2</th>\n",
       "      <td>CC(C)=CCc(c(OC(CC1=O)c2ccccc2)c1c(O)c1)c1O</td>\n",
       "      <td>Amb22893107</td>\n",
       "    </tr>\n",
       "    <tr>\n",
       "      <th>3</th>\n",
       "      <td>CC(C)(CC1)C[C@H]2C3=CC[C@H]([C@@](C)(CC4)[C@@H...</td>\n",
       "      <td>Amb22893398</td>\n",
       "    </tr>\n",
       "    <tr>\n",
       "      <th>4</th>\n",
       "      <td>CC(C)[C@@H](CC[C@@](C)([C@@H](CC1)[C@@H]2[C@]1...</td>\n",
       "      <td>Amb22893380</td>\n",
       "    </tr>\n",
       "    <tr>\n",
       "      <th>...</th>\n",
       "      <td>...</td>\n",
       "      <td>...</td>\n",
       "    </tr>\n",
       "    <tr>\n",
       "      <th>6146</th>\n",
       "      <td>C[C@@](CN([C@H]1C2)[C@@H]34)(C[C@@H](C5)O)[C@@...</td>\n",
       "      <td>Amb28974300</td>\n",
       "    </tr>\n",
       "    <tr>\n",
       "      <th>6147</th>\n",
       "      <td>C[C@H](CC[C@H]1[C@H]2C)[C@@H](CC3)[C@]11OO[C@@...</td>\n",
       "      <td>Amb28974565</td>\n",
       "    </tr>\n",
       "    <tr>\n",
       "      <th>6148</th>\n",
       "      <td>C[C@]12O[C@H]1CC(C)(C)/C=C/C/C(/C)=C/CC2</td>\n",
       "      <td>Amb29085726</td>\n",
       "    </tr>\n",
       "    <tr>\n",
       "      <th>6149</th>\n",
       "      <td>CC(C)[C@](CC1)(C[C@H]2O[C@]2(C)CC/C=C(/C)\\CC2)...</td>\n",
       "      <td>Amb29847129</td>\n",
       "    </tr>\n",
       "    <tr>\n",
       "      <th>6150</th>\n",
       "      <td>CN(CC[C@@]1([C@@H]23)c4cccc(O)c4N2C(C2)=O)CC4=...</td>\n",
       "      <td>Amb31207333</td>\n",
       "    </tr>\n",
       "  </tbody>\n",
       "</table>\n",
       "<p>6151 rows × 2 columns</p>\n",
       "</div>"
      ],
      "text/plain": [
       "                                                 Smiles           ID\n",
       "0     CC(C)C(C(C(CC1)=C2[C@@](C)(CC3)[C@@H]1C(CO1)=C...  Amb22893395\n",
       "1     CC(C)(CCC1)[C@H]([C@@H](C2)O)[C@@]1(C)[C@@H](/...  Amb22893415\n",
       "2            CC(C)=CCc(c(OC(CC1=O)c2ccccc2)c1c(O)c1)c1O  Amb22893107\n",
       "3     CC(C)(CC1)C[C@H]2C3=CC[C@H]([C@@](C)(CC4)[C@@H...  Amb22893398\n",
       "4     CC(C)[C@@H](CC[C@@](C)([C@@H](CC1)[C@@H]2[C@]1...  Amb22893380\n",
       "...                                                 ...          ...\n",
       "6146  C[C@@](CN([C@H]1C2)[C@@H]34)(C[C@@H](C5)O)[C@@...  Amb28974300\n",
       "6147  C[C@H](CC[C@H]1[C@H]2C)[C@@H](CC3)[C@]11OO[C@@...  Amb28974565\n",
       "6148           C[C@]12O[C@H]1CC(C)(C)/C=C/C/C(/C)=C/CC2  Amb29085726\n",
       "6149  CC(C)[C@](CC1)(C[C@H]2O[C@]2(C)CC/C=C(/C)\\CC2)...  Amb29847129\n",
       "6150  CN(CC[C@@]1([C@@H]23)c4cccc(O)c4N2C(C2)=O)CC4=...  Amb31207333\n",
       "\n",
       "[6151 rows x 2 columns]"
      ]
     },
     "execution_count": 111,
     "metadata": {},
     "output_type": "execute_result"
    }
   ],
   "source": [
    "db = pd.read_csv(\"ambinter/ambinter_ro5.csv\", sep=',')\n",
    "db"
   ]
  },
  {
   "cell_type": "code",
   "execution_count": 112,
   "metadata": {
    "colab": {
     "base_uri": "https://localhost:8080/"
    },
    "id": "V9zRIy_FCTQH",
    "outputId": "396e506d-f275-4976-c894-3bd7a640ba94"
   },
   "outputs": [
    {
     "name": "stderr",
     "output_type": "stream",
     "text": [
      "[13:28:59] Explicit valence for atom # 8 N, 4, is greater than permitted\n",
      "[13:28:59] Explicit valence for atom # 18 C, 5, is greater than permitted\n",
      "[13:28:59] Explicit valence for atom # 21 C, 5, is greater than permitted\n",
      "[13:28:59] Explicit valence for atom # 1 N, 4, is greater than permitted\n",
      "[13:28:59] Explicit valence for atom # 1 N, 4, is greater than permitted\n",
      "[13:28:59] Explicit valence for atom # 17 N, 4, is greater than permitted\n",
      "[13:28:59] Explicit valence for atom # 17 N, 4, is greater than permitted\n",
      "[13:28:59] Explicit valence for atom # 2 N, 4, is greater than permitted\n",
      "[13:28:59] Can't kekulize mol.  Unkekulized atoms: 1 2 7\n",
      "[13:29:00] Explicit valence for atom # 34 N, 4, is greater than permitted\n",
      "[13:29:00] Explicit valence for atom # 1 N, 4, is greater than permitted\n",
      "[13:29:00] Explicit valence for atom # 17 N, 4, is greater than permitted\n",
      "[13:29:00] Explicit valence for atom # 17 N, 4, is greater than permitted\n",
      "[13:29:00] Explicit valence for atom # 16 N, 4, is greater than permitted\n",
      "[13:29:00] Explicit valence for atom # 3 N, 4, is greater than permitted\n",
      "[13:29:00] Explicit valence for atom # 3 N, 4, is greater than permitted\n",
      "[13:29:00] Explicit valence for atom # 3 N, 4, is greater than permitted\n",
      "[13:29:00] Explicit valence for atom # 1 N, 4, is greater than permitted\n",
      "[13:29:00] Explicit valence for atom # 17 N, 4, is greater than permitted\n",
      "[13:29:00] Explicit valence for atom # 16 N, 4, is greater than permitted\n",
      "[13:29:00] Explicit valence for atom # 17 N, 4, is greater than permitted\n",
      "[13:29:00] Explicit valence for atom # 1 N, 4, is greater than permitted\n",
      "[13:29:00] Explicit valence for atom # 21 N, 4, is greater than permitted\n",
      "[13:29:00] Explicit valence for atom # 20 C, 5, is greater than permitted\n",
      "[13:29:00] Explicit valence for atom # 22 N, 4, is greater than permitted\n",
      "[13:29:00] Explicit valence for atom # 15 N, 4, is greater than permitted\n",
      "[13:29:00] Explicit valence for atom # 16 N, 4, is greater than permitted\n",
      "[13:29:01] Explicit valence for atom # 18 N, 4, is greater than permitted\n"
     ]
    }
   ],
   "source": [
    "import pandas as pd\n",
    "from rdkit import Chem\n",
    "from rdkit.Chem import AllChem\n",
    "\n",
    "# Load your DataFrame with SMILES data\n",
    "data2 = pd.read_csv(\"ambinter/ambinter_ro5.csv\")\n",
    "\n",
    "# Add a 'molecule' column based on 'Smiles'\n",
    "data2['molecule'] = data2['Smiles'].apply(Chem.MolFromSmiles)\n",
    "\n",
    "# Calculate Morgan fingerprints with depth of 4\n",
    "num_bits = 2048  # Number of bits in the fingerprint\n",
    "fingerprints = []\n",
    "\n",
    "for mol in data2['molecule']:\n",
    "    if mol is not None:\n",
    "        fingerprint = AllChem.GetMorganFingerprintAsBitVect(mol, 2, nBits=num_bits)\n",
    "        fingerprint = list(fingerprint.ToBitString())\n",
    "    else:\n",
    "        fingerprint = [None] * num_bits\n",
    "    fingerprints.append(fingerprint)\n",
    "\n",
    "# Convert the list of fingerprints to a DataFrame\n",
    "fingerprint_df = pd.DataFrame(fingerprints, columns=[f'Morgan_{i}' for i in range(num_bits)])\n",
    "\n",
    "# Concatenate the original DataFrame with the fingerprint DataFrame\n",
    "data2 = pd.concat([data2, fingerprint_df], axis=1)\n",
    "\n",
    "# Save the DataFrame with Morgan fingerprints to a new CSV file\n",
    "data2.to_csv(\"ambinter/ambinter_with_morgan_fingerprints.csv\", index=None)"
   ]
  },
  {
   "cell_type": "code",
   "execution_count": 113,
   "metadata": {
    "id": "RJVRzotgD1et"
   },
   "outputs": [],
   "source": [
    "descriptors = pd.read_csv(\"ambinter/a_baumannii_morgan_fp_selected.csv\")"
   ]
  },
  {
   "cell_type": "code",
   "execution_count": 114,
   "metadata": {
    "colab": {
     "base_uri": "https://localhost:8080/"
    },
    "id": "Wj5w0ghZD5fe",
    "outputId": "52b8b130-6e95-424d-94e0-df0444b6ef25"
   },
   "outputs": [
    {
     "data": {
      "text/plain": [
       "(2398, 749)"
      ]
     },
     "execution_count": 114,
     "metadata": {},
     "output_type": "execute_result"
    }
   ],
   "source": [
    "descriptors.shape"
   ]
  },
  {
   "cell_type": "code",
   "execution_count": 115,
   "metadata": {
    "colab": {
     "base_uri": "https://localhost:8080/",
     "height": 790
    },
    "id": "d4X9G9XWC6HD",
    "outputId": "36e32ae3-7914-4b32-ff3a-5b0bd8a97eb4"
   },
   "outputs": [
    {
     "data": {
      "text/html": [
       "<div>\n",
       "<style scoped>\n",
       "    .dataframe tbody tr th:only-of-type {\n",
       "        vertical-align: middle;\n",
       "    }\n",
       "\n",
       "    .dataframe tbody tr th {\n",
       "        vertical-align: top;\n",
       "    }\n",
       "\n",
       "    .dataframe thead th {\n",
       "        text-align: right;\n",
       "    }\n",
       "</style>\n",
       "<table border=\"1\" class=\"dataframe\">\n",
       "  <thead>\n",
       "    <tr style=\"text-align: right;\">\n",
       "      <th></th>\n",
       "      <th>Smiles</th>\n",
       "      <th>ID</th>\n",
       "      <th>molecule</th>\n",
       "      <th>Morgan_0</th>\n",
       "      <th>Morgan_1</th>\n",
       "      <th>Morgan_2</th>\n",
       "      <th>Morgan_3</th>\n",
       "      <th>Morgan_4</th>\n",
       "      <th>Morgan_5</th>\n",
       "      <th>Morgan_6</th>\n",
       "      <th>...</th>\n",
       "      <th>Morgan_2038</th>\n",
       "      <th>Morgan_2039</th>\n",
       "      <th>Morgan_2040</th>\n",
       "      <th>Morgan_2041</th>\n",
       "      <th>Morgan_2042</th>\n",
       "      <th>Morgan_2043</th>\n",
       "      <th>Morgan_2044</th>\n",
       "      <th>Morgan_2045</th>\n",
       "      <th>Morgan_2046</th>\n",
       "      <th>Morgan_2047</th>\n",
       "    </tr>\n",
       "  </thead>\n",
       "  <tbody>\n",
       "    <tr>\n",
       "      <th>0</th>\n",
       "      <td>CC(C)C(C(C(CC1)=C2[C@@](C)(CC3)[C@@H]1C(CO1)=C...</td>\n",
       "      <td>Amb22893395</td>\n",
       "      <td>&lt;rdkit.Chem.rdchem.Mol object at 0x7f75bc651230&gt;</td>\n",
       "      <td>0</td>\n",
       "      <td>1</td>\n",
       "      <td>0</td>\n",
       "      <td>0</td>\n",
       "      <td>0</td>\n",
       "      <td>0</td>\n",
       "      <td>0</td>\n",
       "      <td>...</td>\n",
       "      <td>0</td>\n",
       "      <td>0</td>\n",
       "      <td>0</td>\n",
       "      <td>0</td>\n",
       "      <td>0</td>\n",
       "      <td>0</td>\n",
       "      <td>0</td>\n",
       "      <td>0</td>\n",
       "      <td>0</td>\n",
       "      <td>0</td>\n",
       "    </tr>\n",
       "    <tr>\n",
       "      <th>1</th>\n",
       "      <td>CC(C)(CCC1)[C@H]([C@@H](C2)O)[C@@]1(C)[C@@H](/...</td>\n",
       "      <td>Amb22893415</td>\n",
       "      <td>&lt;rdkit.Chem.rdchem.Mol object at 0x7f75bc6512a0&gt;</td>\n",
       "      <td>0</td>\n",
       "      <td>0</td>\n",
       "      <td>0</td>\n",
       "      <td>0</td>\n",
       "      <td>0</td>\n",
       "      <td>0</td>\n",
       "      <td>0</td>\n",
       "      <td>...</td>\n",
       "      <td>0</td>\n",
       "      <td>0</td>\n",
       "      <td>0</td>\n",
       "      <td>0</td>\n",
       "      <td>0</td>\n",
       "      <td>0</td>\n",
       "      <td>0</td>\n",
       "      <td>0</td>\n",
       "      <td>0</td>\n",
       "      <td>0</td>\n",
       "    </tr>\n",
       "    <tr>\n",
       "      <th>2</th>\n",
       "      <td>CC(C)=CCc(c(OC(CC1=O)c2ccccc2)c1c(O)c1)c1O</td>\n",
       "      <td>Amb22893107</td>\n",
       "      <td>&lt;rdkit.Chem.rdchem.Mol object at 0x7f75bc651310&gt;</td>\n",
       "      <td>0</td>\n",
       "      <td>0</td>\n",
       "      <td>0</td>\n",
       "      <td>0</td>\n",
       "      <td>0</td>\n",
       "      <td>0</td>\n",
       "      <td>0</td>\n",
       "      <td>...</td>\n",
       "      <td>1</td>\n",
       "      <td>0</td>\n",
       "      <td>0</td>\n",
       "      <td>0</td>\n",
       "      <td>0</td>\n",
       "      <td>0</td>\n",
       "      <td>0</td>\n",
       "      <td>0</td>\n",
       "      <td>0</td>\n",
       "      <td>0</td>\n",
       "    </tr>\n",
       "    <tr>\n",
       "      <th>3</th>\n",
       "      <td>CC(C)(CC1)C[C@H]2C3=CC[C@H]([C@@](C)(CC4)[C@@H...</td>\n",
       "      <td>Amb22893398</td>\n",
       "      <td>&lt;rdkit.Chem.rdchem.Mol object at 0x7f75bc651380&gt;</td>\n",
       "      <td>0</td>\n",
       "      <td>0</td>\n",
       "      <td>0</td>\n",
       "      <td>0</td>\n",
       "      <td>0</td>\n",
       "      <td>0</td>\n",
       "      <td>0</td>\n",
       "      <td>...</td>\n",
       "      <td>0</td>\n",
       "      <td>0</td>\n",
       "      <td>0</td>\n",
       "      <td>0</td>\n",
       "      <td>0</td>\n",
       "      <td>0</td>\n",
       "      <td>0</td>\n",
       "      <td>0</td>\n",
       "      <td>0</td>\n",
       "      <td>0</td>\n",
       "    </tr>\n",
       "    <tr>\n",
       "      <th>4</th>\n",
       "      <td>CC(C)[C@@H](CC[C@@](C)([C@@H](CC1)[C@@H]2[C@]1...</td>\n",
       "      <td>Amb22893380</td>\n",
       "      <td>&lt;rdkit.Chem.rdchem.Mol object at 0x7f75bc6513f0&gt;</td>\n",
       "      <td>0</td>\n",
       "      <td>1</td>\n",
       "      <td>0</td>\n",
       "      <td>0</td>\n",
       "      <td>0</td>\n",
       "      <td>0</td>\n",
       "      <td>0</td>\n",
       "      <td>...</td>\n",
       "      <td>0</td>\n",
       "      <td>0</td>\n",
       "      <td>0</td>\n",
       "      <td>0</td>\n",
       "      <td>0</td>\n",
       "      <td>0</td>\n",
       "      <td>0</td>\n",
       "      <td>0</td>\n",
       "      <td>0</td>\n",
       "      <td>0</td>\n",
       "    </tr>\n",
       "    <tr>\n",
       "      <th>...</th>\n",
       "      <td>...</td>\n",
       "      <td>...</td>\n",
       "      <td>...</td>\n",
       "      <td>...</td>\n",
       "      <td>...</td>\n",
       "      <td>...</td>\n",
       "      <td>...</td>\n",
       "      <td>...</td>\n",
       "      <td>...</td>\n",
       "      <td>...</td>\n",
       "      <td>...</td>\n",
       "      <td>...</td>\n",
       "      <td>...</td>\n",
       "      <td>...</td>\n",
       "      <td>...</td>\n",
       "      <td>...</td>\n",
       "      <td>...</td>\n",
       "      <td>...</td>\n",
       "      <td>...</td>\n",
       "      <td>...</td>\n",
       "      <td>...</td>\n",
       "    </tr>\n",
       "    <tr>\n",
       "      <th>6146</th>\n",
       "      <td>C[C@@](CN([C@H]1C2)[C@@H]34)(C[C@@H](C5)O)[C@@...</td>\n",
       "      <td>Amb28974300</td>\n",
       "      <td>&lt;rdkit.Chem.rdchem.Mol object at 0x7f75bc519ee0&gt;</td>\n",
       "      <td>0</td>\n",
       "      <td>0</td>\n",
       "      <td>0</td>\n",
       "      <td>0</td>\n",
       "      <td>0</td>\n",
       "      <td>1</td>\n",
       "      <td>0</td>\n",
       "      <td>...</td>\n",
       "      <td>0</td>\n",
       "      <td>0</td>\n",
       "      <td>0</td>\n",
       "      <td>0</td>\n",
       "      <td>0</td>\n",
       "      <td>0</td>\n",
       "      <td>0</td>\n",
       "      <td>0</td>\n",
       "      <td>0</td>\n",
       "      <td>0</td>\n",
       "    </tr>\n",
       "    <tr>\n",
       "      <th>6147</th>\n",
       "      <td>C[C@H](CC[C@H]1[C@H]2C)[C@@H](CC3)[C@]11OO[C@@...</td>\n",
       "      <td>Amb28974565</td>\n",
       "      <td>&lt;rdkit.Chem.rdchem.Mol object at 0x7f75bc519f50&gt;</td>\n",
       "      <td>0</td>\n",
       "      <td>0</td>\n",
       "      <td>0</td>\n",
       "      <td>0</td>\n",
       "      <td>0</td>\n",
       "      <td>0</td>\n",
       "      <td>0</td>\n",
       "      <td>...</td>\n",
       "      <td>0</td>\n",
       "      <td>0</td>\n",
       "      <td>0</td>\n",
       "      <td>0</td>\n",
       "      <td>0</td>\n",
       "      <td>0</td>\n",
       "      <td>0</td>\n",
       "      <td>0</td>\n",
       "      <td>0</td>\n",
       "      <td>0</td>\n",
       "    </tr>\n",
       "    <tr>\n",
       "      <th>6148</th>\n",
       "      <td>C[C@]12O[C@H]1CC(C)(C)/C=C/C/C(/C)=C/CC2</td>\n",
       "      <td>Amb29085726</td>\n",
       "      <td>&lt;rdkit.Chem.rdchem.Mol object at 0x7f75bc519fc0&gt;</td>\n",
       "      <td>0</td>\n",
       "      <td>0</td>\n",
       "      <td>0</td>\n",
       "      <td>0</td>\n",
       "      <td>0</td>\n",
       "      <td>0</td>\n",
       "      <td>0</td>\n",
       "      <td>...</td>\n",
       "      <td>0</td>\n",
       "      <td>0</td>\n",
       "      <td>0</td>\n",
       "      <td>0</td>\n",
       "      <td>0</td>\n",
       "      <td>0</td>\n",
       "      <td>0</td>\n",
       "      <td>0</td>\n",
       "      <td>0</td>\n",
       "      <td>0</td>\n",
       "    </tr>\n",
       "    <tr>\n",
       "      <th>6149</th>\n",
       "      <td>CC(C)[C@](CC1)(C[C@H]2O[C@]2(C)CC/C=C(/C)\\CC2)...</td>\n",
       "      <td>Amb29847129</td>\n",
       "      <td>&lt;rdkit.Chem.rdchem.Mol object at 0x7f75bc51a030&gt;</td>\n",
       "      <td>0</td>\n",
       "      <td>1</td>\n",
       "      <td>0</td>\n",
       "      <td>0</td>\n",
       "      <td>0</td>\n",
       "      <td>0</td>\n",
       "      <td>0</td>\n",
       "      <td>...</td>\n",
       "      <td>0</td>\n",
       "      <td>0</td>\n",
       "      <td>0</td>\n",
       "      <td>0</td>\n",
       "      <td>0</td>\n",
       "      <td>0</td>\n",
       "      <td>0</td>\n",
       "      <td>0</td>\n",
       "      <td>0</td>\n",
       "      <td>0</td>\n",
       "    </tr>\n",
       "    <tr>\n",
       "      <th>6150</th>\n",
       "      <td>CN(CC[C@@]1([C@@H]23)c4cccc(O)c4N2C(C2)=O)CC4=...</td>\n",
       "      <td>Amb31207333</td>\n",
       "      <td>&lt;rdkit.Chem.rdchem.Mol object at 0x7f75bc51a0a0&gt;</td>\n",
       "      <td>0</td>\n",
       "      <td>0</td>\n",
       "      <td>0</td>\n",
       "      <td>0</td>\n",
       "      <td>0</td>\n",
       "      <td>0</td>\n",
       "      <td>0</td>\n",
       "      <td>...</td>\n",
       "      <td>0</td>\n",
       "      <td>0</td>\n",
       "      <td>0</td>\n",
       "      <td>0</td>\n",
       "      <td>0</td>\n",
       "      <td>0</td>\n",
       "      <td>0</td>\n",
       "      <td>0</td>\n",
       "      <td>0</td>\n",
       "      <td>0</td>\n",
       "    </tr>\n",
       "  </tbody>\n",
       "</table>\n",
       "<p>6151 rows × 2051 columns</p>\n",
       "</div>"
      ],
      "text/plain": [
       "                                                 Smiles           ID  \\\n",
       "0     CC(C)C(C(C(CC1)=C2[C@@](C)(CC3)[C@@H]1C(CO1)=C...  Amb22893395   \n",
       "1     CC(C)(CCC1)[C@H]([C@@H](C2)O)[C@@]1(C)[C@@H](/...  Amb22893415   \n",
       "2            CC(C)=CCc(c(OC(CC1=O)c2ccccc2)c1c(O)c1)c1O  Amb22893107   \n",
       "3     CC(C)(CC1)C[C@H]2C3=CC[C@H]([C@@](C)(CC4)[C@@H...  Amb22893398   \n",
       "4     CC(C)[C@@H](CC[C@@](C)([C@@H](CC1)[C@@H]2[C@]1...  Amb22893380   \n",
       "...                                                 ...          ...   \n",
       "6146  C[C@@](CN([C@H]1C2)[C@@H]34)(C[C@@H](C5)O)[C@@...  Amb28974300   \n",
       "6147  C[C@H](CC[C@H]1[C@H]2C)[C@@H](CC3)[C@]11OO[C@@...  Amb28974565   \n",
       "6148           C[C@]12O[C@H]1CC(C)(C)/C=C/C/C(/C)=C/CC2  Amb29085726   \n",
       "6149  CC(C)[C@](CC1)(C[C@H]2O[C@]2(C)CC/C=C(/C)\\CC2)...  Amb29847129   \n",
       "6150  CN(CC[C@@]1([C@@H]23)c4cccc(O)c4N2C(C2)=O)CC4=...  Amb31207333   \n",
       "\n",
       "                                              molecule Morgan_0 Morgan_1  \\\n",
       "0     <rdkit.Chem.rdchem.Mol object at 0x7f75bc651230>        0        1   \n",
       "1     <rdkit.Chem.rdchem.Mol object at 0x7f75bc6512a0>        0        0   \n",
       "2     <rdkit.Chem.rdchem.Mol object at 0x7f75bc651310>        0        0   \n",
       "3     <rdkit.Chem.rdchem.Mol object at 0x7f75bc651380>        0        0   \n",
       "4     <rdkit.Chem.rdchem.Mol object at 0x7f75bc6513f0>        0        1   \n",
       "...                                                ...      ...      ...   \n",
       "6146  <rdkit.Chem.rdchem.Mol object at 0x7f75bc519ee0>        0        0   \n",
       "6147  <rdkit.Chem.rdchem.Mol object at 0x7f75bc519f50>        0        0   \n",
       "6148  <rdkit.Chem.rdchem.Mol object at 0x7f75bc519fc0>        0        0   \n",
       "6149  <rdkit.Chem.rdchem.Mol object at 0x7f75bc51a030>        0        1   \n",
       "6150  <rdkit.Chem.rdchem.Mol object at 0x7f75bc51a0a0>        0        0   \n",
       "\n",
       "     Morgan_2 Morgan_3 Morgan_4 Morgan_5 Morgan_6  ... Morgan_2038  \\\n",
       "0           0        0        0        0        0  ...           0   \n",
       "1           0        0        0        0        0  ...           0   \n",
       "2           0        0        0        0        0  ...           1   \n",
       "3           0        0        0        0        0  ...           0   \n",
       "4           0        0        0        0        0  ...           0   \n",
       "...       ...      ...      ...      ...      ...  ...         ...   \n",
       "6146        0        0        0        1        0  ...           0   \n",
       "6147        0        0        0        0        0  ...           0   \n",
       "6148        0        0        0        0        0  ...           0   \n",
       "6149        0        0        0        0        0  ...           0   \n",
       "6150        0        0        0        0        0  ...           0   \n",
       "\n",
       "     Morgan_2039 Morgan_2040 Morgan_2041 Morgan_2042 Morgan_2043 Morgan_2044  \\\n",
       "0              0           0           0           0           0           0   \n",
       "1              0           0           0           0           0           0   \n",
       "2              0           0           0           0           0           0   \n",
       "3              0           0           0           0           0           0   \n",
       "4              0           0           0           0           0           0   \n",
       "...          ...         ...         ...         ...         ...         ...   \n",
       "6146           0           0           0           0           0           0   \n",
       "6147           0           0           0           0           0           0   \n",
       "6148           0           0           0           0           0           0   \n",
       "6149           0           0           0           0           0           0   \n",
       "6150           0           0           0           0           0           0   \n",
       "\n",
       "     Morgan_2045 Morgan_2046 Morgan_2047  \n",
       "0              0           0           0  \n",
       "1              0           0           0  \n",
       "2              0           0           0  \n",
       "3              0           0           0  \n",
       "4              0           0           0  \n",
       "...          ...         ...         ...  \n",
       "6146           0           0           0  \n",
       "6147           0           0           0  \n",
       "6148           0           0           0  \n",
       "6149           0           0           0  \n",
       "6150           0           0           0  \n",
       "\n",
       "[6151 rows x 2051 columns]"
      ]
     },
     "execution_count": 115,
     "metadata": {},
     "output_type": "execute_result"
    }
   ],
   "source": [
    "data2"
   ]
  },
  {
   "cell_type": "code",
   "execution_count": 116,
   "metadata": {
    "colab": {
     "base_uri": "https://localhost:8080/"
    },
    "id": "unpVPBnAFMXc",
    "outputId": "2349e41a-9074-4c10-99d5-93c0f7e08993"
   },
   "outputs": [
    {
     "data": {
      "text/plain": [
       "Index(['Morgan_1', 'Morgan_2', 'Morgan_4', 'Morgan_5', 'Morgan_6', 'Morgan_8',\n",
       "       'Morgan_9', 'Morgan_11', 'Morgan_13', 'Morgan_14',\n",
       "       ...\n",
       "       'Morgan_2009', 'Morgan_2014', 'Morgan_2018', 'Morgan_2020',\n",
       "       'Morgan_2026', 'Morgan_2038', 'Morgan_2041', 'Morgan_2042',\n",
       "       'Morgan_2044', 'Morgan_2045'],\n",
       "      dtype='object', length=749)"
      ]
     },
     "execution_count": 116,
     "metadata": {},
     "output_type": "execute_result"
    }
   ],
   "source": [
    "common_features = descriptors.columns.intersection(data2.columns)\n",
    "common_features"
   ]
  },
  {
   "cell_type": "code",
   "execution_count": 117,
   "metadata": {
    "id": "9gh2PEnjFMap"
   },
   "outputs": [],
   "source": [
    "subset = data2[common_features]"
   ]
  },
  {
   "cell_type": "code",
   "execution_count": 118,
   "metadata": {
    "colab": {
     "base_uri": "https://localhost:8080/",
     "height": 443
    },
    "id": "Fhce1eo0FMdk",
    "outputId": "6d2b9663-03d1-4472-b1ea-01e2256f5da3"
   },
   "outputs": [
    {
     "data": {
      "text/html": [
       "<div>\n",
       "<style scoped>\n",
       "    .dataframe tbody tr th:only-of-type {\n",
       "        vertical-align: middle;\n",
       "    }\n",
       "\n",
       "    .dataframe tbody tr th {\n",
       "        vertical-align: top;\n",
       "    }\n",
       "\n",
       "    .dataframe thead th {\n",
       "        text-align: right;\n",
       "    }\n",
       "</style>\n",
       "<table border=\"1\" class=\"dataframe\">\n",
       "  <thead>\n",
       "    <tr style=\"text-align: right;\">\n",
       "      <th></th>\n",
       "      <th>Morgan_1</th>\n",
       "      <th>Morgan_2</th>\n",
       "      <th>Morgan_4</th>\n",
       "      <th>Morgan_5</th>\n",
       "      <th>Morgan_6</th>\n",
       "      <th>Morgan_8</th>\n",
       "      <th>Morgan_9</th>\n",
       "      <th>Morgan_11</th>\n",
       "      <th>Morgan_13</th>\n",
       "      <th>Morgan_14</th>\n",
       "      <th>...</th>\n",
       "      <th>Morgan_2009</th>\n",
       "      <th>Morgan_2014</th>\n",
       "      <th>Morgan_2018</th>\n",
       "      <th>Morgan_2020</th>\n",
       "      <th>Morgan_2026</th>\n",
       "      <th>Morgan_2038</th>\n",
       "      <th>Morgan_2041</th>\n",
       "      <th>Morgan_2042</th>\n",
       "      <th>Morgan_2044</th>\n",
       "      <th>Morgan_2045</th>\n",
       "    </tr>\n",
       "  </thead>\n",
       "  <tbody>\n",
       "    <tr>\n",
       "      <th>0</th>\n",
       "      <td>1</td>\n",
       "      <td>0</td>\n",
       "      <td>0</td>\n",
       "      <td>0</td>\n",
       "      <td>0</td>\n",
       "      <td>0</td>\n",
       "      <td>0</td>\n",
       "      <td>0</td>\n",
       "      <td>0</td>\n",
       "      <td>0</td>\n",
       "      <td>...</td>\n",
       "      <td>0</td>\n",
       "      <td>0</td>\n",
       "      <td>0</td>\n",
       "      <td>0</td>\n",
       "      <td>0</td>\n",
       "      <td>0</td>\n",
       "      <td>0</td>\n",
       "      <td>0</td>\n",
       "      <td>0</td>\n",
       "      <td>0</td>\n",
       "    </tr>\n",
       "    <tr>\n",
       "      <th>1</th>\n",
       "      <td>0</td>\n",
       "      <td>0</td>\n",
       "      <td>0</td>\n",
       "      <td>0</td>\n",
       "      <td>0</td>\n",
       "      <td>0</td>\n",
       "      <td>0</td>\n",
       "      <td>0</td>\n",
       "      <td>0</td>\n",
       "      <td>0</td>\n",
       "      <td>...</td>\n",
       "      <td>0</td>\n",
       "      <td>0</td>\n",
       "      <td>0</td>\n",
       "      <td>0</td>\n",
       "      <td>0</td>\n",
       "      <td>0</td>\n",
       "      <td>0</td>\n",
       "      <td>0</td>\n",
       "      <td>0</td>\n",
       "      <td>0</td>\n",
       "    </tr>\n",
       "    <tr>\n",
       "      <th>2</th>\n",
       "      <td>0</td>\n",
       "      <td>0</td>\n",
       "      <td>0</td>\n",
       "      <td>0</td>\n",
       "      <td>0</td>\n",
       "      <td>0</td>\n",
       "      <td>0</td>\n",
       "      <td>0</td>\n",
       "      <td>0</td>\n",
       "      <td>0</td>\n",
       "      <td>...</td>\n",
       "      <td>0</td>\n",
       "      <td>0</td>\n",
       "      <td>0</td>\n",
       "      <td>0</td>\n",
       "      <td>0</td>\n",
       "      <td>1</td>\n",
       "      <td>0</td>\n",
       "      <td>0</td>\n",
       "      <td>0</td>\n",
       "      <td>0</td>\n",
       "    </tr>\n",
       "    <tr>\n",
       "      <th>3</th>\n",
       "      <td>0</td>\n",
       "      <td>0</td>\n",
       "      <td>0</td>\n",
       "      <td>0</td>\n",
       "      <td>0</td>\n",
       "      <td>0</td>\n",
       "      <td>0</td>\n",
       "      <td>0</td>\n",
       "      <td>0</td>\n",
       "      <td>0</td>\n",
       "      <td>...</td>\n",
       "      <td>0</td>\n",
       "      <td>0</td>\n",
       "      <td>0</td>\n",
       "      <td>0</td>\n",
       "      <td>0</td>\n",
       "      <td>0</td>\n",
       "      <td>0</td>\n",
       "      <td>0</td>\n",
       "      <td>0</td>\n",
       "      <td>0</td>\n",
       "    </tr>\n",
       "    <tr>\n",
       "      <th>4</th>\n",
       "      <td>1</td>\n",
       "      <td>0</td>\n",
       "      <td>0</td>\n",
       "      <td>0</td>\n",
       "      <td>0</td>\n",
       "      <td>1</td>\n",
       "      <td>0</td>\n",
       "      <td>0</td>\n",
       "      <td>0</td>\n",
       "      <td>0</td>\n",
       "      <td>...</td>\n",
       "      <td>0</td>\n",
       "      <td>0</td>\n",
       "      <td>0</td>\n",
       "      <td>0</td>\n",
       "      <td>0</td>\n",
       "      <td>0</td>\n",
       "      <td>0</td>\n",
       "      <td>0</td>\n",
       "      <td>0</td>\n",
       "      <td>0</td>\n",
       "    </tr>\n",
       "    <tr>\n",
       "      <th>...</th>\n",
       "      <td>...</td>\n",
       "      <td>...</td>\n",
       "      <td>...</td>\n",
       "      <td>...</td>\n",
       "      <td>...</td>\n",
       "      <td>...</td>\n",
       "      <td>...</td>\n",
       "      <td>...</td>\n",
       "      <td>...</td>\n",
       "      <td>...</td>\n",
       "      <td>...</td>\n",
       "      <td>...</td>\n",
       "      <td>...</td>\n",
       "      <td>...</td>\n",
       "      <td>...</td>\n",
       "      <td>...</td>\n",
       "      <td>...</td>\n",
       "      <td>...</td>\n",
       "      <td>...</td>\n",
       "      <td>...</td>\n",
       "      <td>...</td>\n",
       "    </tr>\n",
       "    <tr>\n",
       "      <th>6146</th>\n",
       "      <td>0</td>\n",
       "      <td>0</td>\n",
       "      <td>0</td>\n",
       "      <td>1</td>\n",
       "      <td>0</td>\n",
       "      <td>0</td>\n",
       "      <td>0</td>\n",
       "      <td>0</td>\n",
       "      <td>0</td>\n",
       "      <td>0</td>\n",
       "      <td>...</td>\n",
       "      <td>0</td>\n",
       "      <td>0</td>\n",
       "      <td>0</td>\n",
       "      <td>1</td>\n",
       "      <td>0</td>\n",
       "      <td>0</td>\n",
       "      <td>0</td>\n",
       "      <td>0</td>\n",
       "      <td>0</td>\n",
       "      <td>0</td>\n",
       "    </tr>\n",
       "    <tr>\n",
       "      <th>6147</th>\n",
       "      <td>0</td>\n",
       "      <td>0</td>\n",
       "      <td>0</td>\n",
       "      <td>0</td>\n",
       "      <td>0</td>\n",
       "      <td>0</td>\n",
       "      <td>0</td>\n",
       "      <td>0</td>\n",
       "      <td>0</td>\n",
       "      <td>0</td>\n",
       "      <td>...</td>\n",
       "      <td>0</td>\n",
       "      <td>0</td>\n",
       "      <td>0</td>\n",
       "      <td>0</td>\n",
       "      <td>0</td>\n",
       "      <td>0</td>\n",
       "      <td>0</td>\n",
       "      <td>0</td>\n",
       "      <td>0</td>\n",
       "      <td>0</td>\n",
       "    </tr>\n",
       "    <tr>\n",
       "      <th>6148</th>\n",
       "      <td>0</td>\n",
       "      <td>0</td>\n",
       "      <td>0</td>\n",
       "      <td>0</td>\n",
       "      <td>0</td>\n",
       "      <td>0</td>\n",
       "      <td>0</td>\n",
       "      <td>0</td>\n",
       "      <td>0</td>\n",
       "      <td>0</td>\n",
       "      <td>...</td>\n",
       "      <td>0</td>\n",
       "      <td>0</td>\n",
       "      <td>0</td>\n",
       "      <td>0</td>\n",
       "      <td>0</td>\n",
       "      <td>0</td>\n",
       "      <td>0</td>\n",
       "      <td>0</td>\n",
       "      <td>0</td>\n",
       "      <td>0</td>\n",
       "    </tr>\n",
       "    <tr>\n",
       "      <th>6149</th>\n",
       "      <td>1</td>\n",
       "      <td>0</td>\n",
       "      <td>0</td>\n",
       "      <td>0</td>\n",
       "      <td>0</td>\n",
       "      <td>0</td>\n",
       "      <td>0</td>\n",
       "      <td>0</td>\n",
       "      <td>0</td>\n",
       "      <td>0</td>\n",
       "      <td>...</td>\n",
       "      <td>0</td>\n",
       "      <td>0</td>\n",
       "      <td>0</td>\n",
       "      <td>0</td>\n",
       "      <td>0</td>\n",
       "      <td>0</td>\n",
       "      <td>0</td>\n",
       "      <td>0</td>\n",
       "      <td>0</td>\n",
       "      <td>0</td>\n",
       "    </tr>\n",
       "    <tr>\n",
       "      <th>6150</th>\n",
       "      <td>0</td>\n",
       "      <td>0</td>\n",
       "      <td>0</td>\n",
       "      <td>0</td>\n",
       "      <td>0</td>\n",
       "      <td>0</td>\n",
       "      <td>0</td>\n",
       "      <td>0</td>\n",
       "      <td>0</td>\n",
       "      <td>0</td>\n",
       "      <td>...</td>\n",
       "      <td>0</td>\n",
       "      <td>0</td>\n",
       "      <td>0</td>\n",
       "      <td>0</td>\n",
       "      <td>0</td>\n",
       "      <td>0</td>\n",
       "      <td>0</td>\n",
       "      <td>0</td>\n",
       "      <td>0</td>\n",
       "      <td>0</td>\n",
       "    </tr>\n",
       "  </tbody>\n",
       "</table>\n",
       "<p>6151 rows × 749 columns</p>\n",
       "</div>"
      ],
      "text/plain": [
       "     Morgan_1 Morgan_2 Morgan_4 Morgan_5 Morgan_6 Morgan_8 Morgan_9 Morgan_11  \\\n",
       "0           1        0        0        0        0        0        0         0   \n",
       "1           0        0        0        0        0        0        0         0   \n",
       "2           0        0        0        0        0        0        0         0   \n",
       "3           0        0        0        0        0        0        0         0   \n",
       "4           1        0        0        0        0        1        0         0   \n",
       "...       ...      ...      ...      ...      ...      ...      ...       ...   \n",
       "6146        0        0        0        1        0        0        0         0   \n",
       "6147        0        0        0        0        0        0        0         0   \n",
       "6148        0        0        0        0        0        0        0         0   \n",
       "6149        1        0        0        0        0        0        0         0   \n",
       "6150        0        0        0        0        0        0        0         0   \n",
       "\n",
       "     Morgan_13 Morgan_14  ... Morgan_2009 Morgan_2014 Morgan_2018 Morgan_2020  \\\n",
       "0            0         0  ...           0           0           0           0   \n",
       "1            0         0  ...           0           0           0           0   \n",
       "2            0         0  ...           0           0           0           0   \n",
       "3            0         0  ...           0           0           0           0   \n",
       "4            0         0  ...           0           0           0           0   \n",
       "...        ...       ...  ...         ...         ...         ...         ...   \n",
       "6146         0         0  ...           0           0           0           1   \n",
       "6147         0         0  ...           0           0           0           0   \n",
       "6148         0         0  ...           0           0           0           0   \n",
       "6149         0         0  ...           0           0           0           0   \n",
       "6150         0         0  ...           0           0           0           0   \n",
       "\n",
       "     Morgan_2026 Morgan_2038 Morgan_2041 Morgan_2042 Morgan_2044 Morgan_2045  \n",
       "0              0           0           0           0           0           0  \n",
       "1              0           0           0           0           0           0  \n",
       "2              0           1           0           0           0           0  \n",
       "3              0           0           0           0           0           0  \n",
       "4              0           0           0           0           0           0  \n",
       "...          ...         ...         ...         ...         ...         ...  \n",
       "6146           0           0           0           0           0           0  \n",
       "6147           0           0           0           0           0           0  \n",
       "6148           0           0           0           0           0           0  \n",
       "6149           0           0           0           0           0           0  \n",
       "6150           0           0           0           0           0           0  \n",
       "\n",
       "[6151 rows x 749 columns]"
      ]
     },
     "execution_count": 118,
     "metadata": {},
     "output_type": "execute_result"
    }
   ],
   "source": [
    "subset"
   ]
  },
  {
   "cell_type": "code",
   "execution_count": 119,
   "metadata": {
    "colab": {
     "base_uri": "https://localhost:8080/",
     "height": 443
    },
    "id": "0Jth-OuzGDrd",
    "outputId": "f15a72e5-f636-4efc-88d9-11ec312fb10e"
   },
   "outputs": [
    {
     "data": {
      "text/html": [
       "<div>\n",
       "<style scoped>\n",
       "    .dataframe tbody tr th:only-of-type {\n",
       "        vertical-align: middle;\n",
       "    }\n",
       "\n",
       "    .dataframe tbody tr th {\n",
       "        vertical-align: top;\n",
       "    }\n",
       "\n",
       "    .dataframe thead th {\n",
       "        text-align: right;\n",
       "    }\n",
       "</style>\n",
       "<table border=\"1\" class=\"dataframe\">\n",
       "  <thead>\n",
       "    <tr style=\"text-align: right;\">\n",
       "      <th></th>\n",
       "      <th>Morgan_1</th>\n",
       "      <th>Morgan_2</th>\n",
       "      <th>Morgan_4</th>\n",
       "      <th>Morgan_5</th>\n",
       "      <th>Morgan_6</th>\n",
       "      <th>Morgan_8</th>\n",
       "      <th>Morgan_9</th>\n",
       "      <th>Morgan_11</th>\n",
       "      <th>Morgan_13</th>\n",
       "      <th>Morgan_14</th>\n",
       "      <th>...</th>\n",
       "      <th>Morgan_2009</th>\n",
       "      <th>Morgan_2014</th>\n",
       "      <th>Morgan_2018</th>\n",
       "      <th>Morgan_2020</th>\n",
       "      <th>Morgan_2026</th>\n",
       "      <th>Morgan_2038</th>\n",
       "      <th>Morgan_2041</th>\n",
       "      <th>Morgan_2042</th>\n",
       "      <th>Morgan_2044</th>\n",
       "      <th>Morgan_2045</th>\n",
       "    </tr>\n",
       "  </thead>\n",
       "  <tbody>\n",
       "    <tr>\n",
       "      <th>0</th>\n",
       "      <td>1</td>\n",
       "      <td>0</td>\n",
       "      <td>0</td>\n",
       "      <td>0</td>\n",
       "      <td>0</td>\n",
       "      <td>0</td>\n",
       "      <td>0</td>\n",
       "      <td>0</td>\n",
       "      <td>0</td>\n",
       "      <td>0</td>\n",
       "      <td>...</td>\n",
       "      <td>0</td>\n",
       "      <td>0</td>\n",
       "      <td>0</td>\n",
       "      <td>0</td>\n",
       "      <td>0</td>\n",
       "      <td>0</td>\n",
       "      <td>0</td>\n",
       "      <td>0</td>\n",
       "      <td>0</td>\n",
       "      <td>0</td>\n",
       "    </tr>\n",
       "    <tr>\n",
       "      <th>1</th>\n",
       "      <td>0</td>\n",
       "      <td>0</td>\n",
       "      <td>0</td>\n",
       "      <td>0</td>\n",
       "      <td>0</td>\n",
       "      <td>0</td>\n",
       "      <td>0</td>\n",
       "      <td>0</td>\n",
       "      <td>0</td>\n",
       "      <td>0</td>\n",
       "      <td>...</td>\n",
       "      <td>0</td>\n",
       "      <td>0</td>\n",
       "      <td>0</td>\n",
       "      <td>0</td>\n",
       "      <td>0</td>\n",
       "      <td>0</td>\n",
       "      <td>0</td>\n",
       "      <td>0</td>\n",
       "      <td>0</td>\n",
       "      <td>0</td>\n",
       "    </tr>\n",
       "    <tr>\n",
       "      <th>2</th>\n",
       "      <td>0</td>\n",
       "      <td>0</td>\n",
       "      <td>0</td>\n",
       "      <td>0</td>\n",
       "      <td>0</td>\n",
       "      <td>0</td>\n",
       "      <td>0</td>\n",
       "      <td>0</td>\n",
       "      <td>0</td>\n",
       "      <td>0</td>\n",
       "      <td>...</td>\n",
       "      <td>0</td>\n",
       "      <td>0</td>\n",
       "      <td>0</td>\n",
       "      <td>0</td>\n",
       "      <td>0</td>\n",
       "      <td>1</td>\n",
       "      <td>0</td>\n",
       "      <td>0</td>\n",
       "      <td>0</td>\n",
       "      <td>0</td>\n",
       "    </tr>\n",
       "    <tr>\n",
       "      <th>3</th>\n",
       "      <td>0</td>\n",
       "      <td>0</td>\n",
       "      <td>0</td>\n",
       "      <td>0</td>\n",
       "      <td>0</td>\n",
       "      <td>0</td>\n",
       "      <td>0</td>\n",
       "      <td>0</td>\n",
       "      <td>0</td>\n",
       "      <td>0</td>\n",
       "      <td>...</td>\n",
       "      <td>0</td>\n",
       "      <td>0</td>\n",
       "      <td>0</td>\n",
       "      <td>0</td>\n",
       "      <td>0</td>\n",
       "      <td>0</td>\n",
       "      <td>0</td>\n",
       "      <td>0</td>\n",
       "      <td>0</td>\n",
       "      <td>0</td>\n",
       "    </tr>\n",
       "    <tr>\n",
       "      <th>4</th>\n",
       "      <td>1</td>\n",
       "      <td>0</td>\n",
       "      <td>0</td>\n",
       "      <td>0</td>\n",
       "      <td>0</td>\n",
       "      <td>1</td>\n",
       "      <td>0</td>\n",
       "      <td>0</td>\n",
       "      <td>0</td>\n",
       "      <td>0</td>\n",
       "      <td>...</td>\n",
       "      <td>0</td>\n",
       "      <td>0</td>\n",
       "      <td>0</td>\n",
       "      <td>0</td>\n",
       "      <td>0</td>\n",
       "      <td>0</td>\n",
       "      <td>0</td>\n",
       "      <td>0</td>\n",
       "      <td>0</td>\n",
       "      <td>0</td>\n",
       "    </tr>\n",
       "    <tr>\n",
       "      <th>...</th>\n",
       "      <td>...</td>\n",
       "      <td>...</td>\n",
       "      <td>...</td>\n",
       "      <td>...</td>\n",
       "      <td>...</td>\n",
       "      <td>...</td>\n",
       "      <td>...</td>\n",
       "      <td>...</td>\n",
       "      <td>...</td>\n",
       "      <td>...</td>\n",
       "      <td>...</td>\n",
       "      <td>...</td>\n",
       "      <td>...</td>\n",
       "      <td>...</td>\n",
       "      <td>...</td>\n",
       "      <td>...</td>\n",
       "      <td>...</td>\n",
       "      <td>...</td>\n",
       "      <td>...</td>\n",
       "      <td>...</td>\n",
       "      <td>...</td>\n",
       "    </tr>\n",
       "    <tr>\n",
       "      <th>6146</th>\n",
       "      <td>0</td>\n",
       "      <td>0</td>\n",
       "      <td>0</td>\n",
       "      <td>1</td>\n",
       "      <td>0</td>\n",
       "      <td>0</td>\n",
       "      <td>0</td>\n",
       "      <td>0</td>\n",
       "      <td>0</td>\n",
       "      <td>0</td>\n",
       "      <td>...</td>\n",
       "      <td>0</td>\n",
       "      <td>0</td>\n",
       "      <td>0</td>\n",
       "      <td>1</td>\n",
       "      <td>0</td>\n",
       "      <td>0</td>\n",
       "      <td>0</td>\n",
       "      <td>0</td>\n",
       "      <td>0</td>\n",
       "      <td>0</td>\n",
       "    </tr>\n",
       "    <tr>\n",
       "      <th>6147</th>\n",
       "      <td>0</td>\n",
       "      <td>0</td>\n",
       "      <td>0</td>\n",
       "      <td>0</td>\n",
       "      <td>0</td>\n",
       "      <td>0</td>\n",
       "      <td>0</td>\n",
       "      <td>0</td>\n",
       "      <td>0</td>\n",
       "      <td>0</td>\n",
       "      <td>...</td>\n",
       "      <td>0</td>\n",
       "      <td>0</td>\n",
       "      <td>0</td>\n",
       "      <td>0</td>\n",
       "      <td>0</td>\n",
       "      <td>0</td>\n",
       "      <td>0</td>\n",
       "      <td>0</td>\n",
       "      <td>0</td>\n",
       "      <td>0</td>\n",
       "    </tr>\n",
       "    <tr>\n",
       "      <th>6148</th>\n",
       "      <td>0</td>\n",
       "      <td>0</td>\n",
       "      <td>0</td>\n",
       "      <td>0</td>\n",
       "      <td>0</td>\n",
       "      <td>0</td>\n",
       "      <td>0</td>\n",
       "      <td>0</td>\n",
       "      <td>0</td>\n",
       "      <td>0</td>\n",
       "      <td>...</td>\n",
       "      <td>0</td>\n",
       "      <td>0</td>\n",
       "      <td>0</td>\n",
       "      <td>0</td>\n",
       "      <td>0</td>\n",
       "      <td>0</td>\n",
       "      <td>0</td>\n",
       "      <td>0</td>\n",
       "      <td>0</td>\n",
       "      <td>0</td>\n",
       "    </tr>\n",
       "    <tr>\n",
       "      <th>6149</th>\n",
       "      <td>1</td>\n",
       "      <td>0</td>\n",
       "      <td>0</td>\n",
       "      <td>0</td>\n",
       "      <td>0</td>\n",
       "      <td>0</td>\n",
       "      <td>0</td>\n",
       "      <td>0</td>\n",
       "      <td>0</td>\n",
       "      <td>0</td>\n",
       "      <td>...</td>\n",
       "      <td>0</td>\n",
       "      <td>0</td>\n",
       "      <td>0</td>\n",
       "      <td>0</td>\n",
       "      <td>0</td>\n",
       "      <td>0</td>\n",
       "      <td>0</td>\n",
       "      <td>0</td>\n",
       "      <td>0</td>\n",
       "      <td>0</td>\n",
       "    </tr>\n",
       "    <tr>\n",
       "      <th>6150</th>\n",
       "      <td>0</td>\n",
       "      <td>0</td>\n",
       "      <td>0</td>\n",
       "      <td>0</td>\n",
       "      <td>0</td>\n",
       "      <td>0</td>\n",
       "      <td>0</td>\n",
       "      <td>0</td>\n",
       "      <td>0</td>\n",
       "      <td>0</td>\n",
       "      <td>...</td>\n",
       "      <td>0</td>\n",
       "      <td>0</td>\n",
       "      <td>0</td>\n",
       "      <td>0</td>\n",
       "      <td>0</td>\n",
       "      <td>0</td>\n",
       "      <td>0</td>\n",
       "      <td>0</td>\n",
       "      <td>0</td>\n",
       "      <td>0</td>\n",
       "    </tr>\n",
       "  </tbody>\n",
       "</table>\n",
       "<p>6123 rows × 749 columns</p>\n",
       "</div>"
      ],
      "text/plain": [
       "     Morgan_1 Morgan_2 Morgan_4 Morgan_5 Morgan_6 Morgan_8 Morgan_9 Morgan_11  \\\n",
       "0           1        0        0        0        0        0        0         0   \n",
       "1           0        0        0        0        0        0        0         0   \n",
       "2           0        0        0        0        0        0        0         0   \n",
       "3           0        0        0        0        0        0        0         0   \n",
       "4           1        0        0        0        0        1        0         0   \n",
       "...       ...      ...      ...      ...      ...      ...      ...       ...   \n",
       "6146        0        0        0        1        0        0        0         0   \n",
       "6147        0        0        0        0        0        0        0         0   \n",
       "6148        0        0        0        0        0        0        0         0   \n",
       "6149        1        0        0        0        0        0        0         0   \n",
       "6150        0        0        0        0        0        0        0         0   \n",
       "\n",
       "     Morgan_13 Morgan_14  ... Morgan_2009 Morgan_2014 Morgan_2018 Morgan_2020  \\\n",
       "0            0         0  ...           0           0           0           0   \n",
       "1            0         0  ...           0           0           0           0   \n",
       "2            0         0  ...           0           0           0           0   \n",
       "3            0         0  ...           0           0           0           0   \n",
       "4            0         0  ...           0           0           0           0   \n",
       "...        ...       ...  ...         ...         ...         ...         ...   \n",
       "6146         0         0  ...           0           0           0           1   \n",
       "6147         0         0  ...           0           0           0           0   \n",
       "6148         0         0  ...           0           0           0           0   \n",
       "6149         0         0  ...           0           0           0           0   \n",
       "6150         0         0  ...           0           0           0           0   \n",
       "\n",
       "     Morgan_2026 Morgan_2038 Morgan_2041 Morgan_2042 Morgan_2044 Morgan_2045  \n",
       "0              0           0           0           0           0           0  \n",
       "1              0           0           0           0           0           0  \n",
       "2              0           1           0           0           0           0  \n",
       "3              0           0           0           0           0           0  \n",
       "4              0           0           0           0           0           0  \n",
       "...          ...         ...         ...         ...         ...         ...  \n",
       "6146           0           0           0           0           0           0  \n",
       "6147           0           0           0           0           0           0  \n",
       "6148           0           0           0           0           0           0  \n",
       "6149           0           0           0           0           0           0  \n",
       "6150           0           0           0           0           0           0  \n",
       "\n",
       "[6123 rows x 749 columns]"
      ]
     },
     "execution_count": 119,
     "metadata": {},
     "output_type": "execute_result"
    }
   ],
   "source": [
    "subset = subset.dropna()\n",
    "subset"
   ]
  },
  {
   "cell_type": "code",
   "execution_count": 120,
   "metadata": {
    "colab": {
     "base_uri": "https://localhost:8080/"
    },
    "id": "QUc2FB0aFMgU",
    "outputId": "7d07b770-881f-4f25-be58-b35a591f4b52"
   },
   "outputs": [
    {
     "data": {
      "text/plain": [
       "0       Amb22893395\n",
       "1       Amb22893415\n",
       "2       Amb22893107\n",
       "3       Amb22893398\n",
       "4       Amb22893380\n",
       "           ...     \n",
       "6146    Amb28974300\n",
       "6147    Amb28974565\n",
       "6148    Amb29085726\n",
       "6149    Amb29847129\n",
       "6150    Amb31207333\n",
       "Name: ID, Length: 6151, dtype: object"
      ]
     },
     "execution_count": 120,
     "metadata": {},
     "output_type": "execute_result"
    }
   ],
   "source": [
    "ids = data2['ID']\n",
    "ids"
   ]
  },
  {
   "cell_type": "code",
   "execution_count": 139,
   "metadata": {},
   "outputs": [],
   "source": [
    "smiles = data2['Smiles']"
   ]
  },
  {
   "cell_type": "code",
   "execution_count": 140,
   "metadata": {},
   "outputs": [
    {
     "data": {
      "text/plain": [
       "0       CC(C)C(C(C(CC1)=C2[C@@](C)(CC3)[C@@H]1C(CO1)=C...\n",
       "1       CC(C)(CCC1)[C@H]([C@@H](C2)O)[C@@]1(C)[C@@H](/...\n",
       "2              CC(C)=CCc(c(OC(CC1=O)c2ccccc2)c1c(O)c1)c1O\n",
       "3       CC(C)(CC1)C[C@H]2C3=CC[C@H]([C@@](C)(CC4)[C@@H...\n",
       "4       CC(C)[C@@H](CC[C@@](C)([C@@H](CC1)[C@@H]2[C@]1...\n",
       "                              ...                        \n",
       "6146    C[C@@](CN([C@H]1C2)[C@@H]34)(C[C@@H](C5)O)[C@@...\n",
       "6147    C[C@H](CC[C@H]1[C@H]2C)[C@@H](CC3)[C@]11OO[C@@...\n",
       "6148             C[C@]12O[C@H]1CC(C)(C)/C=C/C/C(/C)=C/CC2\n",
       "6149    CC(C)[C@](CC1)(C[C@H]2O[C@]2(C)CC/C=C(/C)\\CC2)...\n",
       "6150    CN(CC[C@@]1([C@@H]23)c4cccc(O)c4N2C(C2)=O)CC4=...\n",
       "Name: Smiles, Length: 6123, dtype: object"
      ]
     },
     "execution_count": 140,
     "metadata": {},
     "output_type": "execute_result"
    }
   ],
   "source": [
    "smiles = smiles.loc[subset.index]\n",
    "smiles"
   ]
  },
  {
   "cell_type": "code",
   "execution_count": 121,
   "metadata": {
    "colab": {
     "base_uri": "https://localhost:8080/"
    },
    "id": "iLh-r0j3HPBa",
    "outputId": "23596ac2-44d1-4dd3-d622-f4eca7e565f3"
   },
   "outputs": [
    {
     "data": {
      "text/plain": [
       "0       Amb22893395\n",
       "1       Amb22893415\n",
       "2       Amb22893107\n",
       "3       Amb22893398\n",
       "4       Amb22893380\n",
       "           ...     \n",
       "6146    Amb28974300\n",
       "6147    Amb28974565\n",
       "6148    Amb29085726\n",
       "6149    Amb29847129\n",
       "6150    Amb31207333\n",
       "Name: ID, Length: 6123, dtype: object"
      ]
     },
     "execution_count": 121,
     "metadata": {},
     "output_type": "execute_result"
    }
   ],
   "source": [
    "ids = ids.loc[subset.index]\n",
    "ids"
   ]
  },
  {
   "cell_type": "code",
   "execution_count": 122,
   "metadata": {
    "colab": {
     "base_uri": "https://localhost:8080/"
    },
    "id": "G1iQxS3GIUUk",
    "outputId": "7268be04-3d4e-48d8-8fb4-3516f4fbec06"
   },
   "outputs": [
    {
     "data": {
      "text/plain": [
       "0       Amb22893395\n",
       "1       Amb22893415\n",
       "2       Amb22893107\n",
       "3       Amb22893398\n",
       "4       Amb22893380\n",
       "           ...     \n",
       "6146    Amb28974300\n",
       "6147    Amb28974565\n",
       "6148    Amb29085726\n",
       "6149    Amb29847129\n",
       "6150    Amb31207333\n",
       "Name: ID, Length: 6123, dtype: object"
      ]
     },
     "execution_count": 122,
     "metadata": {},
     "output_type": "execute_result"
    }
   ],
   "source": [
    "ids"
   ]
  },
  {
   "cell_type": "code",
   "execution_count": 132,
   "metadata": {},
   "outputs": [],
   "source": [
    "db_predict = (best_model.predict(subset) > 0.5).astype(\"int64\")"
   ]
  },
  {
   "cell_type": "code",
   "execution_count": 133,
   "metadata": {
    "colab": {
     "base_uri": "https://localhost:8080/"
    },
    "id": "j8774H9UIYL9",
    "outputId": "e1a40e13-e4df-4f5e-9214-4e9263de7509"
   },
   "outputs": [
    {
     "data": {
      "text/plain": [
       "(6123,)"
      ]
     },
     "execution_count": 133,
     "metadata": {},
     "output_type": "execute_result"
    }
   ],
   "source": [
    "db_predict.shape"
   ]
  },
  {
   "cell_type": "code",
   "execution_count": 141,
   "metadata": {
    "id": "TrYRaBbyFM3a"
   },
   "outputs": [],
   "source": [
    "db_df = pd.DataFrame(db_predict)\n",
    "db_l = pd.DataFrame(ids)\n",
    "db_smiles = pd.DataFrame(smiles)"
   ]
  },
  {
   "cell_type": "code",
   "execution_count": 142,
   "metadata": {
    "id": "lFmyFLraDFBj"
   },
   "outputs": [],
   "source": [
    "db_final = pd.concat([db_l.reset_index(),db_df, db_smiles.reset_index()], axis=1)\n",
    "db_final = db_final.drop(\"index\", axis=1)\n",
    "db_final.columns = [\"ID\",\"Predicted\", \"Smiles\"]"
   ]
  },
  {
   "cell_type": "markdown",
   "metadata": {},
   "source": [
    "## 10. Save the output predictions\n",
    "\n",
    "To enable further examination, and integration with other tools, we  save the model's predictions on the Ambinter dataset.\n"
   ]
  },
  {
   "cell_type": "code",
   "execution_count": 150,
   "metadata": {
    "colab": {
     "base_uri": "https://localhost:8080/",
     "height": 423
    },
    "id": "d4fRCTgCDFES",
    "outputId": "9a59a3f4-81d5-4bdc-be53-3816df3245e3"
   },
   "outputs": [
    {
     "data": {
      "text/html": [
       "<div>\n",
       "<style scoped>\n",
       "    .dataframe tbody tr th:only-of-type {\n",
       "        vertical-align: middle;\n",
       "    }\n",
       "\n",
       "    .dataframe tbody tr th {\n",
       "        vertical-align: top;\n",
       "    }\n",
       "\n",
       "    .dataframe thead th {\n",
       "        text-align: right;\n",
       "    }\n",
       "</style>\n",
       "<table border=\"1\" class=\"dataframe\">\n",
       "  <thead>\n",
       "    <tr style=\"text-align: right;\">\n",
       "      <th></th>\n",
       "      <th>ID</th>\n",
       "      <th>Predicted</th>\n",
       "      <th>Smiles</th>\n",
       "    </tr>\n",
       "  </thead>\n",
       "  <tbody>\n",
       "    <tr>\n",
       "      <th>0</th>\n",
       "      <td>Amb22893107</td>\n",
       "      <td>1</td>\n",
       "      <td>CC(C)=CCc(c(OC(CC1=O)c2ccccc2)c1c(O)c1)c1O</td>\n",
       "    </tr>\n",
       "    <tr>\n",
       "      <th>1</th>\n",
       "      <td>Amb24052177</td>\n",
       "      <td>1</td>\n",
       "      <td>C[C@H](Cc(c(-c(c(OC)c1OC)c(C2)cc1OC)c1O)cc(OC)...</td>\n",
       "    </tr>\n",
       "    <tr>\n",
       "      <th>2</th>\n",
       "      <td>Amb22893307</td>\n",
       "      <td>1</td>\n",
       "      <td>C[C@H](Cc(cc1OCOc1c1OC)c1-c1c2O)[C@@H](C)Cc1cc...</td>\n",
       "    </tr>\n",
       "    <tr>\n",
       "      <th>3</th>\n",
       "      <td>Amb1349101</td>\n",
       "      <td>1</td>\n",
       "      <td>Oc(cccc1C(c2cccc(O)c22)=O)c1C2=O</td>\n",
       "    </tr>\n",
       "    <tr>\n",
       "      <th>4</th>\n",
       "      <td>Amb2719715</td>\n",
       "      <td>1</td>\n",
       "      <td>Oc(cccc1C(C=C2)=O)c1C2=O</td>\n",
       "    </tr>\n",
       "    <tr>\n",
       "      <th>...</th>\n",
       "      <td>...</td>\n",
       "      <td>...</td>\n",
       "      <td>...</td>\n",
       "    </tr>\n",
       "    <tr>\n",
       "      <th>1188</th>\n",
       "      <td>Amb29847160</td>\n",
       "      <td>1</td>\n",
       "      <td>O[C@@](C[C@@](C1=C2CCC[C@@]11)OC2=O)[C@@]1(C[C...</td>\n",
       "    </tr>\n",
       "    <tr>\n",
       "      <th>1189</th>\n",
       "      <td>Amb30406008</td>\n",
       "      <td>1</td>\n",
       "      <td>C[C@H](C[C@@H]1C(C)(C)[C@H]1[C@H]1C=C(COC(C)=O...</td>\n",
       "    </tr>\n",
       "    <tr>\n",
       "      <th>1190</th>\n",
       "      <td>Amb23438601</td>\n",
       "      <td>1</td>\n",
       "      <td>CC(C)([C@H](C1)OC(/C(/C)=C/C)=O)Oc(cc2)c1c(O1)...</td>\n",
       "    </tr>\n",
       "    <tr>\n",
       "      <th>1191</th>\n",
       "      <td>Amb22800610</td>\n",
       "      <td>1</td>\n",
       "      <td>COc(ccc(C1=COc(cc(cc2O)O)c2C1=O)c1)c1O</td>\n",
       "    </tr>\n",
       "    <tr>\n",
       "      <th>1192</th>\n",
       "      <td>Amb31207333</td>\n",
       "      <td>1</td>\n",
       "      <td>C[C@@H](C/C(/C(O[C@H](CCN(C)C/C=C1/COC2=O)C1=O...</td>\n",
       "    </tr>\n",
       "  </tbody>\n",
       "</table>\n",
       "<p>1193 rows × 3 columns</p>\n",
       "</div>"
      ],
      "text/plain": [
       "               ID  Predicted  \\\n",
       "0     Amb22893107          1   \n",
       "1     Amb24052177          1   \n",
       "2     Amb22893307          1   \n",
       "3      Amb1349101          1   \n",
       "4      Amb2719715          1   \n",
       "...           ...        ...   \n",
       "1188  Amb29847160          1   \n",
       "1189  Amb30406008          1   \n",
       "1190  Amb23438601          1   \n",
       "1191  Amb22800610          1   \n",
       "1192  Amb31207333          1   \n",
       "\n",
       "                                                 Smiles  \n",
       "0            CC(C)=CCc(c(OC(CC1=O)c2ccccc2)c1c(O)c1)c1O  \n",
       "1     C[C@H](Cc(c(-c(c(OC)c1OC)c(C2)cc1OC)c1O)cc(OC)...  \n",
       "2     C[C@H](Cc(cc1OCOc1c1OC)c1-c1c2O)[C@@H](C)Cc1cc...  \n",
       "3                      Oc(cccc1C(c2cccc(O)c22)=O)c1C2=O  \n",
       "4                              Oc(cccc1C(C=C2)=O)c1C2=O  \n",
       "...                                                 ...  \n",
       "1188  O[C@@](C[C@@](C1=C2CCC[C@@]11)OC2=O)[C@@]1(C[C...  \n",
       "1189  C[C@H](C[C@@H]1C(C)(C)[C@H]1[C@H]1C=C(COC(C)=O...  \n",
       "1190  CC(C)([C@H](C1)OC(/C(/C)=C/C)=O)Oc(cc2)c1c(O1)...  \n",
       "1191             COc(ccc(C1=COc(cc(cc2O)O)c2C1=O)c1)c1O  \n",
       "1192  C[C@@H](C/C(/C(O[C@H](CCN(C)C/C=C1/COC2=O)C1=O...  \n",
       "\n",
       "[1193 rows x 3 columns]"
      ]
     },
     "execution_count": 150,
     "metadata": {},
     "output_type": "execute_result"
    }
   ],
   "source": [
    "# Filter the DataFrame to keep only rows where Predicted == 1\n",
    "db_final = db_final[db_final[\"Predicted\"] == 1]"
   ]
  },
  {
   "cell_type": "code",
   "execution_count": 146,
   "metadata": {
    "id": "rlx5alrHC6Ki"
   },
   "outputs": [],
   "source": [
    "# Save only the \"Predicted\" column with 1 value and omit 0\n",
    "db_final.to_csv(\"ambinter/ambinter_ro5_prediction_results.csv\")"
   ]
  }
 ],
 "metadata": {
  "colab": {
   "provenance": []
  },
  "kernelspec": {
   "display_name": "Python 3 (ipykernel)",
   "language": "python",
   "name": "python3"
  },
  "language_info": {
   "codemirror_mode": {
    "name": "ipython",
    "version": 3
   },
   "file_extension": ".py",
   "mimetype": "text/x-python",
   "name": "python",
   "nbconvert_exporter": "python",
   "pygments_lexer": "ipython3",
   "version": "3.11.7"
  }
 },
 "nbformat": 4,
 "nbformat_minor": 4
}
